{
 "cells": [
  {
   "cell_type": "markdown",
   "metadata": {},
   "source": [
    "### Imports"
   ]
  },
  {
   "cell_type": "code",
   "execution_count": null,
   "metadata": {},
   "outputs": [],
   "source": [
    "import os\n",
    "import math\n",
    "from six.moves import cPickle as cp\n",
    "\n",
    "import numpy as np\n",
    "from sklearn.manifold import TSNE\n",
    "from sklearn.cluster import KMeans\n",
    "from sklearn.decomposition import PCA\n",
    "import matplotlib.pyplot as plt\n",
    "from matplotlib.lines import Line2D\n",
    "import seaborn as sns\n",
    "sns.set()"
   ]
  },
  {
   "cell_type": "code",
   "execution_count": null,
   "metadata": {},
   "outputs": [],
   "source": [
    "import mixtureofconcave as subm\n",
    "import determinantal as logsubm\n",
    "import plottingtools"
   ]
  },
  {
   "cell_type": "code",
   "execution_count": null,
   "metadata": {},
   "outputs": [],
   "source": [
    "data_dir = os.getcwd() + \"/imagesumm/\""
   ]
  },
  {
   "cell_type": "code",
   "execution_count": null,
   "metadata": {},
   "outputs": [],
   "source": [
    "idx = 4"
   ]
  },
  {
   "cell_type": "markdown",
   "metadata": {},
   "source": [
    "### Plottingtools"
   ]
  },
  {
   "cell_type": "code",
   "execution_count": null,
   "metadata": {},
   "outputs": [],
   "source": [
    "def plotall(direc, n):\n",
    "    ncol = np.floor(np.sqrt(n)); nrow = n//ncol + 1\n",
    "    \n",
    "    plt.figure(figsize=(20,20))\n",
    "    for i in range(n):\n",
    "        plt.subplot(nrow, ncol, i+1)\n",
    "        img = plt.imread(direc + \"{}.jpg\".format(i+1))\n",
    "        plt.axis(\"off\")\n",
    "        plt.imshow(img)"
   ]
  },
  {
   "cell_type": "code",
   "execution_count": null,
   "metadata": {},
   "outputs": [],
   "source": [
    "def plotsumm(direc, n, S):\n",
    "    k = len(S)\n",
    "    \n",
    "    plt.figure(figsize=(2*k,2))\n",
    "    for i in range(k):\n",
    "        plt.subplot(1, k, i+1)\n",
    "        img = plt.imread(direc + \"{}.jpg\".format(S[i]+1))\n",
    "        plt.axis(\"off\")\n",
    "        plt.imshow(img)\n",
    "        "
   ]
  },
  {
   "cell_type": "code",
   "execution_count": null,
   "metadata": {},
   "outputs": [],
   "source": [
    "# plotall(data_dir+\"set{}/\".format(idx+1), 100)\n",
    "# plotsumm(data_dir+\"set{}/\".format(idx+1), 100, np.random.choice(100, 10))"
   ]
  },
  {
   "cell_type": "markdown",
   "metadata": {},
   "source": [
    "### Get feature matrix"
   ]
  },
  {
   "cell_type": "code",
   "execution_count": null,
   "metadata": {},
   "outputs": [],
   "source": [
    "from scipy import io\n",
    "proc_data = {} #empty dictionary\n",
    "io.loadmat(data_dir+'processed_data.mat', mdict=proc_data);"
   ]
  },
  {
   "cell_type": "code",
   "execution_count": null,
   "metadata": {},
   "outputs": [],
   "source": [
    "X = proc_data[\"all_Feature_Vec\"]"
   ]
  },
  {
   "cell_type": "code",
   "execution_count": null,
   "metadata": {},
   "outputs": [],
   "source": [
    "X = X[:,idx][0]"
   ]
  },
  {
   "cell_type": "code",
   "execution_count": null,
   "metadata": {},
   "outputs": [],
   "source": []
  },
  {
   "cell_type": "markdown",
   "metadata": {},
   "source": [
    "### Get learnt weights"
   ]
  },
  {
   "cell_type": "code",
   "execution_count": null,
   "metadata": {},
   "outputs": [],
   "source": [
    "# resultfile = \"w_collection{}_n.save\".format(idx+1)\n",
    "# opfile = open(data_dir + resultfile, \"rb\")\n",
    "# resultdict = cp.load(opfile, encoding=\"bytes\")\n",
    "# opfile.close()\n",
    "\n",
    "# resultdict.keys()\n",
    "# Cinv = resultdict[b'Cinv']\n",
    "# Yvec = resultdict[b'Yvec']\n",
    "\n",
    "# wlearnt = np.dot(np.linalg.inv(Cinv), Yvec).flatten()"
   ]
  },
  {
   "cell_type": "code",
   "execution_count": null,
   "metadata": {},
   "outputs": [],
   "source": []
  },
  {
   "cell_type": "code",
   "execution_count": null,
   "metadata": {},
   "outputs": [],
   "source": [
    "mufile = open(data_dir + \"w_collection{}_vr.save\".format(idx+1), \"rb\")\n",
    "wlearnt = cp.load(mufile)[\"mu\"]\n",
    "mufile.close()"
   ]
  },
  {
   "cell_type": "code",
   "execution_count": null,
   "metadata": {},
   "outputs": [],
   "source": []
  },
  {
   "cell_type": "markdown",
   "metadata": {},
   "source": [
    "### Summarize"
   ]
  },
  {
   "cell_type": "code",
   "execution_count": null,
   "metadata": {},
   "outputs": [],
   "source": [
    "[n_samples, m_features] = X.shape"
   ]
  },
  {
   "cell_type": "code",
   "execution_count": null,
   "metadata": {},
   "outputs": [],
   "source": [
    "#%% Grouping for collection5 (idx=4)\n",
    "assignA = np.array([\n",
    "                    0,0,0,0,0,0,0,0,\n",
    "                    8,\n",
    "                    1,1,1,1,1,1,1,1,1,1,1,1,1,\n",
    "                    2,2,2,2,2,2,2,\n",
    "                    1,1,1,1,1,1,1,1,1,1,1,\n",
    "                    3,3,3,3,3,3,3,3,3,3,3,3,3,3,\n",
    "                    4,4,\n",
    "                    5,5,5,5,\n",
    "                    4,4,4,4,4,4,4,4,4,\n",
    "                    5,5,5,5,5,5,5,\n",
    "                    6,6,6,6,6,\n",
    "                    7,7,7,7,7,7,\n",
    "                    8,8,8,8,8,8,8,\n",
    "                    9,9,9,9,\n",
    "                    10,10\n",
    "                   ])\n",
    "\n",
    "assignB = np.array([\n",
    "                    0,0,0,0,0,0,0,0,\n",
    "                    6,\n",
    "                    1,1,1,1,1,1,1,1,1,1,1,1,1,\n",
    "                    2,2,2,2,2,2,2,\n",
    "                    1,1,1,1,1,1,1,1,1,1,1,\n",
    "                    2,2,2,2,2,2,2,2,2,2,2,2,2,2,\n",
    "                    3,3,\n",
    "                    3,3,3,3,\n",
    "                    3,3,3,3,3,3,3,3,3,\n",
    "                    3,3,3,3,3,3,3,\n",
    "                    4,4,4,4,4,\n",
    "                    5,5,5,5,5,5,\n",
    "                    6,6,6,6,6,6,6,\n",
    "                    7,7,7,7,\n",
    "                    7,7\n",
    "                   ])\n",
    "\n",
    "np.random.seed(0)\n",
    "assignR = np.random.choice(7, 100)"
   ]
  },
  {
   "cell_type": "code",
   "execution_count": null,
   "metadata": {},
   "outputs": [],
   "source": []
  },
  {
   "cell_type": "code",
   "execution_count": null,
   "metadata": {},
   "outputs": [],
   "source": [
    "#%% Quotas for collection5 (idx=4), assignA\n",
    "\n",
    "p_groups = len(np.unique(assignA))\n",
    "memcolors = np.array([\"#11{:02X}dd\".format(pp) for pp in np.arange(0, 256, 256//p_groups)])\n",
    "\n",
    "Memvec = np.eye(p_groups)[assignA].astype(int)\n",
    "print(np.sum(Memvec, axis=0))\n",
    "\n",
    "quo = np.array([1,1,1,1,1,0,1,1,1,1,0])\n",
    "\n",
    "k_budget = 15"
   ]
  },
  {
   "cell_type": "code",
   "execution_count": null,
   "metadata": {},
   "outputs": [],
   "source": [
    "#%% Quotas for collection5 (idx=4), assignB\n",
    "\n",
    "p_groups = len(np.unique(assignB))\n",
    "memcolors = np.array([\"#11{:02X}dd\".format(pp) for pp in np.arange(0, 256, 256//p_groups)])\n",
    "\n",
    "Memvec = np.eye(p_groups)[assignB].astype(int)\n",
    "print(np.sum(Memvec, axis=0))\n",
    "\n",
    "quo = np.array([1,0,1,1,1,1,1,0])\n",
    "\n",
    "k_budget = 10"
   ]
  },
  {
   "cell_type": "code",
   "execution_count": null,
   "metadata": {},
   "outputs": [],
   "source": [
    "#%% Quotas for collection5 (idx=4), assignR\n",
    "\n",
    "p_groups = len(np.unique(assignR))\n",
    "memcolors = np.array([\"#11{:02X}dd\".format(pp) for pp in np.arange(0, 256, 256//p_groups)])\n",
    "\n",
    "Memvec = np.eye(p_groups)[assignR].astype(int)\n",
    "print(np.sum(Memvec, axis=0))\n",
    "\n",
    "quo = np.array([1,1,0,2,1,0,1])\n",
    "\n",
    "k_budget = 15"
   ]
  },
  {
   "cell_type": "code",
   "execution_count": null,
   "metadata": {},
   "outputs": [],
   "source": [
    "S_s, objectives_s = subm.greedygains_submod(None, X, wlearnt, k_budget)\n",
    "S_sq, objectives_sq = subm.greedyDMquota_submod(None, X, wlearnt, Memvec, quo, k_budget)\n",
    "S_r = np.random.choice(n_samples, k_budget)\n",
    "objective_sr = subm.submodgains(X, np.sum(X[S_r,:], axis=0), 0, None, wlearnt)\n",
    "\n",
    "print(\"Objective without quota\", objectives_s[-1])\n",
    "plotsumm(data_dir+\"set{}/\".format(idx+1), n_samples, np.sort(S_s))\n",
    "print(\"Objective with quota\", objectives_sq[-1])\n",
    "plotsumm(data_dir+\"set{}/\".format(idx+1), n_samples, np.sort(S_sq))\n",
    "print(\"Objective of random selection\", objective_sr)\n",
    "plotsumm(data_dir+\"set{}/\".format(idx+1), n_samples, np.sort(S_r))\n",
    "\n",
    "plt.figure(figsize=(15,5))\n",
    "plt.subplot(1,3,1)\n",
    "plottingtools.vizbalance_MQ(np.arange(n_samples), Memvec, \"darkcyan\", quo, S_s, \"darkorange\", \"SPP\")\n",
    "plt.subplot(1,3,2)\n",
    "plottingtools.vizbalance_MQ(np.arange(n_samples), Memvec, \"darkcyan\", quo, S_sq, \"yellowgreen\", \"SPP-DMQ\")\n",
    "plt.subplot(1,3,3)\n",
    "plottingtools.vizbalance_MQ(np.arange(n_samples), Memvec, \"darkcyan\", quo, S_r, \"indianred\", \"Random\")"
   ]
  },
  {
   "cell_type": "code",
   "execution_count": null,
   "metadata": {},
   "outputs": [],
   "source": [
    "# In sorted order\n",
    "print(np.sort(S_s))\n",
    "print(np.sort(S_sq))"
   ]
  },
  {
   "cell_type": "code",
   "execution_count": null,
   "metadata": {},
   "outputs": [],
   "source": [
    "# In unsorted order\n",
    "print(S_s); print(assignR[S_s])\n",
    "plotsumm(data_dir+\"set{}/\".format(idx+1), n_samples, S_s)\n",
    "print(S_sq); print(assignR[S_sq])\n",
    "plotsumm(data_dir+\"set{}/\".format(idx+1), n_samples, S_sq)"
   ]
  },
  {
   "cell_type": "code",
   "execution_count": null,
   "metadata": {},
   "outputs": [],
   "source": []
  },
  {
   "cell_type": "code",
   "execution_count": null,
   "metadata": {},
   "outputs": [],
   "source": []
  },
  {
   "cell_type": "code",
   "execution_count": null,
   "metadata": {},
   "outputs": [],
   "source": [
    " "
   ]
  },
  {
   "cell_type": "code",
   "execution_count": null,
   "metadata": {},
   "outputs": [],
   "source": []
  },
  {
   "cell_type": "code",
   "execution_count": null,
   "metadata": {},
   "outputs": [],
   "source": [
    "plotall(data_dir+\"set{}/\".format(idx+1), 100)"
   ]
  },
  {
   "cell_type": "code",
   "execution_count": null,
   "metadata": {},
   "outputs": [],
   "source": []
  },
  {
   "cell_type": "code",
   "execution_count": null,
   "metadata": {},
   "outputs": [],
   "source": []
  },
  {
   "cell_type": "code",
   "execution_count": null,
   "metadata": {},
   "outputs": [],
   "source": []
  }
 ],
 "metadata": {
  "kernelspec": {
   "display_name": "Python 3",
   "language": "python",
   "name": "python3"
  },
  "language_info": {
   "codemirror_mode": {
    "name": "ipython",
    "version": 3
   },
   "file_extension": ".py",
   "mimetype": "text/x-python",
   "name": "python",
   "nbconvert_exporter": "python",
   "pygments_lexer": "ipython3",
   "version": "3.7.6"
  },
  "varInspector": {
   "cols": {
    "lenName": 16,
    "lenType": 16,
    "lenVar": 40
   },
   "kernels_config": {
    "python": {
     "delete_cmd_postfix": "",
     "delete_cmd_prefix": "del ",
     "library": "var_list.py",
     "varRefreshCmd": "print(var_dic_list())"
    },
    "r": {
     "delete_cmd_postfix": ") ",
     "delete_cmd_prefix": "rm(",
     "library": "var_list.r",
     "varRefreshCmd": "cat(var_dic_list()) "
    }
   },
   "types_to_exclude": [
    "module",
    "function",
    "builtin_function_or_method",
    "instance",
    "_Feature"
   ],
   "window_display": false
  }
 },
 "nbformat": 4,
 "nbformat_minor": 4
}
