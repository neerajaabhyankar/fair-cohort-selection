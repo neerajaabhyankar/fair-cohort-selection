{
 "cells": [
  {
   "cell_type": "markdown",
   "metadata": {},
   "source": [
    "## Imports"
   ]
  },
  {
   "cell_type": "code",
   "execution_count": 1,
   "metadata": {},
   "outputs": [],
   "source": [
    "import os\n",
    "import math\n",
    "\n",
    "import numpy as np\n",
    "from sklearn.manifold import TSNE\n",
    "from sklearn.cluster import KMeans\n",
    "from sklearn.decomposition import PCA\n",
    "import matplotlib.pyplot as plt\n",
    "from matplotlib.lines import Line2D\n",
    "import seaborn as sns\n",
    "sns.set()"
   ]
  },
  {
   "cell_type": "code",
   "execution_count": 17,
   "metadata": {},
   "outputs": [],
   "source": [
    "import mixtureofconcave as subm\n",
    "import determinantal as logsubm\n",
    "import plottingtools"
   ]
  },
  {
   "cell_type": "markdown",
   "metadata": {
    "heading_collapsed": true
   },
   "source": [
    "## Plottingtools"
   ]
  },
  {
   "cell_type": "code",
   "execution_count": 3,
   "metadata": {
    "hidden": true
   },
   "outputs": [],
   "source": [
    "def plot_objective_values(eval_objectives, eval_ground, setcolor, groundcolor=None):\n",
    "    \"\"\"\n",
    "    As we greedily build out the set,\n",
    "    we plot the value of the objective f(S_t)\n",
    "    at every stage t\n",
    "    :param eval_objectives: f(S_t) for 0 \\leq t < k\n",
    "    :param eval_ground: f(V)\n",
    "    :param setcolor: color to plot f(S_t) with\n",
    "    :param groundcolor: color to plot f(V) with\n",
    "    \"\"\"\n",
    "    k = len(eval_objectives)\n",
    "    plt.plot(np.arange(k), eval_objectives, \"o\", c=setcolor, label=\"$f(S_t)$\")\n",
    "    if groundcolor is not None:\n",
    "        plt.plot(np.arange(k), [eval_ground,]*k, \"--\", c=groundcolor, label=\"$f(V)$\")\n",
    "    plt.xlabel(\"$|S_t|$\")\n",
    "    plt.legend(loc=2)"
   ]
  },
  {
   "cell_type": "code",
   "execution_count": 43,
   "metadata": {},
   "outputs": [],
   "source": [
    "def plot_membership_histogram(\n",
    "    memberships, budgets,\n",
    "    S,\n",
    "    setcolor, groundcolor,\n",
    "    budgetlabel=\"budget\", setlabel=\"selection\"\n",
    "):\n",
    "    \"\"\" Given a membership assignment matrix (n x p) and optionally group budgets (min or max),\n",
    "        A selection of indices S of size k < n\n",
    "        Plot the selection's group-wise distribution\n",
    "        :param memberships: n rows (members), p columns (0 or 1 membership bools)\n",
    "        :param budgets: indices in [n], length k\n",
    "        :param setcolor: color to plot f(S_t) with\n",
    "        :param groundcolor: color to plot f(V) with\n",
    "    \"\"\"\n",
    "    \n",
    "    [n, p] = memberships.shape\n",
    "    k = len(S)\n",
    "    \n",
    "    Vcounts = np.sum(memberships, axis=0)\n",
    "    Scounts = np.sum(memberships[S], axis=0)\n",
    "    if budgetlabel == \"quotas\":\n",
    "        unmet = np.where(Scounts < budgets)[0]\n",
    "    elif budgetlabel == \"capacities\":\n",
    "        unmet = np.where(Scounts < capacities)[0]\n",
    "    else:\n",
    "        unmet = None\n",
    "    \n",
    "    plt.bar(np.arange(p), Vcounts, color=groundcolor)  # all members\n",
    "    plt.bar(np.arange(p), Scounts, color=setcolor, label=setlabel)  # selected members\n",
    "    plt.scatter(np.arange(p), budgets, c=\"white\", s=16, zorder=8, label=budgetlabel)  # all budgets\n",
    "    if unmet is not None:\n",
    "        plt.scatter(unmet, budgets[unmet], c=\"red\", s=2, zorder=10, label=\"unmet \"+budgetlabel)  # unmet budgets\n",
    "    plt.legend()\n"
   ]
  },
  {
   "cell_type": "code",
   "execution_count": 44,
   "metadata": {},
   "outputs": [
    {
     "data": {
      "image/png": "[encoded data removed]",
      "text/plain": [
       "<Figure size 1080x360 with 3 Axes>"
      ]
     },
     "metadata": {},
     "output_type": "display_data"
    }
   ],
   "source": [
    "plt.figure(figsize=(15,5))\n",
    "plt.subplot(1,3,1)\n",
    "plot_membership_histogram(Memvec, quo, S_s, \"darkorange\", \"darkcyan\", budgetlabel=\"quotas\", setlabel=\"SPP\")\n",
    "plt.subplot(1,3,2)\n",
    "plot_membership_histogram(Memvec, quo, S_sq, \"yellowgreen\", \"darkcyan\", budgetlabel=\"quotas\", setlabel=\"SPP-DMQ\")\n",
    "plt.subplot(1,3,3)\n",
    "plot_membership_histogram(Memvec, quo, S_r, \"indianred\", \"darkcyan\", budgetlabel=\"quotas\", setlabel=\"Random\")"
   ]
  },
  {
   "cell_type": "code",
   "execution_count": null,
   "metadata": {
    "hidden": true
   },
   "outputs": [],
   "source": []
  },
  {
   "cell_type": "markdown",
   "metadata": {
    "hidden": true
   },
   "source": [
    "---"
   ]
  },
  {
   "cell_type": "markdown",
   "metadata": {
    "heading_collapsed": true
   },
   "source": [
    "## Submodular : A weighted mixture of m(A)^{0.2}"
   ]
  },
  {
   "cell_type": "code",
   "execution_count": 6,
   "metadata": {
    "hidden": true
   },
   "outputs": [],
   "source": [
    "#%% Marginal gain oracle of the utility\n",
    "\n",
    "def submodgains(X, modA, fA, aa, mixw):\n",
    "    \"\"\" Returns f(A+a) - f(A)\n",
    "        Where f(A) = \\sum_{j=1}^m (w_j * \\phi(\\sum_{i \\in A} X_{ij}))\n",
    "    \"\"\"\n",
    "    \n",
    "    modAa = modA + X[aa,:] if aa is not None else modA\n",
    "    \n",
    "    # options: modA**0.5, np.log(1+modA), (1-np.exp(-modA)), modA/(1+modA)\n",
    "    fAa = np.dot(mixw, modAa**0.2)\n",
    "    \n",
    "    return fAa - fA\n"
   ]
  },
  {
   "cell_type": "code",
   "execution_count": 7,
   "metadata": {
    "hidden": true
   },
   "outputs": [],
   "source": [
    "#%% Plain old simple Greedy\n",
    "\n",
    "def greedygains_submod(V, X, mixw, k):\n",
    "    \"\"\" For a given ground set, a feature matrix and mixture weights which define the objective\n",
    "        (submodular),\n",
    "        Returns the greedy selection and step-wise objective values\n",
    "        Over the addition of k items\n",
    "    \"\"\"\n",
    "    \n",
    "    [n,m] = X.shape\n",
    "    \n",
    "    if V is None:\n",
    "        V = np.arange(n)\n",
    "    \n",
    "    objs = np.empty(k+1)\n",
    "    \n",
    "    A = np.empty(0, int)\n",
    "    modA = np.sum(X[A,:], axis=0)\n",
    "    ff = 0 # assume normalized for now\n",
    "    objs[0] = ff\n",
    "    \n",
    "    for ii in range(k):\n",
    "        \n",
    "        maxgain = -100\n",
    "        greedyv = np.random.choice(V)\n",
    "        \n",
    "        for vidx in range(len(V)):\n",
    "            gain = submodgains(X, modA, ff, V[vidx], mixw)\n",
    "            if gain > maxgain:\n",
    "                maxgain = gain\n",
    "                greedyv = V[vidx]\n",
    "        \n",
    "        # add element to A, remove from V, update gains\n",
    "        A = np.append(A, greedyv)\n",
    "        modA += X[greedyv,:]\n",
    "        V = V[V!=greedyv]\n",
    "        ff += maxgain\n",
    "        objs[ii+1] = ff\n",
    "    \n",
    "    return A, objs\n"
   ]
  },
  {
   "cell_type": "code",
   "execution_count": 8,
   "metadata": {
    "hidden": true
   },
   "outputs": [],
   "source": [
    "#%% Greedy for DMQ\n",
    "\n",
    "def greedyDMquota_submod(V, X, mixw, Memvec, quo, k, verbose=False):\n",
    "    \"\"\" For the disjoint membership quota.\n",
    "        Memvec is an n x p one-hot matrix (exactly one 1 per row).\n",
    "        quo is a p x 1 vector.\n",
    "        Output a subset that satisfies the quotas.\n",
    "    \"\"\"\n",
    "    \n",
    "    [n,m] = X.shape\n",
    "    p = Memvec.shape[1]\n",
    "    \n",
    "    if V is None:\n",
    "        V = np.arange(n)\n",
    "    \n",
    "    for grp in range(p):\n",
    "        if np.sum(Memvec[:,grp]) < quo[grp]:\n",
    "            print(\"Not enough members in group {}, infeasible problem.\".format(grp))\n",
    "            return None, None\n",
    "        \n",
    "    objs = np.empty(k+1)\n",
    "    \n",
    "    A = np.empty(0, int)\n",
    "    modA = np.sum(X[A,:], axis=0)\n",
    "    ff = 0 # assume normalized for now\n",
    "    objs[0] = ff\n",
    "    \n",
    "    \"\"\" Quota-filling stage \"\"\"\n",
    "    \n",
    "    ii = 0\n",
    "    Vsat = np.copy(V) # only for use in the quota-filling stage\n",
    "    \n",
    "    # remove from Vsat groups with zero quota\n",
    "    for grp in range(p):\n",
    "        if quo[grp] < 1:\n",
    "            Vsat = np.delete(Vsat, np.argwhere(Memvec[Vsat,grp].flatten()))\n",
    "    \n",
    "    while ii < np.sum(quo):\n",
    "        \n",
    "        maxgain = -100\n",
    "        greedyv = np.random.choice(Vsat)\n",
    "        \n",
    "        for vidx in range(len(Vsat)):\n",
    "            gain = submodgains(X, modA, ff, Vsat[vidx], mixw)\n",
    "            if gain > maxgain:\n",
    "                maxgain = gain\n",
    "                greedyv = Vsat[vidx]\n",
    "        \n",
    "        # add element to A, update gains\n",
    "        A = np.append(A, greedyv)\n",
    "        modA += X[greedyv,:]\n",
    "        ff += maxgain\n",
    "        objs[ii+1] = ff\n",
    "        \n",
    "        # remove from V, remove all from Vsat if quota filled\n",
    "        V = V[V!=greedyv]\n",
    "        grp = np.argwhere(Memvec[greedyv])\n",
    "\n",
    "        if verbose:\n",
    "            print(\"selected element\", greedyv)\n",
    "            print(\"lies in group\", grp)\n",
    "            #print(\"new A\", A)\n",
    "\n",
    "        if np.sum(Memvec[A,grp]) >= quo[grp]:\n",
    "            if verbose:\n",
    "                print(\"\\n Quota for group {} satisfied by set {} \\n\".format(\n",
    "                        grp, A[Memvec[A,grp].flatten().astype(bool)])\n",
    "                     )\n",
    "                print(\"Deleting {}\".format(Vsat[Memvec[Vsat,grp].flatten().astype(bool)]))\n",
    "            Vsat = np.delete(Vsat, np.argwhere(Memvec[Vsat,grp].flatten()))\n",
    "        else:\n",
    "            if verbose:\n",
    "                print(\"Only deleting\", Vsat[Vsat==greedyv])\n",
    "            Vsat = Vsat[Vsat!=greedyv]\n",
    "        \n",
    "        ii += 1\n",
    "        \n",
    "    if verbose:\n",
    "        print(\"Quotas filled.\")\n",
    "        print(\"quotas : \", quo)\n",
    "        print(\"Representatives : \", [np.sum(Memvec[A,jj]) for jj in range(p)])\n",
    "    \n",
    "    \n",
    "    \"\"\" Regular greedy stage \"\"\"\n",
    "    \n",
    "    while ii < k:\n",
    "        \n",
    "        maxgain = -100\n",
    "        greedyv = np.random.choice(V)\n",
    "        \n",
    "        for vidx in range(len(V)):\n",
    "            gain = submodgains(X, modA, ff, V[vidx], mixw)\n",
    "            if gain > maxgain:\n",
    "                maxgain = gain\n",
    "                greedyv = V[vidx]\n",
    "        \n",
    "        # add element to A, remove from V, update gains\n",
    "        A = np.append(A, greedyv)\n",
    "        modA += X[greedyv,:]\n",
    "        V = V[V!=greedyv]\n",
    "        ff += maxgain\n",
    "        objs[ii+1] = ff\n",
    "        \n",
    "        if verbose:\n",
    "            print(\"selected element\", greedyv)\n",
    "            print(\"lies in group\", np.argwhere(Memvec[greedyv]))\n",
    "            #print(\"new A\", A)\n",
    "        \n",
    "        ii += 1\n",
    "    \n",
    "    return A, objs\n"
   ]
  },
  {
   "cell_type": "markdown",
   "metadata": {
    "heading_collapsed": true,
    "hidden": true
   },
   "source": [
    "### Run"
   ]
  },
  {
   "cell_type": "code",
   "execution_count": 9,
   "metadata": {
    "hidden": true
   },
   "outputs": [],
   "source": [
    "n = 50\n",
    "m = 200\n",
    "k = 10\n",
    "\n",
    "np.random.seed(0)\n",
    "X = np.random.random((n, m))\n",
    "mixw = np.random.random(m); mixw = mixw/np.max(mixw)\n",
    "\n",
    "ground = np.dot(mixw, np.sum(X, axis=0)**0.2)"
   ]
  },
  {
   "cell_type": "code",
   "execution_count": 10,
   "metadata": {
    "hidden": true
   },
   "outputs": [],
   "source": [
    "S, objectives = greedygains_submod(None, X, mixw, k)"
   ]
  },
  {
   "cell_type": "code",
   "execution_count": 11,
   "metadata": {
    "hidden": true
   },
   "outputs": [
    {
     "data": {
      "image/png": "[encoded data removed]",
      "text/plain": [
       "<Figure size 360x360 with 1 Axes>"
      ]
     },
     "metadata": {
      "needs_background": "light"
     },
     "output_type": "display_data"
    }
   ],
   "source": [
    "plt.figure(figsize=(5,5))\n",
    "plot_objective_values(objectives, ground, \"darkorange\", \"sienna\")"
   ]
  },
  {
   "cell_type": "code",
   "execution_count": 12,
   "metadata": {
    "hidden": true
   },
   "outputs": [
    {
     "name": "stdout",
     "output_type": "stream",
     "text": [
      "0.000\n",
      "84.346\n",
      "98.494\n",
      "107.093\n",
      "113.569\n",
      "118.826\n",
      "123.244\n",
      "127.106\n",
      "130.542\n",
      "133.648\n",
      "136.481\n"
     ]
    }
   ],
   "source": [
    "for oo in objectives: print(\"{:.3f}\".format(oo))"
   ]
  },
  {
   "cell_type": "code",
   "execution_count": null,
   "metadata": {
    "hidden": true
   },
   "outputs": [],
   "source": []
  },
  {
   "cell_type": "markdown",
   "metadata": {
    "hidden": true
   },
   "source": [
    "---"
   ]
  },
  {
   "cell_type": "markdown",
   "metadata": {},
   "source": [
    "## Aadhi Quotoba mag Vithoba"
   ]
  },
  {
   "cell_type": "markdown",
   "metadata": {},
   "source": [
    "Compare:<br>\n",
    "Feasibility, output quality, computational complexity."
   ]
  },
  {
   "cell_type": "markdown",
   "metadata": {},
   "source": [
    "---"
   ]
  },
  {
   "cell_type": "markdown",
   "metadata": {},
   "source": [
    "<p style=\"background-color:#ff9933\">\n",
    "Constrained Submodular Max with Disjoint Membership Quota\n",
    "</p>"
   ]
  },
  {
   "cell_type": "code",
   "execution_count": null,
   "metadata": {},
   "outputs": [],
   "source": []
  },
  {
   "cell_type": "code",
   "execution_count": 13,
   "metadata": {},
   "outputs": [],
   "source": [
    "n_samples = 1000\n",
    "m_features = 2\n",
    "k_budget = 100\n",
    "\n",
    "np.random.seed(0)\n",
    "X = np.random.random((n_samples, m_features))\n",
    "\n",
    "np.random.seed(1)\n",
    "mixw = np.random.random(m_features); mixw = mixw/np.max(mixw)"
   ]
  },
  {
   "cell_type": "code",
   "execution_count": 14,
   "metadata": {},
   "outputs": [],
   "source": [
    "p_groups = 20\n",
    "memcolors = np.array([\"#11{:02X}dd\".format(pp) for pp in np.arange(0, 256, 256//p_groups)])"
   ]
  },
  {
   "cell_type": "code",
   "execution_count": 15,
   "metadata": {},
   "outputs": [
    {
     "name": "stdout",
     "output_type": "stream",
     "text": [
      "[49 48 49 34 39 52 49 46 59 54 59 56 50 37 47 48 53 54 59 58]\n"
     ]
    }
   ],
   "source": [
    "#%% Random group assignment\n",
    "\n",
    "np.random.seed(2)\n",
    "Memvec = np.eye(p_groups)[np.random.choice(p_groups, n_samples)].astype(int)\n",
    "\n",
    "#print([len(np.argwhere(Memvec[:,jj])) for jj in range(p_groups)])\n",
    "print(np.sum(Memvec, axis=0))\n",
    "\n",
    "#%%Clustering-based group assignment\n",
    "\n",
    "# kmeans = KMeans(n_clusters=p_groups, random_state=0).fit(X)\n",
    "# Memvec = np.eye(p_groups)[kmeans.labels_].astype(int)\n",
    "\n",
    "#%% Viz\n",
    "\n",
    "# vizpca_DMQ(X, Memvec, memcolors, [], \"orange\", \"Group assignment\")"
   ]
  },
  {
   "cell_type": "code",
   "execution_count": 19,
   "metadata": {},
   "outputs": [],
   "source": [
    "#%% Uniform quota\n",
    "\n",
    "quo = np.ones(p_groups)*3\n",
    "\n",
    "#%% Proportionate quota\n",
    "\n",
    "# quo = np.sum(Memvec, axis=0)*k_budget//n_samples - 3"
   ]
  },
  {
   "cell_type": "code",
   "execution_count": 20,
   "metadata": {
    "scrolled": false
   },
   "outputs": [
    {
     "name": "stdout",
     "output_type": "stream",
     "text": [
      "Objective without quota 3.855625803676566 \n",
      " [210 610 632 149 906 516 397 779 702 658 730 878 224 430 775 223 312 382\n",
      " 284 135 659 281 978 713 726 320 452  82 822 188 577  74 594 317 912 860\n",
      " 791 584 479  51 192 595 363 601  10 920 238 552 360 837 384 562 762 671\n",
      " 138 742 559 662 490 493 590 698 269 909 768 872 652 295 546   9 629 511\n",
      " 812 829 391 150 237 229 432 790 512 850 404 389 970 114 654 174 568 699\n",
      "  81 587 990 946 814 259 835 439 897 425]\n",
      "Objective with quota 3.8552007268979565 \n",
      " [210 610 632 149 906 516 397 779 702 658 730 878 224 430 775 223 312 382\n",
      " 284 135 659 281 978 713 726 320 452  82 822 188  74 594 912 791 584  51\n",
      " 479 192 595 363  10 920 384 762 138 742 559 493 872 295   9 511 812 829\n",
      " 850 970 568  81 990 402 577 317 860 601 238 360 552 837 562 671 662 490\n",
      " 590 698 269 909 768 652 546 629 391 150 432 229 237 790 512 404 389 114\n",
      " 654 174 699 587 814 946 259 835 439 897]\n",
      "Objective of random selection 3.472983098174264 \n",
      " [720 877 309  46 417 940 983 121 546 875 342 273  74 190 817  79 115 724\n",
      " 457 258 802 568 265 670 579  19 439 859 998 565  12 134 678 747 725 387\n",
      " 577 582 796 913 792 331 486 424 252 444 775 514 522 819 175 783 194  70\n",
      " 163 436 613 820 593 188 578 394 233 640 221 313 853 814 491 462 902 545\n",
      "  86 726  67 729 898 871 477 109 860 558 508 105 366 667 541 499 441 905\n",
      " 899 511  58 196 403 715 871 183 679 543]\n"
     ]
    },
    {
     "data": {
      "image/png": "[encoded data removed]",
      "text/plain": [
       "<Figure size 1080x360 with 3 Axes>"
      ]
     },
     "metadata": {},
     "output_type": "display_data"
    }
   ],
   "source": [
    "S_s, objectives_s = subm.greedygains_submod(None, X, mixw, k_budget)\n",
    "S_sq, objectives_sq = subm.greedyDMquota_submod(None, X, mixw, Memvec, quo, k_budget)\n",
    "S_r = np.random.choice(n_samples, k_budget)\n",
    "objective_sr = subm.submodgains(X, np.sum(X[S_r,:], axis=0), 0, None, mixw)\n",
    "\n",
    "print(\"Objective without quota\", objectives_s[-1], \"\\n\", S_s)\n",
    "print(\"Objective with quota\", objectives_sq[-1], \"\\n\", S_sq)\n",
    "print(\"Objective of random selection\", objective_sr, \"\\n\", S_r)\n",
    "\n",
    "plt.figure(figsize=(15,5))\n",
    "plt.subplot(1,3,1)\n",
    "plot_membership_histogram(Memvec, quo, S_s, \"darkorange\", \"darkcyan\", budgetlabel=\"quotas\", setlabel=\"SPP\")\n",
    "plt.subplot(1,3,2)\n",
    "plot_membership_histogram(Memvec, quo, S_sq, \"yellowgreen\", \"darkcyan\", budgetlabel=\"quotas\", setlabel=\"SPP-DMQ\")\n",
    "plt.subplot(1,3,3)\n",
    "plot_membership_histogram(Memvec, quo, S_r, \"indianred\", \"darkcyan\", budgetlabel=\"quotas\", setlabel=\"Random\")"
   ]
  },
  {
   "cell_type": "code",
   "execution_count": null,
   "metadata": {},
   "outputs": [],
   "source": []
  },
  {
   "cell_type": "code",
   "execution_count": null,
   "metadata": {},
   "outputs": [],
   "source": []
  },
  {
   "cell_type": "code",
   "execution_count": null,
   "metadata": {},
   "outputs": [],
   "source": []
  },
  {
   "cell_type": "code",
   "execution_count": null,
   "metadata": {},
   "outputs": [],
   "source": []
  },
  {
   "cell_type": "code",
   "execution_count": null,
   "metadata": {},
   "outputs": [],
   "source": [
    "# S_sq, objectives_sq = greedyDMquota_submod(None, X, mixw, Memvec, quo, k_budget, True)"
   ]
  },
  {
   "cell_type": "markdown",
   "metadata": {},
   "source": [
    "= = = = "
   ]
  },
  {
   "cell_type": "markdown",
   "metadata": {},
   "source": [
    "Can we show that there is some benefit to adding _good_ elements _after_ we have met\n",
    "fairness (here, diversity?! if they are geometrically correlated...) constraints.\n",
    "\n",
    "We don't want to confuse _good_ with _diverse_. I mean we do want to pick the good ones among the diverse tho...<br>\n",
    "Is it like -- the group that is picked last gets more quality canditades chosen? and the one that goes first gets filled with token shit??"
   ]
  },
  {
   "cell_type": "markdown",
   "metadata": {},
   "source": [
    "= = = = "
   ]
  },
  {
   "cell_type": "code",
   "execution_count": null,
   "metadata": {},
   "outputs": [],
   "source": []
  },
  {
   "cell_type": "code",
   "execution_count": null,
   "metadata": {},
   "outputs": [],
   "source": [
    "plt.figure(figsize=(12,5))\n",
    "\n",
    "plt.subplot(1,2,1)\n",
    "vizpca(X, \"darkcyan\", S_s, \"darkorange\", \"SPP\")\n",
    "plt.subplot(1,2,2)\n",
    "vizpca_DMQ(X, Memvec, memcolors, S_sq, \"yellowgreen\", \"SPP-DMQ\")"
   ]
  },
  {
   "cell_type": "code",
   "execution_count": null,
   "metadata": {},
   "outputs": [],
   "source": [
    "viztsne_IMQ(X, Memvec, [\"lightskyblue\", \"darkcyan\"], S_sq, \"yellowgreen\", \"SPP-DMQ\", 30)"
   ]
  },
  {
   "cell_type": "code",
   "execution_count": null,
   "metadata": {},
   "outputs": [],
   "source": []
  },
  {
   "cell_type": "markdown",
   "metadata": {},
   "source": [
    "---"
   ]
  },
  {
   "cell_type": "markdown",
   "metadata": {},
   "source": [
    "<p style=\"background-color:#ff99cc\">\n",
    "Constrained Submodular Max with Intersecting Membership Quota\n",
    "</p>"
   ]
  },
  {
   "cell_type": "code",
   "execution_count": null,
   "metadata": {},
   "outputs": [],
   "source": []
  },
  {
   "cell_type": "code",
   "execution_count": null,
   "metadata": {},
   "outputs": [],
   "source": [
    "n_samples = 1000\n",
    "m_features = 50\n",
    "k_budget = 100\n",
    "\n",
    "np.random.seed(0)\n",
    "X = np.random.random((n_samples, m_features))\n",
    "\n",
    "np.random.seed(1)\n",
    "mixw = np.random.random(m_features); mixw = mixw/np.max(mixw)"
   ]
  },
  {
   "cell_type": "code",
   "execution_count": null,
   "metadata": {},
   "outputs": [],
   "source": [
    "p_groups = 20\n",
    "memcolors = np.array([\"#11{:02X}dd\".format(pp) for pp in np.arange(0, 256, 256//p_groups)])"
   ]
  },
  {
   "cell_type": "code",
   "execution_count": null,
   "metadata": {},
   "outputs": [],
   "source": [
    "#%% Random group assignment\n",
    "\n",
    "# np.random.seed(2)\n",
    "# group_probabs = np.random.uniform(0.05, 0.45, p_groups)\n",
    "# Memvec = np.zeros((n_samples, p_groups)).astype(int)\n",
    "# for jj in range(p_groups):\n",
    "#     Memvec[:,jj] = np.random.binomial(1, group_probabs[jj], n_samples)\n",
    "\n",
    "# print(np.sum(Memvec, axis=0))\n",
    "\n",
    "#%%Clustering-based group assignment\n",
    "\n",
    "kmeans = KMeans(n_clusters=p_groups+3, random_state=0).fit(X)\n",
    "Memvec = np.eye(p_groups+3, p_groups)[kmeans.labels_].astype(int)\n",
    "\n",
    "np.random.seed(2)\n",
    "group_probabs = np.random.uniform(0.05, 0.2, p_groups)\n",
    "for jj in range(p_groups):\n",
    "    Memvec[:,jj] = np.maximum(Memvec[:,jj], np.random.binomial(1, group_probabs[jj], n_samples))\n",
    "\n",
    "#%% Viz\n",
    "\n",
    "# vizpca_DMQ(X, Memvec, memcolors, [], \"orange\", \"Group assignment\")"
   ]
  },
  {
   "cell_type": "code",
   "execution_count": null,
   "metadata": {},
   "outputs": [],
   "source": [
    "#%% Uniform quota\n",
    "\n",
    "# quo = np.ones(p_groups)*2\n",
    "\n",
    "#%% Proportionate quota\n",
    "\n",
    "quo = np.sum(Memvec, axis=0)*k_budget//n_samples - 2"
   ]
  },
  {
   "cell_type": "code",
   "execution_count": null,
   "metadata": {
    "scrolled": false
   },
   "outputs": [],
   "source": [
    "S_s, objectives_s = subm.greedygains_submod(None, X, mixw, k_budget)\n",
    "S_sq, objectives_sq = subm.greedyIMquota_submod(None, X, mixw, Memvec, quo, k_budget)\n",
    "S_r = np.random.choice(n_samples, k_budget)\n",
    "objective_sr = subm.submodgains(X, np.sum(X[S_r,:], axis=0), 0, None, mixw)\n",
    "\n",
    "print(\"Objective without quota\", objectives_s[-1], \"\\n\", S_s)\n",
    "print(\"Objective with quota\", objectives_sq[-1], \"\\n\", S_sq)\n",
    "print(\"Objective of random selection\", objective_sr, \"\\n\", S_r)\n",
    "\n",
    "plt.figure(figsize=(15,5))\n",
    "plt.subplot(1,3,1)\n",
    "plottingtools.vizbalance_MQ(np.arange(n_samples), Memvec, \"darkcyan\", quo, S_s, \"darkorange\", \"SPP\")\n",
    "plt.subplot(1,3,2)\n",
    "plottingtools.vizbalance_MQ(np.arange(n_samples), Memvec, \"darkcyan\", quo, S_sq, \"yellowgreen\", \"SPP-DMQ\")\n",
    "plt.subplot(1,3,3)\n",
    "plottingtools.vizbalance_MQ(np.arange(n_samples), Memvec, \"darkcyan\", quo, S_r, \"indianred\", \"Random\")"
   ]
  },
  {
   "cell_type": "code",
   "execution_count": null,
   "metadata": {},
   "outputs": [],
   "source": []
  },
  {
   "cell_type": "markdown",
   "metadata": {},
   "source": [
    "---"
   ]
  },
  {
   "cell_type": "markdown",
   "metadata": {},
   "source": [
    "<p style=\"background-color:#ccff66\">\n",
    "Constrained Submodular Max with Feature Quota\n",
    "</p>"
   ]
  },
  {
   "cell_type": "code",
   "execution_count": null,
   "metadata": {},
   "outputs": [],
   "source": []
  }
 ],
 "metadata": {
  "kernelspec": {
   "display_name": "Python 3 (ipykernel)",
   "language": "python",
   "name": "python3"
  },
  "language_info": {
   "codemirror_mode": {
    "name": "ipython",
    "version": 3
   },
   "file_extension": ".py",
   "mimetype": "text/x-python",
   "name": "python",
   "nbconvert_exporter": "python",
   "pygments_lexer": "ipython3",
   "version": "3.8.9"
  },
  "varInspector": {
   "cols": {
    "lenName": 16,
    "lenType": 16,
    "lenVar": 40
   },
   "kernels_config": {
    "python": {
     "delete_cmd_postfix": "",
     "delete_cmd_prefix": "del ",
     "library": "var_list.py",
     "varRefreshCmd": "print(var_dic_list())"
    },
    "r": {
     "delete_cmd_postfix": ") ",
     "delete_cmd_prefix": "rm(",
     "library": "var_list.r",
     "varRefreshCmd": "cat(var_dic_list()) "
    }
   },
   "types_to_exclude": [
    "module",
    "function",
    "builtin_function_or_method",
    "instance",
    "_Feature"
   ],
   "window_display": false
  }
 },
 "nbformat": 4,
 "nbformat_minor": 2
}
