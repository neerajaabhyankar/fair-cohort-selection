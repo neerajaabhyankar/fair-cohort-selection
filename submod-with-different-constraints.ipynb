{
 "cells": [
  {
   "cell_type": "markdown",
   "metadata": {},
   "source": [
    "## Imports"
   ]
  },
  {
   "cell_type": "code",
   "execution_count": null,
   "metadata": {},
   "outputs": [],
   "source": [
    "import os\n",
    "import math\n",
    "\n",
    "import numpy as np\n",
    "from sklearn.manifold import TSNE\n",
    "from sklearn.cluster import KMeans\n",
    "from sklearn.decomposition import PCA\n",
    "import matplotlib.pyplot as plt\n",
    "from matplotlib.lines import Line2D\n",
    "import seaborn as sns\n",
    "sns.set()"
   ]
  },
  {
   "cell_type": "code",
   "execution_count": null,
   "metadata": {},
   "outputs": [],
   "source": [
    "import mixtureofconcave as subm\n",
    "import determinantal as logsubm\n",
    "import plottingtools"
   ]
  },
  {
   "cell_type": "markdown",
   "metadata": {
    "heading_collapsed": true
   },
   "source": [
    "## Plottingtools"
   ]
  },
  {
   "cell_type": "code",
   "execution_count": null,
   "metadata": {
    "hidden": true
   },
   "outputs": [],
   "source": [
    "def plot_objective_values(eval_objectives, eval_ground, setcolor, groundcolor=None):\n",
    "    \"\"\"\n",
    "    As we greedily build out the set,\n",
    "    we plot the value of the objective f(S_t)\n",
    "    at every stage t\n",
    "    :param eval_objectives: f(S_t) for 0 \\leq t < k\n",
    "    :param eval_ground: f(V)\n",
    "    :param setcolor: color to plot f(S_t) with\n",
    "    :param groundcolor: color to plot f(V) with\n",
    "    \"\"\"\n",
    "    k = len(eval_objectives)\n",
    "    plt.plot(np.arange(k), eval_objectives, \"o\", c=setcolor, label=\"$f(S_t)$\")\n",
    "    if groundcolor is not None:\n",
    "        plt.plot(np.arange(k), [eval_ground,]*k, \"--\", c=groundcolor, label=\"$f(V)$\")\n",
    "    plt.xlabel(\"$|S_t|$\")\n",
    "    plt.legend(loc=2)"
   ]
  },
  {
   "cell_type": "code",
   "execution_count": null,
   "metadata": {},
   "outputs": [],
   "source": [
    "def plot_membership_histogram(\n",
    "    memberships, budgets,\n",
    "    S,\n",
    "    setcolor, groundcolor,\n",
    "    budgetlabel=\"budget\", setlabel=\"selection\", value=-100\n",
    "):\n",
    "    \"\"\" Given a membership assignment matrix (n x p) and optionally group budgets (min or max),\n",
    "        A selection of indices S of size k < n\n",
    "        Plot the selection's group-wise distribution\n",
    "        :param memberships: n rows (members), p columns (0 or 1 membership bools)\n",
    "        :param budgets: indices in [n], length k\n",
    "        :param setcolor: color to plot f(S_t) with\n",
    "        :param groundcolor: color to plot f(V) with\n",
    "    \"\"\"\n",
    "    \n",
    "    [n, p] = memberships.shape\n",
    "    k = len(S)\n",
    "    \n",
    "    Vcounts = np.sum(memberships, axis=0)\n",
    "    Scounts = np.sum(memberships[S], axis=0)\n",
    "    if budgetlabel == \"quotas\":\n",
    "        assert budgets is not None\n",
    "        unmet = np.where(Scounts < budgets)[0]\n",
    "    elif budgetlabel == \"capacities\":\n",
    "        assert budgets is not None\n",
    "        unmet = np.where(Scounts > budgets)[0]\n",
    "    else:\n",
    "        unmet = None\n",
    "    \n",
    "    plt.bar(np.arange(p), Vcounts, color=groundcolor, label=\"all\")  # all members\n",
    "    plt.bar(np.arange(p), Scounts, color=setcolor, label=setlabel)  # selected members\n",
    "    if budgets is not None:\n",
    "        plt.scatter(np.arange(p), budgets, c=\"white\", s=16, zorder=8, label=budgetlabel)  # all budgets\n",
    "    if unmet is not None:\n",
    "        plt.scatter(unmet, budgets[unmet], c=\"red\", s=2, zorder=10, label=\"unmet \"+budgetlabel)  # unmet budgets\n",
    "    plt.xlabel(\"groups\")\n",
    "    plt.ylabel(\"membership counts\")\n",
    "    if value >= 0:\n",
    "        plt.title(f\"objective value = {value}\")\n",
    "    plt.legend()\n"
   ]
  },
  {
   "cell_type": "code",
   "execution_count": null,
   "metadata": {
    "hidden": true
   },
   "outputs": [],
   "source": []
  },
  {
   "cell_type": "markdown",
   "metadata": {
    "hidden": true
   },
   "source": [
    "---"
   ]
  },
  {
   "cell_type": "markdown",
   "metadata": {
    "heading_collapsed": true
   },
   "source": [
    "## Submodular Objective"
   ]
  },
  {
   "cell_type": "code",
   "execution_count": null,
   "metadata": {},
   "outputs": [],
   "source": [
    "def concave_function(x):\n",
    "    \"\"\"\n",
    "    \\phi(x)\n",
    "    \"\"\"\n",
    "    # options: modA**0.5, np.log(1+modA), (1-np.exp(-modA)), modA/(1+modA)\n",
    "    return x**0.5\n"
   ]
  },
  {
   "cell_type": "code",
   "execution_count": null,
   "metadata": {},
   "outputs": [],
   "source": [
    "class submodular_oracle:\n",
    "    \n",
    "    def __init__(self, concave_function, weights, X):\n",
    "        \"\"\"\n",
    "        :param concave_function: function \\phi\n",
    "        :param weights: for linear combination of \\phi(\\sum_{i \\in A} X_{ij})) (length m)\n",
    "        :param X: feature matrix (n x m)\n",
    "        \"\"\"\n",
    "        self.concave_function = concave_function\n",
    "        self.weights = weights\n",
    "        self.X = X\n",
    "        self.n = X.shape[0]\n",
    "        self.m = X.shape[1]\n",
    "        self.set = []\n",
    "        self.modular_values = np.zeros(m)\n",
    "        self.current_objective = 0\n",
    "    \n",
    "    def add_element(self, idx):\n",
    "        self.modular_values += X[idx,:]\n",
    "        self.current_objective = np.dot(\n",
    "            self.weights, self.concave_function(self.modular_values)\n",
    "        )\n",
    "        self.set.append(idx)\n",
    "    \n",
    "    def compute_gain(self, idx):\n",
    "        new_modular_values = self.modular_values + X[idx,:]\n",
    "        return np.dot(\n",
    "            self.weights, self.concave_function(new_modular_values)\n",
    "        ) - self.current_objective\n",
    "\n",
    "    def compute_set_value(self, indices):\n",
    "        modular_values = np.sum(X[indices, :], axis=0)\n",
    "        return np.dot(\n",
    "            self.weights, self.concave_function(modular_values)\n",
    "        )"
   ]
  },
  {
   "cell_type": "code",
   "execution_count": null,
   "metadata": {},
   "outputs": [],
   "source": []
  },
  {
   "cell_type": "code",
   "execution_count": null,
   "metadata": {},
   "outputs": [],
   "source": [
    "def random_vanilla(k):\n",
    "    \"\"\" \n",
    "    For a given ground set, a feature matrix and mixture weights which define the submodular objective,\n",
    "    Returns the greedy selection and step-wise objective values\n",
    "    Over the addition of k items\n",
    "    :param k: total capacity\n",
    "    \"\"\"\n",
    "    \n",
    "    oracle = submodular_oracle(concave_function, weights, X)\n",
    "    \n",
    "    V = np.arange(n).tolist()\n",
    "    objs = []\n",
    "    objs.append(0)\n",
    "    \n",
    "    for kk in range(k):\n",
    "        \n",
    "        greedy_winner = np.random.choice(V)\n",
    "        \n",
    "        # move winner from V to A\n",
    "        V.remove(greedy_winner)\n",
    "        oracle.add_element(greedy_winner)\n",
    "        objs.append(oracle.current_objective)\n",
    "    \n",
    "    return oracle.set, objs\n"
   ]
  },
  {
   "cell_type": "code",
   "execution_count": null,
   "metadata": {},
   "outputs": [],
   "source": [
    "def greedy_vanilla(k):\n",
    "    \"\"\" \n",
    "    For a given ground set, a feature matrix and mixture weights which define the submodular objective,\n",
    "    Returns the greedy selection and step-wise objective values\n",
    "    Over the addition of k items\n",
    "    :param k: total capacity\n",
    "    \"\"\"\n",
    "    \n",
    "    oracle = submodular_oracle(concave_function, weights, X)\n",
    "    \n",
    "    V = np.arange(n).tolist()\n",
    "    objs = []\n",
    "    objs.append(0)\n",
    "    \n",
    "    for kk in range(k):\n",
    "        \n",
    "        gains = [oracle.compute_gain(ii) for ii in V]\n",
    "        greedy_winner = V[np.argmax(gains)]\n",
    "        \n",
    "        # move winner from V to A\n",
    "        V.remove(greedy_winner)\n",
    "        oracle.add_element(greedy_winner)\n",
    "        objs.append(oracle.current_objective)\n",
    "    \n",
    "    return oracle.set, objs\n"
   ]
  },
  {
   "cell_type": "code",
   "execution_count": null,
   "metadata": {
    "hidden": true
   },
   "outputs": [],
   "source": [
    "def greedy_quota(memberships, unfilled_quotas, k, verbose=False):\n",
    "    \"\"\"\n",
    "    :param memberships: n rows (members), p columns (0 or 1 membership bools)\n",
    "    :param unfilled_quotas: indices in [n], numpy array of length p\n",
    "    :param k: total capacity\n",
    "    \"\"\"\n",
    "    oracle = submodular_oracle(concave_function, weights, X)\n",
    "\n",
    "    assert memberships.shape[0] == X.shape[0]\n",
    "    assert memberships.shape[1] == len(unfilled_quotas)\n",
    "    [n, p] = memberships.shape\n",
    "    \n",
    "    V = np.arange(n).tolist()\n",
    "    objs = []\n",
    "    objs.append(0)\n",
    "    \n",
    "    for jj in range(p):\n",
    "        if np.sum(memberships[:,jj]) < unfilled_quotas[jj]:\n",
    "            print(\"Not enough members in group {}, infeasible problem.\".format(jj))\n",
    "            return None, None\n",
    "    \n",
    "    \"\"\" Quota-filling stage \"\"\"\n",
    "    \n",
    "    unfilled_groups = np.where(np.array(unfilled_quotas)>0)[0]\n",
    "    V_quota_candidates = [ii for ii in V if np.sum(memberships[ii][unfilled_groups]) > 0]\n",
    "    \n",
    "    while np.sum(unfilled_quotas) > 0:\n",
    "        \n",
    "        unfilled_groups = np.where(unfilled_quotas>0)[0]\n",
    "        V_quota_candidates = [ii for ii in V if np.sum(memberships[ii][unfilled_groups]) > 0]\n",
    "        if len(V_quota_candidates) <= 0:\n",
    "            # we ran out of quota candidates\n",
    "            break\n",
    "        \n",
    "        gains = [oracle.compute_gain(ii) for ii in V_quota_candidates]\n",
    "        greedy_winner = V_quota_candidates[np.argmax(gains)]\n",
    "        \n",
    "        # move winner from V to A\n",
    "        V.remove(greedy_winner)\n",
    "        oracle.add_element(greedy_winner)\n",
    "        objs.append(oracle.current_objective)\n",
    "        \n",
    "        # decrement unfilled quotas\n",
    "        unfilled_quotas = unfilled_quotas - memberships[greedy_winner]\n",
    "        unfilled_quotas.clip(0, k)\n",
    "        \n",
    "        if verbose:\n",
    "            print(\"unfilled_quotas = \", unfilled_quotas)\n",
    "    \n",
    "    \"\"\" Regular greedy stage \"\"\"\n",
    "    \n",
    "    for kk in range(k - len(oracle.set)):\n",
    "        \n",
    "        gains = [oracle.compute_gain(ii) for ii in V]\n",
    "        greedy_winner = V[np.argmax(gains)]\n",
    "        \n",
    "        # move winner from V to A\n",
    "        V.remove(greedy_winner)\n",
    "        oracle.add_element(greedy_winner)\n",
    "        objs.append(oracle.current_objective)\n",
    "    \n",
    "    return oracle.set, objs\n"
   ]
  },
  {
   "cell_type": "code",
   "execution_count": null,
   "metadata": {},
   "outputs": [],
   "source": [
    "def greedy_capacity(memberships, unfilled_capacities, k, verbose=False):\n",
    "    \"\"\"\n",
    "    :param memberships: n rows (members), p columns (0 or 1 membership bools)\n",
    "    :param unfilled_capacities: indices in [n], numpy array of length p\n",
    "    :param k: total capacity\n",
    "    \"\"\"\n",
    "    oracle = submodular_oracle(concave_function, weights, X)\n",
    "\n",
    "    assert memberships.shape[0] == X.shape[0]\n",
    "    assert memberships.shape[1] == len(unfilled_capacities)\n",
    "    [n, p] = memberships.shape\n",
    "    \n",
    "    V = np.arange(n).tolist()\n",
    "    objs = []\n",
    "    objs.append(0)\n",
    "    \n",
    "    unfilled_groups = np.where(np.array(unfilled_capacities)>0)[0]\n",
    "    V_capacity_candidates = [ii for ii in V if np.sum(memberships[ii][unfilled_groups]) > 0]\n",
    "    \n",
    "    for kk in range(k):\n",
    "        \n",
    "        unfilled_groups = np.where(unfilled_capacities>0)[0]\n",
    "        V_capacity_candidates = [ii for ii in V if np.sum(memberships[ii][unfilled_groups]) > 0]\n",
    "        if len(V_capacity_candidates) <= 0:\n",
    "            # we ran out of candidates\n",
    "            return oracle.set, objs\n",
    "        \n",
    "        gains = [oracle.compute_gain(ii) for ii in V_capacity_candidates]\n",
    "        greedy_winner = V_capacity_candidates[np.argmax(gains)]\n",
    "        \n",
    "        # move winner from V to A\n",
    "        V.remove(greedy_winner)\n",
    "        oracle.add_element(greedy_winner)\n",
    "        objs.append(oracle.current_objective)\n",
    "        \n",
    "        # decrement unfilled quotas\n",
    "        unfilled_capacities = unfilled_capacities - memberships[greedy_winner]\n",
    "        unfilled_capacities.clip(0, k)\n",
    "        \n",
    "        if verbose:\n",
    "            print(\"unfilled_capacities = \", unfilled_capacities)\n",
    "    \n",
    "    return oracle.set, objs\n"
   ]
  },
  {
   "cell_type": "code",
   "execution_count": null,
   "metadata": {},
   "outputs": [],
   "source": []
  },
  {
   "cell_type": "code",
   "execution_count": null,
   "metadata": {},
   "outputs": [],
   "source": []
  },
  {
   "cell_type": "markdown",
   "metadata": {
    "heading_collapsed": true,
    "hidden": true
   },
   "source": [
    "## आधी क्वोटोबा मग विठोबा"
   ]
  },
  {
   "cell_type": "markdown",
   "metadata": {},
   "source": [
    "### Disjoint Memberships"
   ]
  },
  {
   "cell_type": "code",
   "execution_count": null,
   "metadata": {
    "hidden": true
   },
   "outputs": [],
   "source": [
    "# Setup\n",
    "n = 100\n",
    "m = 80\n",
    "k = 20\n",
    "p = 3\n",
    "p_dist = [0.4, 0.3, 0.3]  # across groups\n",
    "disadvantage_factor = 0.7  # weights shrunk by\n",
    "disadvantage_features = [0, 16, 24]  # number of features to shrink weights on\n",
    "\n",
    "np.random.seed(0)\n",
    "X = np.random.random((n, m))\n",
    "weights = np.random.random(m); weights = weights/np.max(weights)"
   ]
  },
  {
   "cell_type": "code",
   "execution_count": null,
   "metadata": {},
   "outputs": [],
   "source": [
    "# Disjoint Memberships\n",
    "np.random.seed(1)\n",
    "list_memberships = np.random.choice(np.arange(p), size=(n), p=p_dist)  # length n\n",
    "disjoint_memberships = np.eye(p)[list_memberships].astype(int)\n",
    "disjoint_quotas = np.array([4, 4, 4])\n",
    "disjoint_capacities = np.array([12, 12, 12])\n",
    "\n",
    "# Inversely correlate with utility\n",
    "for pp in range(p):\n",
    "    df = np.random.choice(np.arange(m), size=disadvantage_features[pp], replace=False)\n",
    "    dm = np.where(list_memberships == pp)[0]\n",
    "    for member in dm:\n",
    "        for feature in df:\n",
    "            X[member, feature] *= disadvantage_factor"
   ]
  },
  {
   "cell_type": "code",
   "execution_count": null,
   "metadata": {},
   "outputs": [],
   "source": [
    "# # Intersecting Memberships\n",
    "# np.random.seed(1)\n",
    "# intersecting_memberships = np.random.choice([0, 1], size=(n, p))\n",
    "# intersecting_quotas = np.array([2, 2, 2])"
   ]
  },
  {
   "cell_type": "code",
   "execution_count": null,
   "metadata": {},
   "outputs": [],
   "source": [
    "# Color Scheme\n",
    "# 'dimgrey' '#696969'\n",
    "# 'darkkhaki' '#BDB76B'  # ground set\n",
    "# 'indianred' '#CD5C5C'  # random\n",
    "# 'darkcyan' '#008B8B'  # unconstrained\n",
    "# 'gold' '#FFD700'  # disjoint membership capacity\n",
    "# 'skyblue' '#87CEEB'  # intersecting membership capacity\n",
    "# 'orange' '#FFA500'  # disjoint membership quota\n",
    "# 'lightpink' '#FFB6C1'  # intersecting membership quota"
   ]
  },
  {
   "cell_type": "code",
   "execution_count": null,
   "metadata": {},
   "outputs": [],
   "source": []
  },
  {
   "cell_type": "markdown",
   "metadata": {},
   "source": [
    "<p style=\"background-color:#008B8B\">\n",
    "<span style=\"color:white\">Unconstrained Submodular Max</span>.\n",
    "</p>"
   ]
  },
  {
   "cell_type": "code",
   "execution_count": null,
   "metadata": {},
   "outputs": [],
   "source": [
    "## Ground set eval\n",
    "oracle = submodular_oracle(concave_function, weights, X)\n",
    "ground = oracle.compute_set_value(np.arange(n))"
   ]
  },
  {
   "cell_type": "code",
   "execution_count": null,
   "metadata": {},
   "outputs": [],
   "source": []
  },
  {
   "cell_type": "code",
   "execution_count": null,
   "metadata": {},
   "outputs": [],
   "source": [
    "## Random choice\n",
    "S_random, objectives_random = random_vanilla(k)\n",
    "\n",
    "# [print(oo) for oo in objectives_random]\n",
    "# print(\"group memberships = \", np.sum(disjoint_memberships[S_random], axis=0))\n",
    "# plt.figure(figsize=(10,5))\n",
    "# plt.subplot(1,2,1)\n",
    "# plot_objective_values(objectives_random, ground, \"indianred\", \"dimgrey\")\n",
    "# plt.subplot(1,2,2)\n",
    "# plot_membership_histogram(\n",
    "#     disjoint_memberships, None, S_random,\n",
    "#     \"indianred\", \"darkkhaki\", setlabel=\"random\",\n",
    "#     value=objectives_random[-1]\n",
    "# )"
   ]
  },
  {
   "cell_type": "code",
   "execution_count": null,
   "metadata": {},
   "outputs": [],
   "source": []
  },
  {
   "cell_type": "code",
   "execution_count": null,
   "metadata": {},
   "outputs": [],
   "source": [
    "## Submod greedy\n",
    "S_unc, objectives_unc = greedy_vanilla(k)\n",
    "\n",
    "# [print(oo) for oo in objectives_unc]\n",
    "# print(\"group memberships = \", np.sum(disjoint_memberships[S_unc], axis=0))\n",
    "# plt.figure(figsize=(10,5))\n",
    "# plt.subplot(1,2,1)\n",
    "# plot_objective_values(objectives_unc, ground, \"darkcyan\", \"dimgrey\")\n",
    "# plt.subplot(1,2,2)\n",
    "# plot_membership_histogram(\n",
    "#     disjoint_memberships, None, S_unc,\n",
    "#     \"darkcyan\", \"darkkhaki\", setlabel=\"unconstrained\",\n",
    "#     value=objectives_unc[-1]\n",
    "# )"
   ]
  },
  {
   "cell_type": "code",
   "execution_count": null,
   "metadata": {},
   "outputs": [],
   "source": []
  },
  {
   "cell_type": "markdown",
   "metadata": {},
   "source": [
    "<p style=\"background-color:#lightpink\">\n",
    "<span style=\"color:white\">Constrained Submodular Max with Intersecting Membership Quota</span>.\n",
    "</p>"
   ]
  },
  {
   "cell_type": "code",
   "execution_count": null,
   "metadata": {},
   "outputs": [],
   "source": [
    "## Quota greedy (Disjoint)\n",
    "S_quota, objectives_quota = greedy_quota(disjoint_memberships, disjoint_quotas, k)\n",
    "\n",
    "# [print(oo) for oo in objectives]\n",
    "# print(\"group memberships = \", np.sum(disjoint_memberships[S_quota], axis=0))\n",
    "# plt.figure(figsize=(10,5))\n",
    "# plt.subplot(1,2,1)\n",
    "# plot_objective_values(objectives_quota, ground, \"darkorange\", \"dimgrey\")\n",
    "# plt.subplot(1,2,2)\n",
    "# plot_membership_histogram(\n",
    "#     disjoint_memberships, disjoint_quotas, S_quota,\n",
    "#     \"darkorange\", \"darkkhaki\", setlabel=\"quota greedy\",\n",
    "#     budgetlabel=\"quotas\", value=objectives_quota[-1]\n",
    "# )"
   ]
  },
  {
   "cell_type": "code",
   "execution_count": null,
   "metadata": {
    "hidden": true
   },
   "outputs": [],
   "source": []
  },
  {
   "cell_type": "code",
   "execution_count": null,
   "metadata": {},
   "outputs": [],
   "source": [
    "## Capacity greedy (Disjoint)\n",
    "S_capacity, objectives_capacity = greedy_capacity(disjoint_memberships, disjoint_capacities, k)\n",
    "\n",
    "# [print(oo) for oo in objectives]\n",
    "# print(\"group memberships = \", np.sum(disjoint_memberships[S_capacity], axis=0))\n",
    "# plt.figure(figsize=(10,5))\n",
    "# plt.subplot(1,2,1)\n",
    "# plot_objective_values(objectives_capacity, ground, \"darkorange\", \"dimgrey\")\n",
    "# plt.subplot(1,2,2)\n",
    "# plot_membership_histogram(\n",
    "#     disjoint_memberships, disjoint_capacities, S_capacity,\n",
    "#     \"gold\", \"darkkhaki\", setlabel=\"quota greedy\",\n",
    "#     budgetlabel=\"capacities\", value=objectives_capacity[-1]\n",
    "# )"
   ]
  },
  {
   "cell_type": "code",
   "execution_count": null,
   "metadata": {},
   "outputs": [],
   "source": []
  },
  {
   "cell_type": "code",
   "execution_count": null,
   "metadata": {},
   "outputs": [],
   "source": []
  },
  {
   "cell_type": "code",
   "execution_count": null,
   "metadata": {},
   "outputs": [],
   "source": []
  },
  {
   "cell_type": "code",
   "execution_count": null,
   "metadata": {},
   "outputs": [],
   "source": [
    "plt.figure(figsize=(10,10))\n",
    "plt.subplot(2,2,1)\n",
    "plot_membership_histogram(\n",
    "    disjoint_memberships, None, S_random,\n",
    "    \"indianred\", \"darkkhaki\", setlabel=\"random\",\n",
    "    value=objectives_random[-1]\n",
    ")\n",
    "plt.subplot(2,2,2)\n",
    "plot_membership_histogram(\n",
    "    disjoint_memberships, None, S_unc,\n",
    "    \"darkcyan\", \"darkkhaki\", setlabel=\"unconstrained\",\n",
    "    value=objectives_unc[-1]\n",
    ")\n",
    "plt.subplot(2,2,3)\n",
    "plot_membership_histogram(\n",
    "    disjoint_memberships, disjoint_quotas, S_quota,\n",
    "    \"darkorange\", \"darkkhaki\", setlabel=\"quota greedy\",\n",
    "    budgetlabel=\"quotas\", value=objectives_quota[-1]\n",
    ")\n",
    "plt.subplot(2,2,4)\n",
    "plot_membership_histogram(\n",
    "    disjoint_memberships, disjoint_capacities, S_capacity,\n",
    "    \"gold\", \"darkkhaki\", setlabel=\"quota greedy\",\n",
    "    budgetlabel=\"capacities\", value=objectives_capacity[-1]\n",
    ")"
   ]
  },
  {
   "cell_type": "code",
   "execution_count": null,
   "metadata": {},
   "outputs": [],
   "source": []
  },
  {
   "cell_type": "markdown",
   "metadata": {
    "hidden": true
   },
   "source": [
    "---"
   ]
  }
 ],
 "metadata": {
  "kernelspec": {
   "display_name": "Python 3 (ipykernel)",
   "language": "python",
   "name": "python3"
  },
  "language_info": {
   "codemirror_mode": {
    "name": "ipython",
    "version": 3
   },
   "file_extension": ".py",
   "mimetype": "text/x-python",
   "name": "python",
   "nbconvert_exporter": "python",
   "pygments_lexer": "ipython3",
   "version": "3.8.9"
  },
  "varInspector": {
   "cols": {
    "lenName": 16,
    "lenType": 16,
    "lenVar": 40
   },
   "kernels_config": {
    "python": {
     "delete_cmd_postfix": "",
     "delete_cmd_prefix": "del ",
     "library": "var_list.py",
     "varRefreshCmd": "print(var_dic_list())"
    },
    "r": {
     "delete_cmd_postfix": ") ",
     "delete_cmd_prefix": "rm(",
     "library": "var_list.r",
     "varRefreshCmd": "cat(var_dic_list()) "
    }
   },
   "types_to_exclude": [
    "module",
    "function",
    "builtin_function_or_method",
    "instance",
    "_Feature"
   ],
   "window_display": false
  }
 },
 "nbformat": 4,
 "nbformat_minor": 2
}
