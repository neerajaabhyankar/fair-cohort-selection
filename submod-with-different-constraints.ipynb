{
 "cells": [
  {
   "cell_type": "markdown",
   "metadata": {},
   "source": [
    "## Imports"
   ]
  },
  {
   "cell_type": "code",
   "execution_count": null,
   "metadata": {},
   "outputs": [],
   "source": [
    "import os\n",
    "import math\n",
    "\n",
    "import numpy as np\n",
    "from sklearn.manifold import TSNE\n",
    "from sklearn.cluster import KMeans\n",
    "from sklearn.decomposition import PCA\n",
    "import matplotlib.pyplot as plt\n",
    "from matplotlib.lines import Line2D\n",
    "import seaborn as sns\n",
    "sns.set()"
   ]
  },
  {
   "cell_type": "code",
   "execution_count": null,
   "metadata": {},
   "outputs": [],
   "source": [
    "from plottingtools import plot_objective_values, plot_membership_histogram\n",
    "from mixtureofconcave import concave_function, submodular_oracle\n",
    "from greedyvariations import *"
   ]
  },
  {
   "cell_type": "markdown",
   "metadata": {
    "hidden": true
   },
   "source": [
    "---"
   ]
  },
  {
   "cell_type": "markdown",
   "metadata": {
    "heading_collapsed": true,
    "hidden": true
   },
   "source": [
    "## आधी क्वोटोबा मग विठोबा : Disjoint Memberships"
   ]
  },
  {
   "cell_type": "code",
   "execution_count": null,
   "metadata": {
    "hidden": true
   },
   "outputs": [],
   "source": [
    "# Setup\n",
    "n = 100\n",
    "m = 80\n",
    "k = 20\n",
    "p = 3\n",
    "p_dist = [0.4, 0.2, 0.4]  # across groups\n",
    "disadvantage_factor = 0.6  # weights shrunk by\n",
    "disadvantage_features = [0, 12, 24]  # number of features to shrink weights on\n",
    "\n",
    "np.random.seed(0)\n",
    "X = np.random.random((n, m))\n",
    "weights = np.random.random(m); weights = weights/np.max(weights)"
   ]
  },
  {
   "cell_type": "code",
   "execution_count": null,
   "metadata": {},
   "outputs": [],
   "source": [
    "# Disjoint Memberships\n",
    "np.random.seed(1)\n",
    "list_memberships = np.random.choice(np.arange(p), size=(n), p=p_dist)  # length n\n",
    "disjoint_memberships = np.eye(p)[list_memberships].astype(int)\n",
    "disjoint_quotas = np.array([4, 4, 4])\n",
    "disjoint_capacities = np.array([12, 12, 12])\n",
    "\n",
    "# Inversely correlate with utility\n",
    "for pp in range(p):\n",
    "    df = np.random.choice(np.arange(m), size=disadvantage_features[pp], replace=False)\n",
    "    dm = np.where(list_memberships == pp)[0]\n",
    "    for member in dm:\n",
    "        for feature in df:\n",
    "            X[member, feature] *= disadvantage_factor"
   ]
  },
  {
   "cell_type": "code",
   "execution_count": null,
   "metadata": {},
   "outputs": [],
   "source": [
    "# # Intersecting Memberships\n",
    "# np.random.seed(1)\n",
    "# intersecting_memberships = np.random.choice([0, 1], size=(n, p))\n",
    "# intersecting_quotas = np.array([2, 2, 2])"
   ]
  },
  {
   "cell_type": "code",
   "execution_count": null,
   "metadata": {},
   "outputs": [],
   "source": [
    "# Color Scheme\n",
    "# 'dimgrey' '#696969'\n",
    "# 'darkkhaki' '#BDB76B'  # ground set\n",
    "# 'indianred' '#CD5C5C'  # random\n",
    "# 'darkcyan' '#008B8B'  # unconstrained\n",
    "# 'gold' '#FFD700'  # disjoint membership capacity\n",
    "# 'skyblue' '#87CEEB'  # intersecting membership capacity\n",
    "# 'orange' '#FFA500'  # disjoint membership quota\n",
    "# 'lightpink' '#FFB6C1'  # intersecting membership quota"
   ]
  },
  {
   "cell_type": "code",
   "execution_count": null,
   "metadata": {},
   "outputs": [],
   "source": []
  },
  {
   "cell_type": "code",
   "execution_count": null,
   "metadata": {},
   "outputs": [],
   "source": [
    "## Ground set eval\n",
    "oracle = submodular_oracle(concave_function, weights, X)\n",
    "ground = oracle.compute_set_value(np.arange(n))"
   ]
  },
  {
   "cell_type": "markdown",
   "metadata": {},
   "source": [
    "<p style=\"background-color:#CD5C5C\">\n",
    "<span style=\"color:white\">Random</span>.\n",
    "</p>"
   ]
  },
  {
   "cell_type": "code",
   "execution_count": null,
   "metadata": {},
   "outputs": [],
   "source": [
    "## Random choice\n",
    "S_random, objectives_random = random_vanilla(submodular_oracle(concave_function, weights, X), k)\n",
    "\n",
    "# [print(oo) for oo in objectives_random]\n",
    "# print(\"group memberships = \", np.sum(disjoint_memberships[S_random], axis=0))\n",
    "# plt.figure(figsize=(10,5))\n",
    "# plt.subplot(1,2,1)\n",
    "# plot_objective_values(objectives_random, ground, \"indianred\", \"dimgrey\")\n",
    "# plt.subplot(1,2,2)\n",
    "# plot_membership_histogram(\n",
    "#     disjoint_memberships, None, S_random,\n",
    "#     \"indianred\", \"darkkhaki\", setlabel=\"random\",\n",
    "#     value=objectives_random[-1]\n",
    "# )"
   ]
  },
  {
   "cell_type": "markdown",
   "metadata": {},
   "source": [
    "<p style=\"background-color:#008B8B\">\n",
    "<span style=\"color:white\">Unconstrained Greedy</span>.\n",
    "</p>"
   ]
  },
  {
   "cell_type": "code",
   "execution_count": null,
   "metadata": {},
   "outputs": [],
   "source": [
    "## Submod greedy\n",
    "S_unc, objectives_unc = greedy_vanilla(submodular_oracle(concave_function, weights, X), k)\n",
    "\n",
    "# [print(oo) for oo in objectives_unc]\n",
    "# print(\"group memberships = \", np.sum(disjoint_memberships[S_unc], axis=0))\n",
    "# plt.figure(figsize=(10,5))\n",
    "# plt.subplot(1,2,1)\n",
    "# plot_objective_values(objectives_unc, ground, \"darkcyan\", \"dimgrey\")\n",
    "# plt.subplot(1,2,2)\n",
    "# plot_membership_histogram(\n",
    "#     disjoint_memberships, None, S_unc,\n",
    "#     \"darkcyan\", \"darkkhaki\", setlabel=\"unconstrained\",\n",
    "#     value=objectives_unc[-1]\n",
    "# )"
   ]
  },
  {
   "cell_type": "markdown",
   "metadata": {},
   "source": [
    "<p style=\"background-color:#FFD700\">\n",
    "<span style=\"color:white\">Capacity Constrained Greedy</span>.\n",
    "</p>"
   ]
  },
  {
   "cell_type": "code",
   "execution_count": null,
   "metadata": {},
   "outputs": [],
   "source": [
    "## Capacity greedy (Disjoint)\n",
    "S_capacity, objectives_capacity = greedy_capacity(\n",
    "    submodular_oracle(concave_function, weights, X),\n",
    "    disjoint_memberships, disjoint_capacities, k\n",
    ")\n",
    "\n",
    "# [print(oo) for oo in objectives]\n",
    "# print(\"group memberships = \", np.sum(disjoint_memberships[S_capacity], axis=0))\n",
    "# plt.figure(figsize=(10,5))\n",
    "# plt.subplot(1,2,1)\n",
    "# plot_objective_values(objectives_capacity, ground, \"darkorange\", \"dimgrey\")\n",
    "# plt.subplot(1,2,2)\n",
    "# plot_membership_histogram(\n",
    "#     disjoint_memberships, disjoint_capacities, S_capacity,\n",
    "#     \"gold\", \"darkkhaki\", setlabel=\"quota greedy\",\n",
    "#     budgetlabel=\"capacities\", value=objectives_capacity[-1]\n",
    "# )"
   ]
  },
  {
   "cell_type": "markdown",
   "metadata": {},
   "source": [
    "<p style=\"background-color:#FFA500\">\n",
    "<span style=\"color:white\">Quota Constrained Greedy</span>.\n",
    "</p>"
   ]
  },
  {
   "cell_type": "code",
   "execution_count": null,
   "metadata": {},
   "outputs": [],
   "source": [
    "## Quota greedy (Disjoint)\n",
    "S_quota, objectives_quota = greedy_quota(\n",
    "    submodular_oracle(concave_function, weights, X),\n",
    "    disjoint_memberships, disjoint_quotas, k\n",
    ")\n",
    "\n",
    "# [print(oo) for oo in objectives]\n",
    "# print(\"group memberships = \", np.sum(disjoint_memberships[S_quota], axis=0))\n",
    "# plt.figure(figsize=(10,5))\n",
    "# plt.subplot(1,2,1)\n",
    "# plot_objective_values(objectives_quota, ground, \"darkorange\", \"dimgrey\")\n",
    "# plt.subplot(1,2,2)\n",
    "# plot_membership_histogram(\n",
    "#     disjoint_memberships, disjoint_quotas, S_quota,\n",
    "#     \"darkorange\", \"darkkhaki\", setlabel=\"quota greedy\",\n",
    "#     budgetlabel=\"quotas\", value=objectives_quota[-1]\n",
    "# )"
   ]
  },
  {
   "cell_type": "markdown",
   "metadata": {},
   "source": [
    "## Plot"
   ]
  },
  {
   "cell_type": "code",
   "execution_count": null,
   "metadata": {},
   "outputs": [],
   "source": [
    "plt.figure(figsize=(10,10))\n",
    "plt.subplot(2,2,1)\n",
    "plot_membership_histogram(\n",
    "    disjoint_memberships, None, S_random,\n",
    "    \"indianred\", \"darkkhaki\", setlabel=\"random\",\n",
    "    value=objectives_random[-1]\n",
    ")\n",
    "plt.subplot(2,2,2)\n",
    "plot_membership_histogram(\n",
    "    disjoint_memberships, None, S_unc,\n",
    "    \"darkcyan\", \"darkkhaki\", setlabel=\"unconstrained\",\n",
    "    value=objectives_unc[-1]\n",
    ")\n",
    "plt.subplot(2,2,3)\n",
    "plot_membership_histogram(\n",
    "    disjoint_memberships, disjoint_capacities, S_capacity,\n",
    "    \"gold\", \"darkkhaki\", setlabel=\"capacity-constrained\",\n",
    "    budgetlabel=\"capacities\", value=objectives_capacity[-1]\n",
    ")\n",
    "plt.subplot(2,2,4)\n",
    "plot_membership_histogram(\n",
    "    disjoint_memberships, disjoint_quotas, S_quota,\n",
    "    \"darkorange\", \"darkkhaki\", setlabel=\"quota-constrained\",\n",
    "    budgetlabel=\"quotas\", value=objectives_quota[-1]\n",
    ")"
   ]
  },
  {
   "cell_type": "code",
   "execution_count": null,
   "metadata": {},
   "outputs": [],
   "source": [
    "print(\"unconstrained group memberships = \", np.sum(disjoint_memberships[S_unc], axis=0))"
   ]
  },
  {
   "cell_type": "markdown",
   "metadata": {
    "hidden": true
   },
   "source": [
    "---"
   ]
  }
 ],
 "metadata": {
  "kernelspec": {
   "display_name": "Python 3 (ipykernel)",
   "language": "python",
   "name": "python3"
  },
  "language_info": {
   "codemirror_mode": {
    "name": "ipython",
    "version": 3
   },
   "file_extension": ".py",
   "mimetype": "text/x-python",
   "name": "python",
   "nbconvert_exporter": "python",
   "pygments_lexer": "ipython3",
   "version": "3.8.9"
  },
  "varInspector": {
   "cols": {
    "lenName": 16,
    "lenType": 16,
    "lenVar": 40
   },
   "kernels_config": {
    "python": {
     "delete_cmd_postfix": "",
     "delete_cmd_prefix": "del ",
     "library": "var_list.py",
     "varRefreshCmd": "print(var_dic_list())"
    },
    "r": {
     "delete_cmd_postfix": ") ",
     "delete_cmd_prefix": "rm(",
     "library": "var_list.r",
     "varRefreshCmd": "cat(var_dic_list()) "
    }
   },
   "types_to_exclude": [
    "module",
    "function",
    "builtin_function_or_method",
    "instance",
    "_Feature"
   ],
   "window_display": false
  }
 },
 "nbformat": 4,
 "nbformat_minor": 2
}
