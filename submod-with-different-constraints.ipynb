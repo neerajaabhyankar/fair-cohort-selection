{
 "cells": [
  {
   "cell_type": "markdown",
   "metadata": {},
   "source": [
    "## Imports"
   ]
  },
  {
   "cell_type": "code",
   "execution_count": null,
   "metadata": {},
   "outputs": [],
   "source": [
    "import os\n",
    "import math\n",
    "\n",
    "import numpy as np\n",
    "from sklearn.manifold import TSNE\n",
    "from sklearn.cluster import KMeans\n",
    "from sklearn.decomposition import PCA\n",
    "import matplotlib.pyplot as plt\n",
    "from matplotlib.lines import Line2D\n",
    "import seaborn as sns\n",
    "sns.set()"
   ]
  },
  {
   "cell_type": "code",
   "execution_count": null,
   "metadata": {},
   "outputs": [],
   "source": [
    "import mixtureofconcave as subm\n",
    "import determinantal as logsubm\n",
    "import plottingtools"
   ]
  },
  {
   "cell_type": "markdown",
   "metadata": {
    "heading_collapsed": true
   },
   "source": [
    "## Plottingtools"
   ]
  },
  {
   "cell_type": "code",
   "execution_count": null,
   "metadata": {
    "hidden": true
   },
   "outputs": [],
   "source": [
    "def plot_objective_values(eval_objectives, eval_ground, setcolor, groundcolor=None):\n",
    "    \"\"\"\n",
    "    As we greedily build out the set,\n",
    "    we plot the value of the objective f(S_t)\n",
    "    at every stage t\n",
    "    :param eval_objectives: f(S_t) for 0 \\leq t < k\n",
    "    :param eval_ground: f(V)\n",
    "    :param setcolor: color to plot f(S_t) with\n",
    "    :param groundcolor: color to plot f(V) with\n",
    "    \"\"\"\n",
    "    k = len(eval_objectives)\n",
    "    plt.plot(np.arange(k), eval_objectives, \"o\", c=setcolor, label=\"$f(S_t)$\")\n",
    "    if groundcolor is not None:\n",
    "        plt.plot(np.arange(k), [eval_ground,]*k, \"--\", c=groundcolor, label=\"$f(V)$\")\n",
    "    plt.xlabel(\"$|S_t|$\")\n",
    "    plt.legend(loc=2)"
   ]
  },
  {
   "cell_type": "code",
   "execution_count": null,
   "metadata": {},
   "outputs": [],
   "source": [
    "def plot_membership_histogram(\n",
    "    memberships, budgets,\n",
    "    S,\n",
    "    setcolor, groundcolor,\n",
    "    budgetlabel=\"budget\", setlabel=\"selection\"\n",
    "):\n",
    "    \"\"\" Given a membership assignment matrix (n x p) and optionally group budgets (min or max),\n",
    "        A selection of indices S of size k < n\n",
    "        Plot the selection's group-wise distribution\n",
    "        :param memberships: n rows (members), p columns (0 or 1 membership bools)\n",
    "        :param budgets: indices in [n], length k\n",
    "        :param setcolor: color to plot f(S_t) with\n",
    "        :param groundcolor: color to plot f(V) with\n",
    "    \"\"\"\n",
    "    \n",
    "    [n, p] = memberships.shape\n",
    "    k = len(S)\n",
    "    \n",
    "    Vcounts = np.sum(memberships, axis=0)\n",
    "    Scounts = np.sum(memberships[S], axis=0)\n",
    "    if budgetlabel == \"quotas\":\n",
    "        unmet = np.where(Scounts < budgets)[0]\n",
    "    elif budgetlabel == \"capacities\":\n",
    "        unmet = np.where(Scounts < capacities)[0]\n",
    "    else:\n",
    "        unmet = None\n",
    "    \n",
    "    plt.bar(np.arange(p), Vcounts, color=groundcolor)  # all members\n",
    "    plt.bar(np.arange(p), Scounts, color=setcolor, label=setlabel)  # selected members\n",
    "    plt.scatter(np.arange(p), budgets, c=\"white\", s=16, zorder=8, label=budgetlabel)  # all budgets\n",
    "    if unmet is not None:\n",
    "        plt.scatter(unmet, budgets[unmet], c=\"red\", s=2, zorder=10, label=\"unmet \"+budgetlabel)  # unmet budgets\n",
    "    plt.legend()\n"
   ]
  },
  {
   "cell_type": "code",
   "execution_count": null,
   "metadata": {
    "hidden": true
   },
   "outputs": [],
   "source": []
  },
  {
   "cell_type": "markdown",
   "metadata": {
    "hidden": true
   },
   "source": [
    "---"
   ]
  },
  {
   "cell_type": "markdown",
   "metadata": {
    "heading_collapsed": true
   },
   "source": [
    "## Submodular Objective"
   ]
  },
  {
   "cell_type": "code",
   "execution_count": null,
   "metadata": {},
   "outputs": [],
   "source": [
    "def concave_function(x):\n",
    "    \"\"\"\n",
    "    \\phi(x)\n",
    "    \"\"\"\n",
    "    # options: modA**0.5, np.log(1+modA), (1-np.exp(-modA)), modA/(1+modA)\n",
    "    return x**0.5\n"
   ]
  },
  {
   "cell_type": "code",
   "execution_count": null,
   "metadata": {},
   "outputs": [],
   "source": [
    "class submodular_oracle:\n",
    "    \n",
    "    def __init__(self, concave_function, weights, X):\n",
    "        \"\"\"\n",
    "        :param concave_function: function \\phi\n",
    "        :param weights: for linear combination of \\phi(\\sum_{i \\in A} X_{ij})) (length m)\n",
    "        :param X: feature matrix (n x m)\n",
    "        \"\"\"\n",
    "        self.concave_function = concave_function\n",
    "        self.weights = weights\n",
    "        self.X = X\n",
    "        self.n = X.shape[0]\n",
    "        self.m = X.shape[1]\n",
    "        self.set = []\n",
    "        self.modular_values = np.zeros(m)\n",
    "        self.current_objective = 0\n",
    "    \n",
    "    def add_element(self, idx):\n",
    "        self.modular_values += X[idx,:]\n",
    "        self.current_objective = np.dot(\n",
    "            self.weights, self.concave_function(self.modular_values)\n",
    "        )\n",
    "        self.set.append(idx)\n",
    "    \n",
    "    def compute_gain(self, idx):\n",
    "        new_modular_values = self.modular_values + X[idx,:]\n",
    "        return np.dot(\n",
    "            self.weights, self.concave_function(new_modular_values)\n",
    "        ) - self.current_objective\n",
    "\n",
    "    def compute_set_value(self, indices):\n",
    "        modular_values = np.sum(X[indices, :], axis=0)\n",
    "        return np.dot(\n",
    "            self.weights, self.concave_function(modular_values)\n",
    "        )"
   ]
  },
  {
   "cell_type": "code",
   "execution_count": null,
   "metadata": {},
   "outputs": [],
   "source": []
  },
  {
   "cell_type": "code",
   "execution_count": null,
   "metadata": {},
   "outputs": [],
   "source": [
    "def greedy_vanilla(k):\n",
    "    \"\"\" \n",
    "    For a given ground set, a feature matrix and mixture weights which define the submodular objective,\n",
    "    Returns the greedy selection and step-wise objective values\n",
    "    Over the addition of k items\n",
    "    :param k: total capacity\n",
    "    \"\"\"\n",
    "    \n",
    "    oracle = submodular_oracle(concave_function, weights, X)\n",
    "    \n",
    "    V = np.arange(n).tolist()\n",
    "    objs = []\n",
    "    objs.append(0)\n",
    "    \n",
    "    for kk in range(k):\n",
    "        maxgain = -100\n",
    "        greedyv = np.random.choice(V)\n",
    "        \n",
    "        gains = [oracle.compute_gain(ii) for ii in V]\n",
    "        greedy_winner = V[np.argmax(gains)]\n",
    "        \n",
    "        # move winner from V to A\n",
    "        V.remove(greedy_winner)\n",
    "        oracle.add_element(greedy_winner)\n",
    "        objs.append(oracle.current_objective)\n",
    "    \n",
    "    return oracle.set, objs\n"
   ]
  },
  {
   "cell_type": "code",
   "execution_count": null,
   "metadata": {
    "hidden": true
   },
   "outputs": [],
   "source": [
    "def greedy_quota(memberships, unfilled_quotas, k, verbose=False):\n",
    "    \"\"\"\n",
    "    :param memberships: n rows (members), p columns (0 or 1 membership bools)\n",
    "    :param unfilled_quotas: indices in [n], numpy array of length p\n",
    "    :param k: total capacity\n",
    "    \"\"\"\n",
    "    oracle = submodular_oracle(concave_function, weights, X)\n",
    "\n",
    "    assert memberships.shape[0] == X.shape[0]\n",
    "    assert memberships.shape[1] == len(unfilled_quotas)\n",
    "    [n, p] = memberships.shape\n",
    "    \n",
    "    V = np.arange(n).tolist()\n",
    "    objs = []\n",
    "    objs.append(0)\n",
    "    \n",
    "    for jj in range(p):\n",
    "        if np.sum(memberships[:,jj]) < unfilled_quotas[jj]:\n",
    "            print(\"Not enough members in group {}, infeasible problem.\".format(jj))\n",
    "            return None, None\n",
    "    \n",
    "    \"\"\" Quota-filling stage \"\"\"\n",
    "    \n",
    "    unfilled_groups = np.where(np.array(unfilled_quotas)>0)[0]\n",
    "    V_quota_candidates = [ii for ii in V if np.sum(memberships[ii][unfilled_groups]) > 0]\n",
    "    \n",
    "    while np.sum(unfilled_quotas) > 0:\n",
    "        \n",
    "        unfilled_groups = np.where(unfilled_quotas>0)[0]\n",
    "        V_quota_candidates = [ii for ii in V if np.sum(memberships[ii][unfilled_groups]) > 0]\n",
    "    \n",
    "        maxgain = -100\n",
    "        greedyv = np.random.choice(V)\n",
    "        \n",
    "        gains = [oracle.compute_gain(ii) for ii in V]\n",
    "        greedy_winner = V[np.argmax(gains)]\n",
    "        \n",
    "        # move winner from V to A\n",
    "        V.remove(greedy_winner)\n",
    "        oracle.add_element(greedy_winner)\n",
    "        objs.append(oracle.current_objective)\n",
    "        \n",
    "        # decrement unfilled quotas\n",
    "        unfilled_quotas = unfilled_quotas - memberships[greedy_winner]\n",
    "        unfilled_quotas.clip(0, k)\n",
    "        \n",
    "        if verbose:\n",
    "            print(\"unfilled_quotas = \", unfilled_quotas)\n",
    "    \n",
    "    \"\"\" Regular greedy stage \"\"\"\n",
    "    \n",
    "    for kk in range(k - len(oracle.set)):\n",
    "        maxgain = -100\n",
    "        greedyv = np.random.choice(V)\n",
    "        \n",
    "        gains = [oracle.compute_gain(ii) for ii in V]\n",
    "        greedy_winner = V[np.argmax(gains)]\n",
    "        \n",
    "        # move winner from V to A\n",
    "        V.remove(greedy_winner)\n",
    "        oracle.add_element(greedy_winner)\n",
    "        objs.append(oracle.current_objective)\n",
    "    \n",
    "    return oracle.set, objs\n"
   ]
  },
  {
   "cell_type": "code",
   "execution_count": null,
   "metadata": {},
   "outputs": [],
   "source": []
  },
  {
   "cell_type": "markdown",
   "metadata": {
    "heading_collapsed": true,
    "hidden": true
   },
   "source": [
    "### Test"
   ]
  },
  {
   "cell_type": "code",
   "execution_count": null,
   "metadata": {
    "hidden": true
   },
   "outputs": [],
   "source": [
    "## Setup\n",
    "\n",
    "n = 50\n",
    "m = 200\n",
    "k = 10\n",
    "p = 3\n",
    "\n",
    "np.random.seed(0)\n",
    "\n",
    "X = np.random.random((n, m))\n",
    "weights = np.random.random(m); weights = weights/np.max(weights)\n",
    "\n",
    "disjoint_memberships = np.random.choice([0, 1], size=(n, p))\n",
    "disjoint_quotas = np.array([2, 2, 2])"
   ]
  },
  {
   "cell_type": "code",
   "execution_count": null,
   "metadata": {},
   "outputs": [],
   "source": [
    "## Ground set eval\n",
    "\n",
    "oracle = submodular_oracle(concave_function, weights, X)\n",
    "ground = oracle.compute_set_value(np.arange(n))"
   ]
  },
  {
   "cell_type": "code",
   "execution_count": null,
   "metadata": {},
   "outputs": [],
   "source": [
    "## Submod greedy\n",
    "\n",
    "S, objectives = greedy_vanilla(k)\n",
    "plt.figure(figsize=(5,5))\n",
    "plot_objective_values(objectives, ground, \"darkcyan\", \"dimgrey\")"
   ]
  },
  {
   "cell_type": "code",
   "execution_count": null,
   "metadata": {},
   "outputs": [],
   "source": [
    "## Quota greedy (Disjoint)\n",
    "\n",
    "S, objectives = greedy_quota(disjoint_memberships, disjoint_quotas, k)\n",
    "plt.figure(figsize=(5,5))\n",
    "plot_objective_values(objectives, ground, \"darkorange\", \"dimgrey\")"
   ]
  },
  {
   "cell_type": "code",
   "execution_count": null,
   "metadata": {
    "hidden": true
   },
   "outputs": [],
   "source": []
  },
  {
   "cell_type": "markdown",
   "metadata": {
    "hidden": true
   },
   "source": [
    "---"
   ]
  },
  {
   "cell_type": "markdown",
   "metadata": {},
   "source": [
    "## Aadhi Quotoba mag Vithoba"
   ]
  },
  {
   "cell_type": "markdown",
   "metadata": {},
   "source": [
    "Compare:<br>\n",
    "Feasibility, output quality, computational complexity."
   ]
  },
  {
   "cell_type": "markdown",
   "metadata": {},
   "source": [
    "---"
   ]
  },
  {
   "cell_type": "markdown",
   "metadata": {},
   "source": [
    "<p style=\"background-color:#ff9933\">\n",
    "Constrained Submodular Max with Disjoint Membership Quota\n",
    "</p>"
   ]
  },
  {
   "cell_type": "code",
   "execution_count": null,
   "metadata": {},
   "outputs": [],
   "source": []
  },
  {
   "cell_type": "code",
   "execution_count": null,
   "metadata": {},
   "outputs": [],
   "source": [
    "n_samples = 1000\n",
    "m_features = 2\n",
    "k_budget = 100\n",
    "\n",
    "np.random.seed(0)\n",
    "X = np.random.random((n_samples, m_features))\n",
    "\n",
    "np.random.seed(1)\n",
    "mixw = np.random.random(m_features); mixw = mixw/np.max(mixw)"
   ]
  },
  {
   "cell_type": "code",
   "execution_count": null,
   "metadata": {},
   "outputs": [],
   "source": [
    "p_groups = 20\n",
    "memcolors = np.array([\"#11{:02X}dd\".format(pp) for pp in np.arange(0, 256, 256//p_groups)])"
   ]
  },
  {
   "cell_type": "code",
   "execution_count": null,
   "metadata": {},
   "outputs": [],
   "source": [
    "#%% Random group assignment\n",
    "\n",
    "np.random.seed(2)\n",
    "Memvec = np.eye(p_groups)[np.random.choice(p_groups, n_samples)].astype(int)\n",
    "\n",
    "#print([len(np.argwhere(Memvec[:,jj])) for jj in range(p_groups)])\n",
    "print(np.sum(Memvec, axis=0))\n",
    "\n",
    "#%%Clustering-based group assignment\n",
    "\n",
    "# kmeans = KMeans(n_clusters=p_groups, random_state=0).fit(X)\n",
    "# Memvec = np.eye(p_groups)[kmeans.labels_].astype(int)\n",
    "\n",
    "#%% Viz\n",
    "\n",
    "# vizpca_DMQ(X, Memvec, memcolors, [], \"orange\", \"Group assignment\")"
   ]
  },
  {
   "cell_type": "code",
   "execution_count": null,
   "metadata": {},
   "outputs": [],
   "source": [
    "#%% Uniform quota\n",
    "\n",
    "quo = np.ones(p_groups)*3\n",
    "\n",
    "#%% Proportionate quota\n",
    "\n",
    "# quo = np.sum(Memvec, axis=0)*k_budget//n_samples - 3"
   ]
  },
  {
   "cell_type": "code",
   "execution_count": null,
   "metadata": {
    "scrolled": false
   },
   "outputs": [],
   "source": [
    "S_s, objectives_s = subm.greedygains_submod(None, X, mixw, k_budget)\n",
    "S_sq, objectives_sq = subm.greedyDMquota_submod(None, X, mixw, Memvec, quo, k_budget)\n",
    "S_r = np.random.choice(n_samples, k_budget)\n",
    "objective_sr = subm.submodgains(X, np.sum(X[S_r,:], axis=0), 0, None, mixw)\n",
    "\n",
    "print(\"Objective without quota\", objectives_s[-1], \"\\n\", S_s)\n",
    "print(\"Objective with quota\", objectives_sq[-1], \"\\n\", S_sq)\n",
    "print(\"Objective of random selection\", objective_sr, \"\\n\", S_r)\n",
    "\n",
    "plt.figure(figsize=(15,5))\n",
    "plt.subplot(1,3,1)\n",
    "plot_membership_histogram(Memvec, quo, S_s, \"darkorange\", \"darkcyan\", budgetlabel=\"quotas\", setlabel=\"SPP\")\n",
    "plt.subplot(1,3,2)\n",
    "plot_membership_histogram(Memvec, quo, S_sq, \"yellowgreen\", \"darkcyan\", budgetlabel=\"quotas\", setlabel=\"SPP-DMQ\")\n",
    "plt.subplot(1,3,3)\n",
    "plot_membership_histogram(Memvec, quo, S_r, \"indianred\", \"darkcyan\", budgetlabel=\"quotas\", setlabel=\"Random\")"
   ]
  },
  {
   "cell_type": "code",
   "execution_count": null,
   "metadata": {},
   "outputs": [],
   "source": []
  },
  {
   "cell_type": "code",
   "execution_count": null,
   "metadata": {},
   "outputs": [],
   "source": []
  },
  {
   "cell_type": "code",
   "execution_count": null,
   "metadata": {},
   "outputs": [],
   "source": []
  },
  {
   "cell_type": "code",
   "execution_count": null,
   "metadata": {},
   "outputs": [],
   "source": []
  },
  {
   "cell_type": "code",
   "execution_count": null,
   "metadata": {},
   "outputs": [],
   "source": []
  },
  {
   "cell_type": "code",
   "execution_count": null,
   "metadata": {},
   "outputs": [],
   "source": [
    "# S_sq, objectives_sq = greedyDMquota_submod(None, X, mixw, Memvec, quo, k_budget, True)"
   ]
  },
  {
   "cell_type": "markdown",
   "metadata": {},
   "source": [
    "= = = = "
   ]
  },
  {
   "cell_type": "markdown",
   "metadata": {},
   "source": [
    "Can we show that there is some benefit to adding _good_ elements _after_ we have met\n",
    "fairness (here, diversity?! if they are geometrically correlated...) constraints.\n",
    "\n",
    "We don't want to confuse _good_ with _diverse_. I mean we do want to pick the good ones among the diverse tho...<br>\n",
    "Is it like -- the group that is picked last gets more quality canditades chosen? and the one that goes first gets filled with token shit??"
   ]
  },
  {
   "cell_type": "markdown",
   "metadata": {},
   "source": [
    "= = = = "
   ]
  },
  {
   "cell_type": "code",
   "execution_count": null,
   "metadata": {},
   "outputs": [],
   "source": []
  },
  {
   "cell_type": "code",
   "execution_count": null,
   "metadata": {},
   "outputs": [],
   "source": [
    "plt.figure(figsize=(12,5))\n",
    "\n",
    "plt.subplot(1,2,1)\n",
    "vizpca(X, \"darkcyan\", S_s, \"darkorange\", \"SPP\")\n",
    "plt.subplot(1,2,2)\n",
    "vizpca_DMQ(X, Memvec, memcolors, S_sq, \"yellowgreen\", \"SPP-DMQ\")"
   ]
  },
  {
   "cell_type": "code",
   "execution_count": null,
   "metadata": {},
   "outputs": [],
   "source": [
    "viztsne_IMQ(X, Memvec, [\"lightskyblue\", \"darkcyan\"], S_sq, \"yellowgreen\", \"SPP-DMQ\", 30)"
   ]
  },
  {
   "cell_type": "code",
   "execution_count": null,
   "metadata": {},
   "outputs": [],
   "source": []
  },
  {
   "cell_type": "markdown",
   "metadata": {},
   "source": [
    "---"
   ]
  },
  {
   "cell_type": "markdown",
   "metadata": {},
   "source": [
    "<p style=\"background-color:#ff99cc\">\n",
    "Constrained Submodular Max with Intersecting Membership Quota\n",
    "</p>"
   ]
  },
  {
   "cell_type": "code",
   "execution_count": null,
   "metadata": {},
   "outputs": [],
   "source": []
  },
  {
   "cell_type": "code",
   "execution_count": null,
   "metadata": {},
   "outputs": [],
   "source": [
    "n_samples = 1000\n",
    "m_features = 50\n",
    "k_budget = 100\n",
    "\n",
    "np.random.seed(0)\n",
    "X = np.random.random((n_samples, m_features))\n",
    "\n",
    "np.random.seed(1)\n",
    "mixw = np.random.random(m_features); mixw = mixw/np.max(mixw)"
   ]
  },
  {
   "cell_type": "code",
   "execution_count": null,
   "metadata": {},
   "outputs": [],
   "source": [
    "p_groups = 20\n",
    "memcolors = np.array([\"#11{:02X}dd\".format(pp) for pp in np.arange(0, 256, 256//p_groups)])"
   ]
  },
  {
   "cell_type": "code",
   "execution_count": null,
   "metadata": {},
   "outputs": [],
   "source": [
    "#%% Random group assignment\n",
    "\n",
    "# np.random.seed(2)\n",
    "# group_probabs = np.random.uniform(0.05, 0.45, p_groups)\n",
    "# Memvec = np.zeros((n_samples, p_groups)).astype(int)\n",
    "# for jj in range(p_groups):\n",
    "#     Memvec[:,jj] = np.random.binomial(1, group_probabs[jj], n_samples)\n",
    "\n",
    "# print(np.sum(Memvec, axis=0))\n",
    "\n",
    "#%%Clustering-based group assignment\n",
    "\n",
    "kmeans = KMeans(n_clusters=p_groups+3, random_state=0).fit(X)\n",
    "Memvec = np.eye(p_groups+3, p_groups)[kmeans.labels_].astype(int)\n",
    "\n",
    "np.random.seed(2)\n",
    "group_probabs = np.random.uniform(0.05, 0.2, p_groups)\n",
    "for jj in range(p_groups):\n",
    "    Memvec[:,jj] = np.maximum(Memvec[:,jj], np.random.binomial(1, group_probabs[jj], n_samples))\n",
    "\n",
    "#%% Viz\n",
    "\n",
    "# vizpca_DMQ(X, Memvec, memcolors, [], \"orange\", \"Group assignment\")"
   ]
  },
  {
   "cell_type": "code",
   "execution_count": null,
   "metadata": {},
   "outputs": [],
   "source": [
    "#%% Uniform quota\n",
    "\n",
    "# quo = np.ones(p_groups)*2\n",
    "\n",
    "#%% Proportionate quota\n",
    "\n",
    "quo = np.sum(Memvec, axis=0)*k_budget//n_samples - 2"
   ]
  },
  {
   "cell_type": "code",
   "execution_count": null,
   "metadata": {
    "scrolled": false
   },
   "outputs": [],
   "source": [
    "S_s, objectives_s = subm.greedygains_submod(None, X, mixw, k_budget)\n",
    "S_sq, objectives_sq = subm.greedyIMquota_submod(None, X, mixw, Memvec, quo, k_budget)\n",
    "S_r = np.random.choice(n_samples, k_budget)\n",
    "objective_sr = subm.submodgains(X, np.sum(X[S_r,:], axis=0), 0, None, mixw)\n",
    "\n",
    "print(\"Objective without quota\", objectives_s[-1], \"\\n\", S_s)\n",
    "print(\"Objective with quota\", objectives_sq[-1], \"\\n\", S_sq)\n",
    "print(\"Objective of random selection\", objective_sr, \"\\n\", S_r)\n",
    "\n",
    "plt.figure(figsize=(15,5))\n",
    "plt.subplot(1,3,1)\n",
    "plottingtools.vizbalance_MQ(np.arange(n_samples), Memvec, \"darkcyan\", quo, S_s, \"darkorange\", \"SPP\")\n",
    "plt.subplot(1,3,2)\n",
    "plottingtools.vizbalance_MQ(np.arange(n_samples), Memvec, \"darkcyan\", quo, S_sq, \"yellowgreen\", \"SPP-DMQ\")\n",
    "plt.subplot(1,3,3)\n",
    "plottingtools.vizbalance_MQ(np.arange(n_samples), Memvec, \"darkcyan\", quo, S_r, \"indianred\", \"Random\")"
   ]
  },
  {
   "cell_type": "code",
   "execution_count": null,
   "metadata": {},
   "outputs": [],
   "source": []
  },
  {
   "cell_type": "markdown",
   "metadata": {},
   "source": [
    "---"
   ]
  },
  {
   "cell_type": "markdown",
   "metadata": {},
   "source": [
    "<p style=\"background-color:#ccff66\">\n",
    "Constrained Submodular Max with Feature Quota\n",
    "</p>"
   ]
  },
  {
   "cell_type": "code",
   "execution_count": null,
   "metadata": {},
   "outputs": [],
   "source": []
  }
 ],
 "metadata": {
  "kernelspec": {
   "display_name": "Python 3 (ipykernel)",
   "language": "python",
   "name": "python3"
  },
  "language_info": {
   "codemirror_mode": {
    "name": "ipython",
    "version": 3
   },
   "file_extension": ".py",
   "mimetype": "text/x-python",
   "name": "python",
   "nbconvert_exporter": "python",
   "pygments_lexer": "ipython3",
   "version": "3.8.9"
  },
  "varInspector": {
   "cols": {
    "lenName": 16,
    "lenType": 16,
    "lenVar": 40
   },
   "kernels_config": {
    "python": {
     "delete_cmd_postfix": "",
     "delete_cmd_prefix": "del ",
     "library": "var_list.py",
     "varRefreshCmd": "print(var_dic_list())"
    },
    "r": {
     "delete_cmd_postfix": ") ",
     "delete_cmd_prefix": "rm(",
     "library": "var_list.r",
     "varRefreshCmd": "cat(var_dic_list()) "
    }
   },
   "types_to_exclude": [
    "module",
    "function",
    "builtin_function_or_method",
    "instance",
    "_Feature"
   ],
   "window_display": false
  }
 },
 "nbformat": 4,
 "nbformat_minor": 2
}
