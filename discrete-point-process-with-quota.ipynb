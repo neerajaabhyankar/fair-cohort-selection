{
 "cells": [
  {
   "cell_type": "markdown",
   "metadata": {},
   "source": [
    "## Imports"
   ]
  },
  {
   "cell_type": "code",
   "execution_count": 129,
   "metadata": {},
   "outputs": [],
   "source": [
    "import os\n",
    "import math\n",
    "\n",
    "import numpy as np\n",
    "from sklearn.manifold import TSNE\n",
    "from sklearn.cluster import KMeans\n",
    "from sklearn.decomposition import PCA\n",
    "import matplotlib.pyplot as plt\n",
    "from matplotlib.lines import Line2D\n",
    "import seaborn as sns\n",
    "sns.set()"
   ]
  },
  {
   "cell_type": "code",
   "execution_count": 130,
   "metadata": {},
   "outputs": [],
   "source": [
    "# import mixtureofconcave as subm\n",
    "# import determinantal as logsubm\n",
    "# import plottingtools"
   ]
  },
  {
   "cell_type": "markdown",
   "metadata": {},
   "source": [
    "## Plottingtools"
   ]
  },
  {
   "cell_type": "code",
   "execution_count": 131,
   "metadata": {},
   "outputs": [],
   "source": [
    "#%% Plot gain curves\n",
    "\n",
    "def objplot(objs, ground, setcolor, setcolorground=None):\n",
    "    krange = np.arange(len(objs))\n",
    "    \n",
    "    plt.plot(krange, objs, \"o\", c=setcolor, label=\"f(S)\")\n",
    "    if setcolorground is not None:\n",
    "        plt.plot(krange, [ground,]*len(objs), \"--\", c=setcolorground, label=\"ground set eval\")\n",
    "    plt.xlabel(\"set size\")\n",
    "    plt.legend(loc=2)\n",
    "\n",
    "def logobjplot(objs, ground, setcolor, setcolorground=None):\n",
    "    krange = np.arange(len(objs))\n",
    "    \n",
    "    plt.plot(krange, np.log(objs), \"o\", c=setcolor, label=\"log(f(S))\")\n",
    "    if setcolorground is not None:\n",
    "        plt.plot(krange, [np.log(ground),]*len(objs), \"--\", c=setcolorground, label=\"ground set eval\")\n",
    "    plt.xlabel(\"set size\")\n",
    "    plt.legend(loc=2)\n"
   ]
  },
  {
   "cell_type": "code",
   "execution_count": 132,
   "metadata": {},
   "outputs": [],
   "source": [
    "#%% Plot TSNE of subset selection\n",
    "\n",
    "def viztsne(X, vcolor, S, setcolor, setlabel, perp):\n",
    "    \"\"\" Given an nxm feature matrix X\n",
    "        A selection of indices S of size k < n\n",
    "        Plot the selection's 2d TSNE\n",
    "    \"\"\"\n",
    "    \n",
    "    [n,m] = X.shape\n",
    "    \n",
    "    Xemb = TSNE(n_components=2, random_state=256).fit_transform(X)\n",
    "    \n",
    "    plt.scatter(Xemb[:,0], Xemb[:,1], c=vcolor)\n",
    "    plt.scatter(Xemb[S,0], Xemb[S,1], facecolors=\"none\", edgecolors=setcolor, linewidth=2, label=setlabel)\n",
    "    plt.legend()\n",
    "\n",
    "#%% Plot TSNE of subset selection -- with Discrete Memberships\n",
    "\n",
    "def viztsne_DMQ(X, Memvec, memcolors, S, setcolor, setlabel, perp):\n",
    "    \"\"\" Given an nxm feature matrix X\n",
    "        A selection of indices S of size k < n\n",
    "        An n x p Membership matrix for p groups\n",
    "        Plot the selection's 2d TSNE\n",
    "    \"\"\"\n",
    "    \n",
    "    [n,m] = X.shape\n",
    "    p = Memvec.shape[1]\n",
    "    \n",
    "    Xemb = TSNE(n_components=2, random_state=256).fit_transform(X)\n",
    "    \n",
    "    for jj in range(p):\n",
    "        memgrp = np.argwhere(Memvec[:,jj])\n",
    "        plt.scatter(Xemb[memgrp,0], Xemb[memgrp,1], c=memcolors[jj])\n",
    "    plt.scatter(Xemb[S,0], Xemb[S,1], facecolors=\"none\", edgecolors=setcolor, linewidth=2, label=setlabel)\n",
    "    plt.legend()\n",
    "\n",
    "#%% Plot TSNE of subset selection -- with Intersecting Memberships\n",
    "\n",
    "def viztsne_IMQ(X, Memvec, memcolors, S, setcolor, setlabel, perp):\n",
    "    \"\"\" Given an nxm feature matrix X\n",
    "        A selection of indices S of size k < n\n",
    "        An n x p Membership matrix for p groups\n",
    "        Plot the selection's 2d TSNE\n",
    "    \"\"\"\n",
    "    \n",
    "    [n,m] = X.shape\n",
    "    p = Memvec.shape[1]\n",
    "    \n",
    "    Xemb = TSNE(n_components=2, random_state=256).fit_transform(X)\n",
    "    \n",
    "    plt.figure(figsize=(p*5, 5))\n",
    "    for jj in range(p):\n",
    "        plt.subplot(1,p,jj+1)\n",
    "        plt.scatter(Xemb[:,0], Xemb[:,1], c=memcolors[0])\n",
    "        \n",
    "        memgrp = np.argwhere(Memvec[:,jj])\n",
    "        plt.scatter(Xemb[memgrp,0], Xemb[memgrp,1], c=memcolors[1], label=\"group{}\".format(jj+1))\n",
    "        \n",
    "        plt.scatter(Xemb[S,0], Xemb[S,1], facecolors=\"none\", edgecolors=setcolor, linewidth=2, label=setlabel)\n",
    "        plt.legend()\n"
   ]
  },
  {
   "cell_type": "code",
   "execution_count": 133,
   "metadata": {},
   "outputs": [],
   "source": [
    "#%% Plot PCA reduction of subset selection\n",
    "\n",
    "def vizpca(X, vcolor, S, setcolor, setlabel=\"selection\"):\n",
    "    \"\"\" Given an nxm feature matrix X\n",
    "        A selection of indices S of size k < n\n",
    "        An n x p Membership matrix for p groups\n",
    "        Plot the selection's 2d PCA\n",
    "    \"\"\"\n",
    "    \n",
    "    [n,m] = X.shape\n",
    "    \n",
    "    Xemb = PCA(n_components=m).fit(X).transform(X)[:,:2]\n",
    "    \n",
    "    plt.scatter(Xemb[:,0], Xemb[:,1], c=vcolor)\n",
    "    plt.scatter(Xemb[S,0], Xemb[S,1], facecolors=\"none\", edgecolors=setcolor, linewidth=2, label=setlabel)\n",
    "    plt.legend()\n",
    "\n",
    "#%% Plot PCA reduction of subset selection -- with Discrete Memberships\n",
    "\n",
    "def vizpca_DMQ(X, Memvec, memcolors, S, setcolor, setlabel=\"selection\"):\n",
    "    \"\"\" Given an nxm feature matrix X\n",
    "        A selection of indices S of size k < n\n",
    "        An n x p Membership matrix for p groups\n",
    "        Plot the selection's 2d PCA\n",
    "    \"\"\"\n",
    "    \n",
    "    [n,m] = X.shape\n",
    "    p = Memvec.shape[1]\n",
    "    \n",
    "    Xemb = PCA(n_components=m).fit(X).transform(X)[:,:2]\n",
    "    \n",
    "    for jj in range(p):\n",
    "        memgrp = np.argwhere(Memvec[:,jj])\n",
    "        plt.scatter(Xemb[memgrp,0], Xemb[memgrp,1], c=memcolors[jj])\n",
    "    plt.scatter(Xemb[S,0], Xemb[S,1], facecolors=\"none\", edgecolors=setcolor, linewidth=2, label=setlabel)\n",
    "    plt.legend()\n"
   ]
  },
  {
   "cell_type": "code",
   "execution_count": 134,
   "metadata": {},
   "outputs": [],
   "source": [
    "#%% Plot TSNE of subset selection -- with Feature Quotas\n",
    "\n",
    "#\n"
   ]
  },
  {
   "cell_type": "code",
   "execution_count": 169,
   "metadata": {},
   "outputs": [],
   "source": [
    "#%% Plot Group Membership histograms of selections -- Membership Quota\n",
    "\n",
    "def vizbalance_MQ(V, Memvec, vcolor, quo, quocolor, S, setcolor, setlabel=\"selection\"):\n",
    "    \"\"\" Given a ground set (n)\n",
    "        With Membership Assignments (n x p)\n",
    "        And optionally a quota\n",
    "        A selection of indices S of size k < n\n",
    "        Plot the selection's 2d PCA\n",
    "    \"\"\"\n",
    "    \n",
    "    [n,p] = Memvec.shape\n",
    "    if V is None:\n",
    "        V = np.arange(n)\n",
    "    \n",
    "    Vgroups = np.zeros(p)\n",
    "    Sgroups = np.zeros(p)\n",
    "    \n",
    "    for jj in range(p):\n",
    "        Vgroups[jj] = np.sum(Memvec[V,jj])\n",
    "        Sgroups[jj] = np.sum(Memvec[S,jj])\n",
    "    \n",
    "    plt.bar(np.arange(p), Vgroups, color=vcolor)\n",
    "    plt.bar(np.arange(p), Sgroups, color=setcolor, label=setlabel)\n",
    "    plt.plot(np.arange(p), quo, marker=\"o\", linestyle=\"--\", c=quocolor)\n",
    "    plt.legend()\n"
   ]
  },
  {
   "cell_type": "code",
   "execution_count": null,
   "metadata": {},
   "outputs": [],
   "source": []
  },
  {
   "cell_type": "code",
   "execution_count": null,
   "metadata": {},
   "outputs": [],
   "source": []
  },
  {
   "cell_type": "markdown",
   "metadata": {},
   "source": [
    "---"
   ]
  },
  {
   "cell_type": "markdown",
   "metadata": {},
   "source": [
    "## Log-submodular"
   ]
  },
  {
   "cell_type": "markdown",
   "metadata": {
    "heading_collapsed": true
   },
   "source": [
    "### DPP"
   ]
  },
  {
   "cell_type": "code",
   "execution_count": 136,
   "metadata": {
    "hidden": true
   },
   "outputs": [],
   "source": [
    "#%% Marginal gain oracle of the utility\n",
    "\n",
    "def dppgains(K, AA, aa, detKA):\n",
    "    \"\"\" Returns det(K_{A+a}) - det(K_A)\n",
    "        BEING EXTREMELY CRUDE HERE,\n",
    "        A more efficient way might be possible\n",
    "    \"\"\"\n",
    "    \n",
    "    Aa = np.append(AA,aa)\n",
    "    KAa = np.atleast_2d(K[Aa])[:,Aa]\n",
    "    \n",
    "    return np.linalg.det(KAa) - detKA\n"
   ]
  },
  {
   "cell_type": "code",
   "execution_count": 159,
   "metadata": {
    "hidden": true
   },
   "outputs": [],
   "source": [
    "#%% Plain old simple Greedy\n",
    "\n",
    "def greedygains_logsubmod(V, X, k):\n",
    "    \"\"\" For a given ground set, a feature matrix whose determinant defines the objective\n",
    "        (THIS IS FOR A DPP),\n",
    "        Returns the greedy selection and step-wise objective values\n",
    "        Over the addition of k items\n",
    "    \"\"\"\n",
    "    \n",
    "    K = X @ X.transpose()\n",
    "    n = K.shape[0]\n",
    "    \n",
    "    if V is None:\n",
    "        V = np.arange(n)\n",
    "    \n",
    "    objs = np.empty(k+1)\n",
    "    \n",
    "    A = np.empty(0, int)\n",
    "    ff = 1 # since this is a determinantal process and det(\\phi) = 1\n",
    "    objs[0] = ff\n",
    "    \n",
    "    for ii in range(k):\n",
    "        \n",
    "        maxgain = -100\n",
    "        greedyv = np.random.choice(V)\n",
    "        \n",
    "        for vidx in range(len(V)):\n",
    "            gain = dppgains(K, A, V[vidx], ff)\n",
    "            if gain > maxgain:\n",
    "                maxgain = gain\n",
    "                greedyv = V[vidx]\n",
    "        \n",
    "        # add element to A, remove from V, update gains\n",
    "        A = np.append(A, greedyv)\n",
    "        V = V[V!=greedyv]\n",
    "        ff += maxgain\n",
    "        objs[ii+1] = ff\n",
    "    \n",
    "    return A, objs\n"
   ]
  },
  {
   "cell_type": "markdown",
   "metadata": {
    "heading_collapsed": true
   },
   "source": [
    "### Run"
   ]
  },
  {
   "cell_type": "code",
   "execution_count": 138,
   "metadata": {
    "hidden": true
   },
   "outputs": [],
   "source": [
    "n = 50\n",
    "m = 200\n",
    "k = 10\n",
    "\n",
    "np.random.seed(0)\n",
    "X = np.random.random((n, m))\n",
    "\n",
    "K = X @ X.transpose()\n",
    "ground = np.linalg.det(K)"
   ]
  },
  {
   "cell_type": "code",
   "execution_count": 139,
   "metadata": {
    "hidden": true
   },
   "outputs": [],
   "source": [
    "S, objectives = greedygains_logsubmod(None, X, k)"
   ]
  },
  {
   "cell_type": "code",
   "execution_count": 140,
   "metadata": {
    "hidden": true
   },
   "outputs": [
    {
     "data": {
      "image/png": "[encoded data removed]",
      "text/plain": [
       "<Figure size 720x360 with 2 Axes>"
      ]
     },
     "metadata": {},
     "output_type": "display_data"
    }
   ],
   "source": [
    "plt.figure(figsize=(10,5))\n",
    "\n",
    "plt.subplot(1,2,1)\n",
    "objplot(objectives, ground, \"mediumvioletred\")\n",
    "plt.subplot(1,2,2)\n",
    "logobjplot(objectives, ground, \"purple\", \"midnightblue\")"
   ]
  },
  {
   "cell_type": "code",
   "execution_count": 141,
   "metadata": {
    "hidden": true
   },
   "outputs": [
    {
     "name": "stdout",
     "output_type": "stream",
     "text": [
      "1.000\n",
      "74.940\n",
      "2486.709\n",
      "63555.810\n",
      "1487750.070\n",
      "31893574.032\n",
      "677766067.108\n",
      "14108951137.618\n",
      "276220495859.501\n",
      "5396136349373.081\n",
      "101255403669399.172\n"
     ]
    }
   ],
   "source": [
    "for oo in objectives: print(\"{:.3f}\".format(oo))"
   ]
  },
  {
   "cell_type": "markdown",
   "metadata": {
    "hidden": true
   },
   "source": [
    "---"
   ]
  },
  {
   "cell_type": "markdown",
   "metadata": {},
   "source": [
    "## Submodular"
   ]
  },
  {
   "cell_type": "markdown",
   "metadata": {
    "heading_collapsed": true
   },
   "source": [
    "### A weighted mixture of m(A)^{0.2}"
   ]
  },
  {
   "cell_type": "code",
   "execution_count": 142,
   "metadata": {
    "hidden": true
   },
   "outputs": [],
   "source": [
    "#%% Marginal gain oracle of the utility\n",
    "\n",
    "def submodgains(X, modA, fA, aa, mixw):\n",
    "    \"\"\" Returns f(A+a) - f(A)\n",
    "        Where f(A) = \\sum_{j=1}^m (w_j * \\phi(\\sum_{i \\in A} X_{ij}))\n",
    "    \"\"\"\n",
    "    \n",
    "    modAa = modA + X[aa,:] if aa is not None else modA\n",
    "    \n",
    "    # options: modA**0.5, np.log(1+modA), (1-np.exp(-modA)), modA/(1+modA)\n",
    "    fAa = np.dot(mixw, modAa**0.2)\n",
    "    \n",
    "    return fAa - fA\n"
   ]
  },
  {
   "cell_type": "code",
   "execution_count": 143,
   "metadata": {
    "hidden": true
   },
   "outputs": [],
   "source": [
    "#%% Plain old simple Greedy\n",
    "\n",
    "def greedygains_submod(V, X, mixw, k):\n",
    "    \"\"\" For a given ground set, a feature matrix and mixture weights which define the objective\n",
    "        (submodular),\n",
    "        Returns the greedy selection and step-wise objective values\n",
    "        Over the addition of k items\n",
    "    \"\"\"\n",
    "    \n",
    "    [n,m] = X.shape\n",
    "    \n",
    "    if V is None:\n",
    "        V = np.arange(n)\n",
    "    \n",
    "    objs = np.empty(k+1)\n",
    "    \n",
    "    A = np.empty(0, int)\n",
    "    modA = np.sum(X[A,:], axis=0)\n",
    "    ff = 0 # assume normalized for now\n",
    "    objs[0] = ff\n",
    "    \n",
    "    for ii in range(k):\n",
    "        \n",
    "        maxgain = -100\n",
    "        greedyv = np.random.choice(V)\n",
    "        \n",
    "        for vidx in range(len(V)):\n",
    "            gain = submodgains(X, modA, ff, V[vidx], mixw)\n",
    "            if gain > maxgain:\n",
    "                maxgain = gain\n",
    "                greedyv = V[vidx]\n",
    "        \n",
    "        # add element to A, remove from V, update gains\n",
    "        A = np.append(A, greedyv)\n",
    "        modA += X[greedyv,:]\n",
    "        V = V[V!=greedyv]\n",
    "        ff += maxgain\n",
    "        objs[ii+1] = ff\n",
    "    \n",
    "    return A, objs\n"
   ]
  },
  {
   "cell_type": "code",
   "execution_count": 144,
   "metadata": {
    "hidden": true
   },
   "outputs": [],
   "source": [
    "#%% Greedy for DMQ\n",
    "\n",
    "def greedyquota_submod(V, X, mixw, Memvec, quo, k ,verbose=False):\n",
    "    \"\"\" For the disjoint membership quota.\n",
    "        Memvec is an n x p one-hot matrix (exactly one 1 per row).\n",
    "        quo is a p x 1 vector.\n",
    "        Output a subset that satisfies the quotas.\n",
    "    \"\"\"\n",
    "    \n",
    "    [n,m] = X.shape\n",
    "    \n",
    "    if V is None:\n",
    "        V = np.arange(n)\n",
    "    \n",
    "    objs = np.empty(k+1)\n",
    "    \n",
    "    A = np.empty(0, int)\n",
    "    modA = np.sum(X[A,:], axis=0)\n",
    "    ff = 0 # assume normalized for now\n",
    "    objs[0] = ff\n",
    "    \n",
    "    \"\"\" Quota-filling stage \"\"\"\n",
    "    \n",
    "    ii = 0\n",
    "    Vsat = np.copy(V) # only for use in the quota-filling stage\n",
    "    while ii < np.sum(quo):\n",
    "        \n",
    "        maxgain = -100\n",
    "        greedyv = np.random.choice(Vsat)\n",
    "        \n",
    "        for vidx in range(len(Vsat)):\n",
    "            gain = submodgains(X, modA, ff, Vsat[vidx], mixw)\n",
    "            if gain > maxgain:\n",
    "                maxgain = gain\n",
    "                greedyv = Vsat[vidx]\n",
    "        \n",
    "        # add element to A, update gains\n",
    "        A = np.append(A, greedyv)\n",
    "        modA += X[greedyv,:]\n",
    "        ff += maxgain\n",
    "        objs[ii+1] = ff\n",
    "        \n",
    "        # remove from V, remove all from Vsat if quota filled\n",
    "        V = V[V!=greedyv]\n",
    "        grp = np.argwhere(Memvec[greedyv])\n",
    "\n",
    "        if verbose:\n",
    "            print(\"selected element\", greedyv)\n",
    "            print(\"lies in group\", grp)\n",
    "            print(\"new A\", A)\n",
    "\n",
    "        if np.sum(Memvec[A,grp]) >= quo[grp]:\n",
    "            if verbose:\n",
    "                print(\"Quota for group {} satisfied by set {}\".format(\n",
    "                        grp, A[Memvec[A,grp].flatten().astype(bool)])\n",
    "                     )\n",
    "                print(\"Deleting {}\".format(Vsat[Memvec[Vsat,grp].flatten().astype(bool)]))\n",
    "            Vsat = np.delete(Vsat, np.argwhere(Memvec[Vsat,grp].flatten()))\n",
    "        else:\n",
    "            if verbose:\n",
    "                print(\"Only deleting\", Vsat[Vsat==greedyv])\n",
    "            Vsat = Vsat[Vsat!=greedyv]\n",
    "\n",
    "        if verbose:\n",
    "            print(\"new Vsat\", Vsat)\n",
    "        \n",
    "        ii += 1\n",
    "    \n",
    "    \n",
    "    \"\"\" Regular greedy stage \"\"\"\n",
    "    \n",
    "    while ii < k:\n",
    "        \n",
    "        maxgain = -100\n",
    "        greedyv = np.random.choice(V)\n",
    "        \n",
    "        for vidx in range(len(V)):\n",
    "            gain = submodgains(X, modA, ff, V[vidx], mixw)\n",
    "            if gain > maxgain:\n",
    "                maxgain = gain\n",
    "                greedyv = V[vidx]\n",
    "        \n",
    "        # add element to A, remove from V, update gains\n",
    "        A = np.append(A, greedyv)\n",
    "        modA += X[greedyv,:]\n",
    "        V = V[V!=greedyv]\n",
    "        ff += maxgain\n",
    "        objs[ii+1] = ff\n",
    "        \n",
    "        if verbose:\n",
    "            print(\"selected element\", greedyv)\n",
    "            print(\"lies in group\", np.argwhere(Memvec[greedyv]))\n",
    "            print(\"new A\", A)\n",
    "        \n",
    "        ii += 1\n",
    "    \n",
    "    return A, objs\n"
   ]
  },
  {
   "cell_type": "markdown",
   "metadata": {
    "heading_collapsed": true
   },
   "source": [
    "### Run"
   ]
  },
  {
   "cell_type": "code",
   "execution_count": 145,
   "metadata": {
    "hidden": true
   },
   "outputs": [],
   "source": [
    "n = 50\n",
    "m = 200\n",
    "k = 10\n",
    "\n",
    "np.random.seed(0)\n",
    "X = np.random.random((n, m))\n",
    "mixw = np.random.random(m); mixw = mixw/np.max(mixw)\n",
    "\n",
    "ground = np.dot(mixw, np.sum(X, axis=0)**0.2)"
   ]
  },
  {
   "cell_type": "code",
   "execution_count": 146,
   "metadata": {
    "hidden": true
   },
   "outputs": [],
   "source": [
    "S, objectives = greedygains_submod(None, X, mixw, k)"
   ]
  },
  {
   "cell_type": "code",
   "execution_count": 149,
   "metadata": {
    "hidden": true
   },
   "outputs": [
    {
     "data": {
      "image/png": "[encoded data removed]",
      "text/plain": [
       "<Figure size 360x360 with 1 Axes>"
      ]
     },
     "metadata": {},
     "output_type": "display_data"
    }
   ],
   "source": [
    "plt.figure(figsize=(5,5))\n",
    "objplot(objectives, ground, \"darkorange\", \"sienna\")"
   ]
  },
  {
   "cell_type": "code",
   "execution_count": 148,
   "metadata": {
    "hidden": true
   },
   "outputs": [
    {
     "name": "stdout",
     "output_type": "stream",
     "text": [
      "0.000\n",
      "84.346\n",
      "98.494\n",
      "107.093\n",
      "113.569\n",
      "118.826\n",
      "123.244\n",
      "127.106\n",
      "130.542\n",
      "133.648\n",
      "136.481\n"
     ]
    }
   ],
   "source": [
    "for oo in objectives: print(\"{:.3f}\".format(oo))"
   ]
  },
  {
   "cell_type": "code",
   "execution_count": null,
   "metadata": {
    "hidden": true
   },
   "outputs": [],
   "source": []
  },
  {
   "cell_type": "markdown",
   "metadata": {
    "hidden": true
   },
   "source": [
    "---"
   ]
  },
  {
   "cell_type": "markdown",
   "metadata": {
    "heading_collapsed": true
   },
   "source": [
    "## DPP v/s Submodular"
   ]
  },
  {
   "cell_type": "code",
   "execution_count": null,
   "metadata": {
    "hidden": true
   },
   "outputs": [],
   "source": [
    "n = 500\n",
    "m = 72\n",
    "k = 25\n",
    "\n",
    "np.random.seed(0)\n",
    "X = np.random.random((n, m))\n",
    "\n",
    "np.random.seed(1)\n",
    "mixw = np.random.random(m); mixw = mixw/np.max(mixw)"
   ]
  },
  {
   "cell_type": "code",
   "execution_count": null,
   "metadata": {
    "hidden": true
   },
   "outputs": [],
   "source": [
    "S_d, objectives_d = greedygains_logsubmod(None, X, k)"
   ]
  },
  {
   "cell_type": "code",
   "execution_count": null,
   "metadata": {
    "hidden": true
   },
   "outputs": [],
   "source": [
    "S_s, objectives_s = greedygains_submod(None, X, mixw, k)"
   ]
  },
  {
   "cell_type": "code",
   "execution_count": null,
   "metadata": {
    "hidden": true
   },
   "outputs": [],
   "source": [
    "plt.figure(figsize=(12,5))\n",
    "\n",
    "plt.subplot(1,2,1)\n",
    "viztsne(X, S_d, \"purple\", \"DPP\", 30)\n",
    "plt.subplot(1,2,2)\n",
    "viztsne(X, S_s, \"seagreen\", \"SPP\", 30)"
   ]
  },
  {
   "cell_type": "markdown",
   "metadata": {
    "hidden": true
   },
   "source": [
    "---"
   ]
  },
  {
   "cell_type": "markdown",
   "metadata": {},
   "source": [
    "## Greedy v/s WeightedGreedy"
   ]
  },
  {
   "cell_type": "markdown",
   "metadata": {},
   "source": [
    "Compare:<br>\n",
    "Feasibility, output quality, computational complexity."
   ]
  },
  {
   "cell_type": "markdown",
   "metadata": {},
   "source": [
    "---"
   ]
  },
  {
   "cell_type": "markdown",
   "metadata": {},
   "source": [
    "<p style=\"background-color:#ff9933\">\n",
    "Constrained Submodular Max with Discrete Membership Quota\n",
    "</p>"
   ]
  },
  {
   "cell_type": "markdown",
   "metadata": {},
   "source": [
    "colors -- #ccff66 #ff99cc #ff9933"
   ]
  },
  {
   "cell_type": "markdown",
   "metadata": {},
   "source": [
    "Things to look out for:<br>\n",
    "1. More number of groups <--> more constraint on maximizing w.r.t. one group\n",
    "2. Having the groups correlating with features <--> making some group sinherently _better_ <--> making the quotas output worser solutions maybe.\n",
    "3. Try with the _learnt_ ILMSF weights.. that way you have a \"true\" submodular mixture utility. You could also use true labels!!\n",
    "4. Alternatively, \"assign\" groups via clustering."
   ]
  },
  {
   "cell_type": "code",
   "execution_count": 171,
   "metadata": {},
   "outputs": [],
   "source": [
    "n_samples = 40\n",
    "m_features = 2\n",
    "k_budget = 15\n",
    "\n",
    "np.random.seed(0)\n",
    "X = np.random.random((n_samples, m_features))\n",
    "\n",
    "np.random.seed(1)\n",
    "mixw = np.random.random(m_features); mixw = mixw/np.max(mixw)\n",
    "\n",
    "p_groups = 5\n",
    "memcolors = np.array([\"#11{:02X}dd\".format(pp) for pp in np.arange(0, 256, 256//p_groups)])\n",
    "quo = np.ones(p_groups)*2\n",
    "\n",
    "np.random.seed(2)\n",
    "Memvec = np.eye(p_groups)[np.random.choice(p_groups, n_samples)].astype(int)\n",
    "\n",
    "viztsne_DMQ(X, Memvec, memcolors, [], \"white\", \"None\", 30)\n",
    "Xemb = X.copy()\n",
    "for jj in range(p_groups):\n",
    "    memgrp = np.argwhere(Memvec[:,jj])\n",
    "    plt.scatter(Xemb[memgrp,0], Xemb[memgrp,1], c=memcolors[jj])\n",
    "#plt.scatter(Xemb[S,0], Xemb[S,1], facecolors=\"none\", edgecolors=setcolor, linewidth=2, label=setlabel)"
   ]
  },
  {
   "cell_type": "code",
   "execution_count": null,
   "metadata": {},
   "outputs": [],
   "source": []
  },
  {
   "cell_type": "code",
   "execution_count": 172,
   "metadata": {},
   "outputs": [],
   "source": [
    "n_samples = 200\n",
    "m_features = 2\n",
    "k_budget = 80\n",
    "\n",
    "np.random.seed(0)\n",
    "X = np.random.random((n_samples, m_features))\n",
    "\n",
    "np.random.seed(1)\n",
    "mixw = np.random.random(m_features); mixw = mixw/np.max(mixw)"
   ]
  },
  {
   "cell_type": "code",
   "execution_count": 173,
   "metadata": {},
   "outputs": [],
   "source": [
    "p_groups = 10\n",
    "memcolors = np.array([\"#11{:02X}dd\".format(pp) for pp in np.arange(0, 256, 256//p_groups)])\n",
    "\n",
    "quo = np.ones(p_groups)*2"
   ]
  },
  {
   "cell_type": "markdown",
   "metadata": {},
   "source": [
    "Random group assignment"
   ]
  },
  {
   "cell_type": "code",
   "execution_count": null,
   "metadata": {},
   "outputs": [],
   "source": [
    "np.random.seed(2)\n",
    "Memvec = np.eye(p_groups)[np.random.choice(p_groups, n_samples)].astype(int)\n",
    "\n",
    "print([len(np.argwhere(Memvec[:,jj])) for jj in range(p_groups)])"
   ]
  },
  {
   "cell_type": "markdown",
   "metadata": {},
   "source": [
    "Clustering-based group assignment"
   ]
  },
  {
   "cell_type": "code",
   "execution_count": 175,
   "metadata": {},
   "outputs": [
    {
     "data": {
      "image/png": "[encoded data removed]",
      "text/plain": [
       "<Figure size 432x288 with 1 Axes>"
      ]
     },
     "metadata": {},
     "output_type": "display_data"
    }
   ],
   "source": [
    "kmeans = KMeans(n_clusters=p_groups, random_state=0).fit(X)\n",
    "Memvec = np.eye(p_groups)[kmeans.labels_].astype(int)\n",
    "\n",
    "vizpca_DMQ(X, Memvec, memcolors, [], \"orange\", \"Group assignment\")"
   ]
  },
  {
   "cell_type": "code",
   "execution_count": null,
   "metadata": {},
   "outputs": [],
   "source": []
  },
  {
   "cell_type": "code",
   "execution_count": null,
   "metadata": {},
   "outputs": [],
   "source": []
  },
  {
   "cell_type": "code",
   "execution_count": null,
   "metadata": {},
   "outputs": [],
   "source": []
  },
  {
   "cell_type": "code",
   "execution_count": null,
   "metadata": {},
   "outputs": [],
   "source": []
  },
  {
   "cell_type": "code",
   "execution_count": null,
   "metadata": {},
   "outputs": [],
   "source": []
  },
  {
   "cell_type": "code",
   "execution_count": null,
   "metadata": {},
   "outputs": [],
   "source": []
  },
  {
   "cell_type": "code",
   "execution_count": null,
   "metadata": {},
   "outputs": [],
   "source": []
  },
  {
   "cell_type": "code",
   "execution_count": null,
   "metadata": {},
   "outputs": [],
   "source": []
  },
  {
   "cell_type": "code",
   "execution_count": null,
   "metadata": {},
   "outputs": [],
   "source": []
  },
  {
   "cell_type": "code",
   "execution_count": 176,
   "metadata": {},
   "outputs": [
    {
     "name": "stdout",
     "output_type": "stream",
     "text": [
      "Objective without quota 3.5356538695656083 \n",
      " [149 135 188  82  74  51 192  10 138   9 150 174  81 114  44   6  19 139\n",
      " 110 159 167 184  59 104  61 126 179  36  72 132 109  92 136   3 191  71\n",
      " 125  88  58  55 163 186 143 137  54  22  35  78  11 112   0  96   5 140\n",
      "  13 182 177  68 180 190  18 196   4  73  60 197  97 111 144  67  53  75\n",
      "  70 128  15  93   1  57 131 129]\n",
      "Objective with quota 3.5157594180281 \n",
      " [149 135  74 174  61  36 137  22  54   0  80 103 105 133 119  87 147  29\n",
      "  98  66  82 188  51 192  10 138   9 150  81 114  44   6 139 110  19 167\n",
      " 159 184 104  59 126 179  72 132 109  92 136   3  71 191 125  88  58  55\n",
      " 163 186 143  35 112  78  11  96  13 140   5 177 180 182  68 196  18 190\n",
      "   4  73 197 111  60  97  75 144]\n",
      "Objective of random selection 3.212589986504743 \n",
      " [ 45  87 144 156  45 195 116  66  46 128 157  63  75  35 181  33 130  83\n",
      "  48  54  32 156  55  31  28  74 136 109  99  32   8  84  50  79 169  64\n",
      " 108  24 113  20  44  15 158 142  19 154  86 135  53 175 110 188  34 100\n",
      "  32 147 195  24  94 166 175 133  79  63 113  87 160  42 194 158 145  68\n",
      "  64 188 145 167 163 156 150  38]\n"
     ]
    },
    {
     "data": {
      "image/png": "[encoded data removed]",
      "text/plain": [
       "<Figure size 1080x360 with 3 Axes>"
      ]
     },
     "metadata": {},
     "output_type": "display_data"
    }
   ],
   "source": [
    "S_s, objectives_s = greedygains_submod(None, X, mixw, k_budget)\n",
    "S_sq, objectives_sq = greedyquota_submod(None, X, mixw, Memvec, quo, k_budget)\n",
    "S_r = np.random.choice(n_samples, k_budget)\n",
    "objective_sr = submodgains(X, np.sum(X[S_r,:], axis=0), 0, None, mixw)\n",
    "\n",
    "print(\"Objective without quota\", objectives_s[-1], \"\\n\", S_s)\n",
    "print(\"Objective with quota\", objectives_sq[-1], \"\\n\", S_sq)\n",
    "print(\"Objective of random selection\", objective_sr, \"\\n\", S_r)\n",
    "\n",
    "plt.figure(figsize=(15,5))\n",
    "plt.subplot(1,3,1)\n",
    "vizbalance_MQ(np.arange(n_samples), Memvec, \"darkcyan\", quo, \"white\", S_s, \"darkorange\", \"SPP\")\n",
    "plt.subplot(1,3,2)\n",
    "vizbalance_MQ(np.arange(n_samples), Memvec, \"darkcyan\", quo, \"white\", S_sq, \"yellowgreen\", \"SPP-DMQ\")\n",
    "plt.subplot(1,3,3)\n",
    "vizbalance_MQ(np.arange(n_samples), Memvec, \"darkcyan\", quo, \"white\", S_r, \"indianred\", \"Random\")"
   ]
  },
  {
   "cell_type": "code",
   "execution_count": null,
   "metadata": {},
   "outputs": [],
   "source": []
  },
  {
   "cell_type": "code",
   "execution_count": 156,
   "metadata": {},
   "outputs": [
    {
     "data": {
      "image/png": "[encoded data removed]",
      "text/plain": [
       "<Figure size 864x360 with 2 Axes>"
      ]
     },
     "metadata": {},
     "output_type": "display_data"
    }
   ],
   "source": [
    "plt.figure(figsize=(12,5))\n",
    "\n",
    "plt.subplot(1,2,1)\n",
    "vizpca(X, \"darkcyan\", S_s, \"darkorange\", \"SPP\")\n",
    "plt.subplot(1,2,2)\n",
    "vizpca_DMQ(X, Memvec, memcolors, S_sq, \"yellowgreen\", \"SPP-DMQ\")"
   ]
  },
  {
   "cell_type": "code",
   "execution_count": 153,
   "metadata": {},
   "outputs": [
    {
     "data": {
      "image/png": "[encoded data removed]",
      "text/plain": [
       "<Figure size 1800x360 with 5 Axes>"
      ]
     },
     "metadata": {},
     "output_type": "display_data"
    }
   ],
   "source": [
    "viztsne_IMQ(X, Memvec, [\"lightskyblue\", \"darkcyan\"], S_sq, \"yellowgreen\", \"SPP-DMQ\", 30)"
   ]
  },
  {
   "cell_type": "code",
   "execution_count": null,
   "metadata": {},
   "outputs": [],
   "source": []
  },
  {
   "cell_type": "markdown",
   "metadata": {},
   "source": [
    "---"
   ]
  },
  {
   "cell_type": "code",
   "execution_count": null,
   "metadata": {},
   "outputs": [],
   "source": [
    "print(objectives_s)\n",
    "print(objectives_sq)"
   ]
  },
  {
   "cell_type": "code",
   "execution_count": null,
   "metadata": {},
   "outputs": [],
   "source": []
  },
  {
   "cell_type": "code",
   "execution_count": null,
   "metadata": {},
   "outputs": [],
   "source": [
    "def viztsne_IMQ(X, Memvec, memcolors, figrows, S, setcolor, setlabel, perp):\n",
    "    \"\"\" Given an nxm feature matrix X\n",
    "        A selection of indices S of size k < n\n",
    "        An n x p Membership matrix for p groups\n",
    "        Plot the selection's 2d TSNE\n",
    "    \"\"\"\n",
    "    \n",
    "    [n,m] = X.shape\n",
    "    p = Memvec.shape[1]\n",
    "    \n",
    "    Xemb = TSNE(n_components=2, random_state=256).fit_transform(X)\n",
    "    \n",
    "    plt.figure(figsize=((p//figrows+1)*5, figrows*5))\n",
    "    for jj in range(p):\n",
    "        plt.subplot(figrows,p//figrows+1,jj+1)\n",
    "        plt.scatter(Xemb[:,0], Xemb[:,1], c=memcolors[0])\n",
    "        \n",
    "        memgrp = np.argwhere(Memvec[:,jj])\n",
    "        plt.scatter(Xemb[memgrp,0], Xemb[memgrp,1], c=memcolors[1], label=\"group{}\".format(jj+1))\n",
    "        \n",
    "        plt.scatter(Xemb[S,0], Xemb[S,1], facecolors=\"none\", edgecolors=setcolor, linewidth=2, label=setlabel)\n",
    "        plt.legend()"
   ]
  },
  {
   "cell_type": "code",
   "execution_count": null,
   "metadata": {},
   "outputs": [],
   "source": []
  }
 ],
 "metadata": {
  "kernelspec": {
   "display_name": "Python 3",
   "language": "python",
   "name": "python3"
  },
  "language_info": {
   "codemirror_mode": {
    "name": "ipython",
    "version": 3
   },
   "file_extension": ".py",
   "mimetype": "text/x-python",
   "name": "python",
   "nbconvert_exporter": "python",
   "pygments_lexer": "ipython3",
   "version": "3.7.6"
  },
  "varInspector": {
   "cols": {
    "lenName": 16,
    "lenType": 16,
    "lenVar": 40
   },
   "kernels_config": {
    "python": {
     "delete_cmd_postfix": "",
     "delete_cmd_prefix": "del ",
     "library": "var_list.py",
     "varRefreshCmd": "print(var_dic_list())"
    },
    "r": {
     "delete_cmd_postfix": ") ",
     "delete_cmd_prefix": "rm(",
     "library": "var_list.r",
     "varRefreshCmd": "cat(var_dic_list()) "
    }
   },
   "types_to_exclude": [
    "module",
    "function",
    "builtin_function_or_method",
    "instance",
    "_Feature"
   ],
   "window_display": false
  }
 },
 "nbformat": 4,
 "nbformat_minor": 2
}
