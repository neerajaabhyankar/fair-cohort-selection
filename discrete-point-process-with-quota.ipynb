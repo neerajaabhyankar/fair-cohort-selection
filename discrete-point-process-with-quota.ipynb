{
 "cells": [
  {
   "cell_type": "markdown",
   "metadata": {},
   "source": [
    "## Imports"
   ]
  },
  {
   "cell_type": "code",
   "execution_count": 1,
   "metadata": {},
   "outputs": [],
   "source": [
    "import os\n",
    "import math\n",
    "\n",
    "import numpy as np\n",
    "from sklearn.manifold import TSNE\n",
    "from sklearn.cluster import KMeans\n",
    "from sklearn.decomposition import PCA\n",
    "import matplotlib.pyplot as plt\n",
    "from matplotlib.lines import Line2D\n",
    "import seaborn as sns\n",
    "sns.set()"
   ]
  },
  {
   "cell_type": "code",
   "execution_count": 2,
   "metadata": {},
   "outputs": [],
   "source": [
    "import mixtureofconcave as subm\n",
    "import determinantal as logsubm\n",
    "import plottingtools"
   ]
  },
  {
   "cell_type": "markdown",
   "metadata": {
    "heading_collapsed": true
   },
   "source": [
    "## Plottingtools"
   ]
  },
  {
   "cell_type": "code",
   "execution_count": null,
   "metadata": {
    "hidden": true
   },
   "outputs": [],
   "source": [
    "#%% Plot gain curves\n",
    "\n",
    "def objplot(objs, ground, setcolor, setcolorground=None):\n",
    "    krange = np.arange(len(objs))\n",
    "    \n",
    "    plt.plot(krange, objs, \"o\", c=setcolor, label=\"f(S)\")\n",
    "    if setcolorground is not None:\n",
    "        plt.plot(krange, [ground,]*len(objs), \"--\", c=setcolorground, label=\"ground set eval\")\n",
    "    plt.xlabel(\"set size\")\n",
    "    plt.legend(loc=2)\n",
    "\n",
    "def logobjplot(objs, ground, setcolor, setcolorground=None):\n",
    "    krange = np.arange(len(objs))\n",
    "    \n",
    "    plt.plot(krange, np.log(objs), \"o\", c=setcolor, label=\"log(f(S))\")\n",
    "    if setcolorground is not None:\n",
    "        plt.plot(krange, [np.log(ground),]*len(objs), \"--\", c=setcolorground, label=\"ground set eval\")\n",
    "    plt.xlabel(\"set size\")\n",
    "    plt.legend(loc=2)\n"
   ]
  },
  {
   "cell_type": "code",
   "execution_count": null,
   "metadata": {
    "hidden": true
   },
   "outputs": [],
   "source": [
    "#%% Plot TSNE of subset selection\n",
    "\n",
    "def viztsne(X, vcolor, S, setcolor, setlabel, perp):\n",
    "    \"\"\" Given an nxm feature matrix X\n",
    "        A selection of indices S of size k < n\n",
    "        Plot the selection's 2d TSNE\n",
    "    \"\"\"\n",
    "    \n",
    "    [n,m] = X.shape\n",
    "    \n",
    "    Xemb = TSNE(n_components=2, random_state=256).fit_transform(X)\n",
    "    \n",
    "    plt.scatter(Xemb[:,0], Xemb[:,1], c=vcolor)\n",
    "    plt.scatter(Xemb[S,0], Xemb[S,1], facecolors=\"none\", edgecolors=setcolor, linewidth=2, label=setlabel)\n",
    "    plt.legend()\n",
    "\n",
    "#%% Plot TSNE of subset selection -- with Discrete Memberships\n",
    "\n",
    "def viztsne_DMQ(X, Memvec, memcolors, S, setcolor, setlabel, perp):\n",
    "    \"\"\" Given an nxm feature matrix X\n",
    "        A selection of indices S of size k < n\n",
    "        An n x p Membership matrix for p groups\n",
    "        Plot the selection's 2d TSNE\n",
    "    \"\"\"\n",
    "    \n",
    "    [n,m] = X.shape\n",
    "    p = Memvec.shape[1]\n",
    "    \n",
    "    Xemb = TSNE(n_components=2, random_state=256).fit_transform(X)\n",
    "    \n",
    "    for jj in range(p):\n",
    "        memgrp = np.argwhere(Memvec[:,jj])\n",
    "        plt.scatter(Xemb[memgrp,0], Xemb[memgrp,1], c=memcolors[jj])\n",
    "    plt.scatter(Xemb[S,0], Xemb[S,1], facecolors=\"none\", edgecolors=setcolor, linewidth=2, label=setlabel)\n",
    "    plt.legend()\n",
    "\n",
    "#%% Plot TSNE of subset selection -- with Intersecting Memberships\n",
    "\n",
    "def viztsne_IMQ(X, Memvec, memcolors, S, setcolor, setlabel, perp):\n",
    "    \"\"\" Given an nxm feature matrix X\n",
    "        A selection of indices S of size k < n\n",
    "        An n x p Membership matrix for p groups\n",
    "        Plot the selection's 2d TSNE\n",
    "    \"\"\"\n",
    "    \n",
    "    [n,m] = X.shape\n",
    "    p = Memvec.shape[1]\n",
    "    \n",
    "    Xemb = TSNE(n_components=2, random_state=256).fit_transform(X)\n",
    "    \n",
    "    plt.figure(figsize=(p*5, 5))\n",
    "    for jj in range(p):\n",
    "        plt.subplot(1,p,jj+1)\n",
    "        plt.scatter(Xemb[:,0], Xemb[:,1], c=memcolors[0])\n",
    "        \n",
    "        memgrp = np.argwhere(Memvec[:,jj])\n",
    "        plt.scatter(Xemb[memgrp,0], Xemb[memgrp,1], c=memcolors[1], label=\"group{}\".format(jj+1))\n",
    "        \n",
    "        plt.scatter(Xemb[S,0], Xemb[S,1], facecolors=\"none\", edgecolors=setcolor, linewidth=2, label=setlabel)\n",
    "        plt.legend()\n"
   ]
  },
  {
   "cell_type": "code",
   "execution_count": null,
   "metadata": {
    "hidden": true
   },
   "outputs": [],
   "source": [
    "#%% Plot PCA reduction of subset selection\n",
    "\n",
    "def vizpca(X, vcolor, S, setcolor, setlabel=\"selection\"):\n",
    "    \"\"\" Given an nxm feature matrix X\n",
    "        A selection of indices S of size k < n\n",
    "        An n x p Membership matrix for p groups\n",
    "        Plot the selection's 2d PCA\n",
    "    \"\"\"\n",
    "    \n",
    "    [n,m] = X.shape\n",
    "    \n",
    "    Xemb = PCA(n_components=m).fit(X).transform(X)[:,:2]\n",
    "    \n",
    "    plt.scatter(Xemb[:,0], Xemb[:,1], c=vcolor)\n",
    "    plt.scatter(Xemb[S,0], Xemb[S,1], facecolors=\"none\", edgecolors=setcolor, linewidth=2, label=setlabel)\n",
    "    plt.legend()\n",
    "\n",
    "#%% Plot PCA reduction of subset selection -- with Discrete Memberships\n",
    "\n",
    "def vizpca_DMQ(X, Memvec, memcolors, S, setcolor, setlabel=\"selection\"):\n",
    "    \"\"\" Given an nxm feature matrix X\n",
    "        A selection of indices S of size k < n\n",
    "        An n x p Membership matrix for p groups\n",
    "        Plot the selection's 2d PCA\n",
    "    \"\"\"\n",
    "    \n",
    "    [n,m] = X.shape\n",
    "    p = Memvec.shape[1]\n",
    "    \n",
    "    Xemb = PCA(n_components=m).fit(X).transform(X)[:,:2]\n",
    "    \n",
    "    for jj in range(p):\n",
    "        memgrp = np.argwhere(Memvec[:,jj])\n",
    "        plt.scatter(Xemb[memgrp,0], Xemb[memgrp,1], c=memcolors[jj])\n",
    "    plt.scatter(Xemb[S,0], Xemb[S,1], facecolors=\"none\", edgecolors=setcolor, linewidth=2, label=setlabel)\n",
    "    plt.legend()\n"
   ]
  },
  {
   "cell_type": "code",
   "execution_count": null,
   "metadata": {
    "hidden": true
   },
   "outputs": [],
   "source": [
    "#%% Plot TSNE of subset selection -- with Feature Quotas\n",
    "\n",
    "#\n"
   ]
  },
  {
   "cell_type": "code",
   "execution_count": null,
   "metadata": {
    "hidden": true
   },
   "outputs": [],
   "source": [
    "#%% Plot Group Membership histograms of selections -- Membership Quota\n",
    "\n",
    "def vizbalance_MQ(V, Memvec, vcolor, quo, quocolor, S, setcolor, setlabel=\"selection\"):\n",
    "    \"\"\" Given a ground set (n)\n",
    "        With Membership Assignments (n x p)\n",
    "        And optionally a quota\n",
    "        A selection of indices S of size k < n\n",
    "        Plot the selection's 2d PCA\n",
    "    \"\"\"\n",
    "    \n",
    "    [n,p] = Memvec.shape\n",
    "    if V is None:\n",
    "        V = np.arange(n)\n",
    "    \n",
    "    Vgroups = np.zeros(p)\n",
    "    Sgroups = np.zeros(p)\n",
    "    \n",
    "    for jj in range(p):\n",
    "        Vgroups[jj] = np.sum(Memvec[V,jj])\n",
    "        Sgroups[jj] = np.sum(Memvec[S,jj])\n",
    "    \n",
    "    plt.bar(np.arange(p), Vgroups, color=vcolor)\n",
    "    plt.bar(np.arange(p), Sgroups, color=setcolor, label=setlabel)\n",
    "    plt.plot(np.arange(p), quo, marker=\"o\", linestyle=\"--\", c=quocolor)\n",
    "    plt.legend()\n"
   ]
  },
  {
   "cell_type": "code",
   "execution_count": null,
   "metadata": {
    "hidden": true
   },
   "outputs": [],
   "source": []
  },
  {
   "cell_type": "code",
   "execution_count": null,
   "metadata": {
    "hidden": true
   },
   "outputs": [],
   "source": []
  },
  {
   "cell_type": "markdown",
   "metadata": {
    "hidden": true
   },
   "source": [
    "---"
   ]
  },
  {
   "cell_type": "markdown",
   "metadata": {
    "heading_collapsed": true
   },
   "source": [
    "## Log-submodular"
   ]
  },
  {
   "cell_type": "markdown",
   "metadata": {
    "heading_collapsed": true,
    "hidden": true
   },
   "source": [
    "### DPP"
   ]
  },
  {
   "cell_type": "code",
   "execution_count": null,
   "metadata": {
    "hidden": true
   },
   "outputs": [],
   "source": [
    "#%% Marginal gain oracle of the utility\n",
    "\n",
    "def dppgains(K, AA, aa, detKA):\n",
    "    \"\"\" Returns det(K_{A+a}) - det(K_A)\n",
    "        BEING EXTREMELY CRUDE HERE,\n",
    "        A more efficient way might be possible\n",
    "    \"\"\"\n",
    "    \n",
    "    Aa = np.append(AA,aa)\n",
    "    KAa = np.atleast_2d(K[Aa])[:,Aa]\n",
    "    \n",
    "    return np.linalg.det(KAa) - detKA\n"
   ]
  },
  {
   "cell_type": "code",
   "execution_count": null,
   "metadata": {
    "hidden": true
   },
   "outputs": [],
   "source": [
    "#%% Plain old simple Greedy\n",
    "\n",
    "def greedygains_logsubmod(V, X, k):\n",
    "    \"\"\" For a given ground set, a feature matrix whose determinant defines the objective\n",
    "        (THIS IS FOR A DPP),\n",
    "        Returns the greedy selection and step-wise objective values\n",
    "        Over the addition of k items\n",
    "    \"\"\"\n",
    "    \n",
    "    K = X @ X.transpose()\n",
    "    n = K.shape[0]\n",
    "    \n",
    "    if V is None:\n",
    "        V = np.arange(n)\n",
    "    \n",
    "    objs = np.empty(k+1)\n",
    "    \n",
    "    A = np.empty(0, int)\n",
    "    ff = 1 # since this is a determinantal process and det(\\phi) = 1\n",
    "    objs[0] = ff\n",
    "    \n",
    "    for ii in range(k):\n",
    "        \n",
    "        maxgain = -100\n",
    "        greedyv = np.random.choice(V)\n",
    "        \n",
    "        for vidx in range(len(V)):\n",
    "            gain = dppgains(K, A, V[vidx], ff)\n",
    "            if gain > maxgain:\n",
    "                maxgain = gain\n",
    "                greedyv = V[vidx]\n",
    "        \n",
    "        # add element to A, remove from V, update gains\n",
    "        A = np.append(A, greedyv)\n",
    "        V = V[V!=greedyv]\n",
    "        ff += maxgain\n",
    "        objs[ii+1] = ff\n",
    "    \n",
    "    return A, objs\n"
   ]
  },
  {
   "cell_type": "markdown",
   "metadata": {
    "heading_collapsed": true,
    "hidden": true
   },
   "source": [
    "### Run"
   ]
  },
  {
   "cell_type": "code",
   "execution_count": null,
   "metadata": {
    "hidden": true
   },
   "outputs": [],
   "source": [
    "n = 50\n",
    "m = 200\n",
    "k = 10\n",
    "\n",
    "np.random.seed(0)\n",
    "X = np.random.random((n, m))\n",
    "\n",
    "K = X @ X.transpose()\n",
    "ground = np.linalg.det(K)"
   ]
  },
  {
   "cell_type": "code",
   "execution_count": null,
   "metadata": {
    "hidden": true
   },
   "outputs": [],
   "source": [
    "S, objectives = greedygains_logsubmod(None, X, k)"
   ]
  },
  {
   "cell_type": "code",
   "execution_count": null,
   "metadata": {
    "hidden": true
   },
   "outputs": [],
   "source": [
    "plt.figure(figsize=(10,5))\n",
    "\n",
    "plt.subplot(1,2,1)\n",
    "objplot(objectives, ground, \"mediumvioletred\")\n",
    "plt.subplot(1,2,2)\n",
    "logobjplot(objectives, ground, \"purple\", \"midnightblue\")"
   ]
  },
  {
   "cell_type": "code",
   "execution_count": null,
   "metadata": {
    "hidden": true
   },
   "outputs": [],
   "source": [
    "for oo in objectives: print(\"{:.3f}\".format(oo))"
   ]
  },
  {
   "cell_type": "markdown",
   "metadata": {
    "hidden": true
   },
   "source": [
    "---"
   ]
  },
  {
   "cell_type": "markdown",
   "metadata": {
    "heading_collapsed": true
   },
   "source": [
    "## Submodular"
   ]
  },
  {
   "cell_type": "markdown",
   "metadata": {
    "hidden": true
   },
   "source": [
    "### A weighted mixture of m(A)^{0.2}"
   ]
  },
  {
   "cell_type": "code",
   "execution_count": null,
   "metadata": {
    "hidden": true
   },
   "outputs": [],
   "source": [
    "#%% Marginal gain oracle of the utility\n",
    "\n",
    "def submodgains(X, modA, fA, aa, mixw):\n",
    "    \"\"\" Returns f(A+a) - f(A)\n",
    "        Where f(A) = \\sum_{j=1}^m (w_j * \\phi(\\sum_{i \\in A} X_{ij}))\n",
    "    \"\"\"\n",
    "    \n",
    "    modAa = modA + X[aa,:] if aa is not None else modA\n",
    "    \n",
    "    # options: modA**0.5, np.log(1+modA), (1-np.exp(-modA)), modA/(1+modA)\n",
    "    fAa = np.dot(mixw, modAa**0.2)\n",
    "    \n",
    "    return fAa - fA\n"
   ]
  },
  {
   "cell_type": "code",
   "execution_count": null,
   "metadata": {
    "hidden": true
   },
   "outputs": [],
   "source": [
    "#%% Plain old simple Greedy\n",
    "\n",
    "def greedygains_submod(V, X, mixw, k):\n",
    "    \"\"\" For a given ground set, a feature matrix and mixture weights which define the objective\n",
    "        (submodular),\n",
    "        Returns the greedy selection and step-wise objective values\n",
    "        Over the addition of k items\n",
    "    \"\"\"\n",
    "    \n",
    "    [n,m] = X.shape\n",
    "    \n",
    "    if V is None:\n",
    "        V = np.arange(n)\n",
    "    \n",
    "    objs = np.empty(k+1)\n",
    "    \n",
    "    A = np.empty(0, int)\n",
    "    modA = np.sum(X[A,:], axis=0)\n",
    "    ff = 0 # assume normalized for now\n",
    "    objs[0] = ff\n",
    "    \n",
    "    for ii in range(k):\n",
    "        \n",
    "        maxgain = -100\n",
    "        greedyv = np.random.choice(V)\n",
    "        \n",
    "        for vidx in range(len(V)):\n",
    "            gain = submodgains(X, modA, ff, V[vidx], mixw)\n",
    "            if gain > maxgain:\n",
    "                maxgain = gain\n",
    "                greedyv = V[vidx]\n",
    "        \n",
    "        # add element to A, remove from V, update gains\n",
    "        A = np.append(A, greedyv)\n",
    "        modA += X[greedyv,:]\n",
    "        V = V[V!=greedyv]\n",
    "        ff += maxgain\n",
    "        objs[ii+1] = ff\n",
    "    \n",
    "    return A, objs\n"
   ]
  },
  {
   "cell_type": "code",
   "execution_count": null,
   "metadata": {
    "hidden": true
   },
   "outputs": [],
   "source": [
    "#%% Greedy for DMQ\n",
    "\n",
    "def greedyDMquota_submod(V, X, mixw, Memvec, quo, k, verbose=False):\n",
    "    \"\"\" For the disjoint membership quota.\n",
    "        Memvec is an n x p one-hot matrix (exactly one 1 per row).\n",
    "        quo is a p x 1 vector.\n",
    "        Output a subset that satisfies the quotas.\n",
    "    \"\"\"\n",
    "    \n",
    "    [n,m] = X.shape\n",
    "    p = Memvec.shape[1]\n",
    "    \n",
    "    if V is None:\n",
    "        V = np.arange(n)\n",
    "    \n",
    "    for grp in range(p):\n",
    "        if np.sum(Memvec[:,grp]) < quo[grp]:\n",
    "            print(\"Not enough members in group {}, infeasible problem.\".format(grp))\n",
    "            return None, None\n",
    "        \n",
    "    objs = np.empty(k+1)\n",
    "    \n",
    "    A = np.empty(0, int)\n",
    "    modA = np.sum(X[A,:], axis=0)\n",
    "    ff = 0 # assume normalized for now\n",
    "    objs[0] = ff\n",
    "    \n",
    "    \"\"\" Quota-filling stage \"\"\"\n",
    "    \n",
    "    ii = 0\n",
    "    Vsat = np.copy(V) # only for use in the quota-filling stage\n",
    "    \n",
    "    # remove from Vsat groups with zero quota\n",
    "    for grp in range(p):\n",
    "        if quo[grp] < 1:\n",
    "            Vsat = np.delete(Vsat, np.argwhere(Memvec[Vsat,grp].flatten()))\n",
    "    \n",
    "    while ii < np.sum(quo):\n",
    "        \n",
    "        maxgain = -100\n",
    "        greedyv = np.random.choice(Vsat)\n",
    "        \n",
    "        for vidx in range(len(Vsat)):\n",
    "            gain = submodgains(X, modA, ff, Vsat[vidx], mixw)\n",
    "            if gain > maxgain:\n",
    "                maxgain = gain\n",
    "                greedyv = Vsat[vidx]\n",
    "        \n",
    "        # add element to A, update gains\n",
    "        A = np.append(A, greedyv)\n",
    "        modA += X[greedyv,:]\n",
    "        ff += maxgain\n",
    "        objs[ii+1] = ff\n",
    "        \n",
    "        # remove from V, remove all from Vsat if quota filled\n",
    "        V = V[V!=greedyv]\n",
    "        grp = np.argwhere(Memvec[greedyv])\n",
    "\n",
    "        if verbose:\n",
    "            print(\"selected element\", greedyv)\n",
    "            print(\"lies in group\", grp)\n",
    "            #print(\"new A\", A)\n",
    "\n",
    "        if np.sum(Memvec[A,grp]) >= quo[grp]:\n",
    "            if verbose:\n",
    "                print(\"\\n Quota for group {} satisfied by set {} \\n\".format(\n",
    "                        grp, A[Memvec[A,grp].flatten().astype(bool)])\n",
    "                     )\n",
    "                print(\"Deleting {}\".format(Vsat[Memvec[Vsat,grp].flatten().astype(bool)]))\n",
    "            Vsat = np.delete(Vsat, np.argwhere(Memvec[Vsat,grp].flatten()))\n",
    "        else:\n",
    "            if verbose:\n",
    "                print(\"Only deleting\", Vsat[Vsat==greedyv])\n",
    "            Vsat = Vsat[Vsat!=greedyv]\n",
    "        \n",
    "        ii += 1\n",
    "        \n",
    "    if verbose:\n",
    "        print(\"Quotas filled.\")\n",
    "        print(\"quotas : \", quo)\n",
    "        print(\"Representatives : \", [np.sum(Memvec[A,jj]) for jj in range(p)])\n",
    "    \n",
    "    \n",
    "    \"\"\" Regular greedy stage \"\"\"\n",
    "    \n",
    "    while ii < k:\n",
    "        \n",
    "        maxgain = -100\n",
    "        greedyv = np.random.choice(V)\n",
    "        \n",
    "        for vidx in range(len(V)):\n",
    "            gain = submodgains(X, modA, ff, V[vidx], mixw)\n",
    "            if gain > maxgain:\n",
    "                maxgain = gain\n",
    "                greedyv = V[vidx]\n",
    "        \n",
    "        # add element to A, remove from V, update gains\n",
    "        A = np.append(A, greedyv)\n",
    "        modA += X[greedyv,:]\n",
    "        V = V[V!=greedyv]\n",
    "        ff += maxgain\n",
    "        objs[ii+1] = ff\n",
    "        \n",
    "        if verbose:\n",
    "            print(\"selected element\", greedyv)\n",
    "            print(\"lies in group\", np.argwhere(Memvec[greedyv]))\n",
    "            #print(\"new A\", A)\n",
    "        \n",
    "        ii += 1\n",
    "    \n",
    "    return A, objs\n"
   ]
  },
  {
   "cell_type": "markdown",
   "metadata": {
    "heading_collapsed": true,
    "hidden": true
   },
   "source": [
    "### Run"
   ]
  },
  {
   "cell_type": "code",
   "execution_count": null,
   "metadata": {
    "hidden": true
   },
   "outputs": [],
   "source": [
    "n = 50\n",
    "m = 200\n",
    "k = 10\n",
    "\n",
    "np.random.seed(0)\n",
    "X = np.random.random((n, m))\n",
    "mixw = np.random.random(m); mixw = mixw/np.max(mixw)\n",
    "\n",
    "ground = np.dot(mixw, np.sum(X, axis=0)**0.2)"
   ]
  },
  {
   "cell_type": "code",
   "execution_count": null,
   "metadata": {
    "hidden": true
   },
   "outputs": [],
   "source": [
    "S, objectives = greedygains_submod(None, X, mixw, k)"
   ]
  },
  {
   "cell_type": "code",
   "execution_count": null,
   "metadata": {
    "hidden": true
   },
   "outputs": [],
   "source": [
    "plt.figure(figsize=(5,5))\n",
    "objplot(objectives, ground, \"darkorange\", \"sienna\")"
   ]
  },
  {
   "cell_type": "code",
   "execution_count": null,
   "metadata": {
    "hidden": true
   },
   "outputs": [],
   "source": [
    "for oo in objectives: print(\"{:.3f}\".format(oo))"
   ]
  },
  {
   "cell_type": "code",
   "execution_count": null,
   "metadata": {
    "hidden": true
   },
   "outputs": [],
   "source": []
  },
  {
   "cell_type": "markdown",
   "metadata": {
    "hidden": true
   },
   "source": [
    "---"
   ]
  },
  {
   "cell_type": "markdown",
   "metadata": {
    "heading_collapsed": true
   },
   "source": [
    "## DPP v/s Submodular"
   ]
  },
  {
   "cell_type": "code",
   "execution_count": null,
   "metadata": {
    "hidden": true
   },
   "outputs": [],
   "source": [
    "n = 500\n",
    "m = 72\n",
    "k = 25\n",
    "\n",
    "np.random.seed(0)\n",
    "X = np.random.random((n, m))\n",
    "\n",
    "np.random.seed(1)\n",
    "mixw = np.random.random(m); mixw = mixw/np.max(mixw)"
   ]
  },
  {
   "cell_type": "code",
   "execution_count": null,
   "metadata": {
    "hidden": true
   },
   "outputs": [],
   "source": [
    "S_d, objectives_d = greedygains_logsubmod(None, X, k)"
   ]
  },
  {
   "cell_type": "code",
   "execution_count": null,
   "metadata": {
    "hidden": true
   },
   "outputs": [],
   "source": [
    "S_s, objectives_s = greedygains_submod(None, X, mixw, k)"
   ]
  },
  {
   "cell_type": "code",
   "execution_count": null,
   "metadata": {
    "hidden": true
   },
   "outputs": [],
   "source": [
    "plt.figure(figsize=(12,5))\n",
    "\n",
    "plt.subplot(1,2,1)\n",
    "viztsne(X, S_d, \"purple\", \"DPP\", 30)\n",
    "plt.subplot(1,2,2)\n",
    "viztsne(X, S_s, \"seagreen\", \"SPP\", 30)"
   ]
  },
  {
   "cell_type": "markdown",
   "metadata": {
    "hidden": true
   },
   "source": [
    "---"
   ]
  },
  {
   "cell_type": "markdown",
   "metadata": {},
   "source": [
    "## Aadhi Quotoba mag Vithoba"
   ]
  },
  {
   "cell_type": "markdown",
   "metadata": {},
   "source": [
    "Compare:<br>\n",
    "Feasibility, output quality, computational complexity."
   ]
  },
  {
   "cell_type": "markdown",
   "metadata": {},
   "source": [
    "---"
   ]
  },
  {
   "cell_type": "markdown",
   "metadata": {},
   "source": [
    "<p style=\"background-color:#ff9933\">\n",
    "Constrained Submodular Max with Disjoint Membership Quota\n",
    "</p>"
   ]
  },
  {
   "cell_type": "markdown",
   "metadata": {},
   "source": [
    "Things to look out for:<br>\n",
    "1. More number of groups <--> more constraint on maximizing w.r.t. one group\n",
    "2. Having the groups correlating with features <--> making some group sinherently _better_ <--> making the quotas output worser solutions maybe.\n",
    "3. Try with the _learnt_ ILMSF weights.. that way you have a \"true\" submodular mixture utility. You could also use true labels!!\n",
    "4. Alternatively, \"assign\" groups via clustering."
   ]
  },
  {
   "cell_type": "code",
   "execution_count": null,
   "metadata": {},
   "outputs": [],
   "source": []
  },
  {
   "cell_type": "code",
   "execution_count": null,
   "metadata": {},
   "outputs": [],
   "source": []
  },
  {
   "cell_type": "code",
   "execution_count": null,
   "metadata": {},
   "outputs": [],
   "source": [
    "n_samples = 1000\n",
    "m_features = 2\n",
    "k_budget = 100\n",
    "\n",
    "np.random.seed(0)\n",
    "X = np.random.random((n_samples, m_features))\n",
    "\n",
    "np.random.seed(1)\n",
    "mixw = np.random.random(m_features); mixw = mixw/np.max(mixw)"
   ]
  },
  {
   "cell_type": "code",
   "execution_count": null,
   "metadata": {},
   "outputs": [],
   "source": [
    "p_groups = 20\n",
    "memcolors = np.array([\"#11{:02X}dd\".format(pp) for pp in np.arange(0, 256, 256//p_groups)])"
   ]
  },
  {
   "cell_type": "code",
   "execution_count": null,
   "metadata": {},
   "outputs": [],
   "source": [
    "#%% Random group assignment\n",
    "\n",
    "np.random.seed(2)\n",
    "Memvec = np.eye(p_groups)[np.random.choice(p_groups, n_samples)].astype(int)\n",
    "\n",
    "#print([len(np.argwhere(Memvec[:,jj])) for jj in range(p_groups)])\n",
    "print(np.sum(Memvec, axis=0))\n",
    "\n",
    "#%%Clustering-based group assignment\n",
    "\n",
    "# kmeans = KMeans(n_clusters=p_groups, random_state=0).fit(X)\n",
    "# Memvec = np.eye(p_groups)[kmeans.labels_].astype(int)\n",
    "\n",
    "#%% Viz\n",
    "\n",
    "# vizpca_DMQ(X, Memvec, memcolors, [], \"orange\", \"Group assignment\")"
   ]
  },
  {
   "cell_type": "code",
   "execution_count": null,
   "metadata": {},
   "outputs": [],
   "source": [
    "#%% Uniform quota\n",
    "\n",
    "quo = np.ones(p_groups)*3\n",
    "\n",
    "#%% Proportionate quota\n",
    "\n",
    "# quo = np.sum(Memvec, axis=0)*k_budget//n_samples - 3"
   ]
  },
  {
   "cell_type": "code",
   "execution_count": null,
   "metadata": {
    "scrolled": false
   },
   "outputs": [],
   "source": [
    "S_s, objectives_s = greedygains_submod(None, X, mixw, k_budget)\n",
    "S_sq, objectives_sq = greedyDMquota_submod(None, X, mixw, Memvec, quo, k_budget)\n",
    "S_r = np.random.choice(n_samples, k_budget)\n",
    "objective_sr = submodgains(X, np.sum(X[S_r,:], axis=0), 0, None, mixw)\n",
    "\n",
    "print(\"Objective without quota\", objectives_s[-1], \"\\n\", S_s)\n",
    "print(\"Objective with quota\", objectives_sq[-1], \"\\n\", S_sq)\n",
    "print(\"Objective of random selection\", objective_sr, \"\\n\", S_r)\n",
    "\n",
    "plt.figure(figsize=(15,5))\n",
    "plt.subplot(1,3,1)\n",
    "vizbalance_MQ(np.arange(n_samples), Memvec, \"darkcyan\", quo, \"white\", S_s, \"darkorange\", \"SPP\")\n",
    "plt.subplot(1,3,2)\n",
    "vizbalance_MQ(np.arange(n_samples), Memvec, \"darkcyan\", quo, \"white\", S_sq, \"yellowgreen\", \"SPP-DMQ\")\n",
    "plt.subplot(1,3,3)\n",
    "vizbalance_MQ(np.arange(n_samples), Memvec, \"darkcyan\", quo, \"white\", S_r, \"indianred\", \"Random\")"
   ]
  },
  {
   "cell_type": "code",
   "execution_count": null,
   "metadata": {},
   "outputs": [],
   "source": [
    "# S_sq, objectives_sq = greedyDMquota_submod(None, X, mixw, Memvec, quo, k_budget, True)"
   ]
  },
  {
   "cell_type": "markdown",
   "metadata": {},
   "source": [
    "= = = = "
   ]
  },
  {
   "cell_type": "markdown",
   "metadata": {},
   "source": [
    "Can we show that there is some benefit to adding _good_ elements _after_ we have met\n",
    "fairness (here, diversity?! if they are geometrically correlated...) constraints.\n",
    "\n",
    "We don't want to confuse _good_ with _diverse_. I mean we do want to pick the good ones among the diverse tho...<br>\n",
    "Is it like -- the group that is picked last gets more quality canditades chosen? and the one that goes first gets filled with token shit??"
   ]
  },
  {
   "cell_type": "markdown",
   "metadata": {},
   "source": [
    "= = = = "
   ]
  },
  {
   "cell_type": "code",
   "execution_count": null,
   "metadata": {},
   "outputs": [],
   "source": []
  },
  {
   "cell_type": "code",
   "execution_count": null,
   "metadata": {},
   "outputs": [],
   "source": [
    "plt.figure(figsize=(12,5))\n",
    "\n",
    "plt.subplot(1,2,1)\n",
    "vizpca(X, \"darkcyan\", S_s, \"darkorange\", \"SPP\")\n",
    "plt.subplot(1,2,2)\n",
    "vizpca_DMQ(X, Memvec, memcolors, S_sq, \"yellowgreen\", \"SPP-DMQ\")"
   ]
  },
  {
   "cell_type": "code",
   "execution_count": null,
   "metadata": {},
   "outputs": [],
   "source": [
    "viztsne_IMQ(X, Memvec, [\"lightskyblue\", \"darkcyan\"], S_sq, \"yellowgreen\", \"SPP-DMQ\", 30)"
   ]
  },
  {
   "cell_type": "code",
   "execution_count": null,
   "metadata": {},
   "outputs": [],
   "source": []
  },
  {
   "cell_type": "markdown",
   "metadata": {},
   "source": [
    "---"
   ]
  },
  {
   "cell_type": "markdown",
   "metadata": {},
   "source": [
    "<p style=\"background-color:#ff99cc\">\n",
    "Constrained Submodular Max with Intersecting Membership Quota\n",
    "</p>"
   ]
  },
  {
   "cell_type": "code",
   "execution_count": null,
   "metadata": {},
   "outputs": [],
   "source": []
  },
  {
   "cell_type": "code",
   "execution_count": 42,
   "metadata": {},
   "outputs": [],
   "source": [
    "[n,m] = X.shape\n",
    "p = Memvec.shape[1]\n",
    "k = k_budget\n",
    "\n",
    "V = np.arange(n)\n",
    "\n",
    "for grp in range(p):\n",
    "    if np.sum(Memvec[:,grp]) < quo[grp]:\n",
    "        print(\"Not enough members in group {}, infeasible problem.\".format(grp))\n",
    "\n",
    "objs = np.empty(k+1)\n",
    "\n",
    "A = np.empty(0, int)\n",
    "modA = np.sum(X[A,:], axis=0)\n",
    "ff = 0 # assume normalized for now\n",
    "objs[0] = ff"
   ]
  },
  {
   "cell_type": "code",
   "execution_count": 78,
   "metadata": {},
   "outputs": [
    {
     "data": {
      "text/plain": [
       "array([ 1,  2,  3,  4,  5,  6,  7, 10, 11, 12, 13, 14, 15, 16, 17, 18, 22,\n",
       "       23, 24, 26, 28, 30, 31, 34, 35, 37, 41, 42, 43, 44, 46, 47, 48, 49,\n",
       "       50, 53, 54, 55, 56, 58, 60, 61, 62, 63, 67, 68, 69, 70, 72, 73, 74,\n",
       "       76, 77, 78, 79, 83, 84, 85, 86, 87, 91, 94, 95, 97, 98, 99])"
      ]
     },
     "execution_count": 78,
     "metadata": {},
     "output_type": "execute_result"
    }
   ],
   "source": [
    "Vsat"
   ]
  },
  {
   "cell_type": "code",
   "execution_count": 77,
   "metadata": {},
   "outputs": [],
   "source": [
    "Memsat = np.copy(Memvec) # look at this like a \"saturation potential\"\n",
    "sat = np.ones_like(quo) # to keep track of what is satisfied\n",
    "\n",
    "# ignore groups with zero quota\n",
    "for grp in range(p):\n",
    "    if quo[grp] < 1:\n",
    "        Memsat[:,grp] = 0\n",
    "        sat[grp] = 0\n",
    "\n",
    "Vsat = V[np.sum(Memsat[V,:], axis=1)>0] # only for use in the quota-filling stage\n",
    "ii = 0"
   ]
  },
  {
   "cell_type": "code",
   "execution_count": 81,
   "metadata": {},
   "outputs": [],
   "source": [
    "maxgain = -100\n",
    "greedyv = np.random.choice(Vsat)\n",
    "\n",
    "for vidx in range(len(Vsat)):\n",
    "    gain = subm.submodgains(X, modA, ff, Vsat[vidx], mixw)\n",
    "    if gain > maxgain:\n",
    "        maxgain = gain\n",
    "        greedyv = Vsat[vidx]\n",
    "\n",
    "# add element to A, update gains\n",
    "A = np.append(A, greedyv)\n",
    "modA += X[greedyv,:]\n",
    "ff += maxgain\n",
    "objs[ii+1] = ff\n",
    "\n",
    "# remove from V, remove all from Vsat if quota filled\n",
    "V = V[V!=greedyv]"
   ]
  },
  {
   "cell_type": "code",
   "execution_count": 84,
   "metadata": {},
   "outputs": [
    {
     "data": {
      "text/plain": [
       "array([0, 0, 1, 1, 1])"
      ]
     },
     "execution_count": 84,
     "metadata": {},
     "output_type": "execute_result"
    }
   ],
   "source": [
    "Memsat[greedyv]"
   ]
  },
  {
   "cell_type": "code",
   "execution_count": 87,
   "metadata": {},
   "outputs": [],
   "source": [
    "grp = np.argwhere(Memsat[greedyv]).flatten()"
   ]
  },
  {
   "cell_type": "code",
   "execution_count": 88,
   "metadata": {},
   "outputs": [
    {
     "data": {
      "text/plain": [
       "array([2, 3, 4])"
      ]
     },
     "execution_count": 88,
     "metadata": {},
     "output_type": "execute_result"
    }
   ],
   "source": [
    "grp"
   ]
  },
  {
   "cell_type": "code",
   "execution_count": 76,
   "metadata": {},
   "outputs": [
    {
     "data": {
      "text/plain": [
       "array([1, 1, 1, 1, 1])"
      ]
     },
     "execution_count": 76,
     "metadata": {},
     "output_type": "execute_result"
    }
   ],
   "source": [
    "sat"
   ]
  },
  {
   "cell_type": "code",
   "execution_count": 73,
   "metadata": {},
   "outputs": [
    {
     "data": {
      "text/plain": [
       "array([2, 0, 3, 1, 2])"
      ]
     },
     "execution_count": 73,
     "metadata": {},
     "output_type": "execute_result"
    }
   ],
   "source": [
    "quo"
   ]
  },
  {
   "cell_type": "code",
   "execution_count": null,
   "metadata": {},
   "outputs": [],
   "source": [
    "#%% Greedy for IMQ\n",
    "\n",
    "def greedyIMquota_submod(V, X, mixw, Memvec, quo, k, verbose=False):\n",
    "    \"\"\" For the intersecting membership quota.\n",
    "        Memvec is an n x p membership matrix (any number of ones per row).\n",
    "        quo is a p x 1 vector.\n",
    "        Output a subset that satisfies the quotas.\n",
    "    \"\"\"\n",
    "    \n",
    "    [n,m] = X.shape\n",
    "    p = Memvec.shape[1]\n",
    "    \n",
    "    if V is None:\n",
    "        V = np.arange(n)\n",
    "    \n",
    "    for grp in range(p):\n",
    "        if np.sum(Memvec[:,grp]) < quo[grp]:\n",
    "            print(\"Not enough members in group {}, infeasible problem.\".format(grp))\n",
    "            return None, None\n",
    "        \n",
    "    objs = np.empty(k+1)\n",
    "    \n",
    "    A = np.empty(0, int)\n",
    "    modA = np.sum(X[A,:], axis=0)\n",
    "    ff = 0 # assume normalized for now\n",
    "    objs[0] = ff\n",
    "    \n",
    "    \"\"\" Quota-filling stage \"\"\"\n",
    "    \n",
    "    Memsat = np.copy(Memvec) # look at this like a \"saturation potential\"\n",
    "    sat = np.ones_like(quo) # to keep track of what is satisfied\n",
    "    \n",
    "    # ignore groups with zero quota\n",
    "    for grp in range(p):\n",
    "        if quo[grp] < 1:\n",
    "            Memsat[:,grp] = 0\n",
    "            sat[grp] = 0\n",
    "    \n",
    "    Vsat = V[np.sum(Memsat[V,:], axis=1)>0] # only for use in the quota-filling stage\n",
    "    ii = 0\n",
    "\n",
    "    while np.sum(sat) >= 0:\n",
    "        \n",
    "        maxgain = -100\n",
    "        greedyv = np.random.choice(Vsat)\n",
    "        \n",
    "        for vidx in range(len(Vsat)):\n",
    "            gain = submodgains(X, modA, ff, Vsat[vidx], mixw)\n",
    "            if gain > maxgain:\n",
    "                maxgain = gain\n",
    "                greedyv = Vsat[vidx]\n",
    "        \n",
    "        # add element to A, update gains\n",
    "        A = np.append(A, greedyv)\n",
    "        modA += X[greedyv,:]\n",
    "        ff += maxgain\n",
    "        objs[ii+1] = ff\n",
    "        \n",
    "        grps = np.argwhere(Memsat[greedyv]).flatten() # note that grp can be a list\n",
    "        \n",
    "        if verbose:\n",
    "            print(\"selected element\", greedyv)\n",
    "            print(\"lies in unsatisfied groups\", grps)\n",
    "            #print(\"new A\", A)\n",
    "        \n",
    "        # remove from V and Vsat\n",
    "        V = V[V!=greedyv]\n",
    "        Memsat[greedyv,:] = 0\n",
    "        Vsat = Vsat[Vsat!=greedyv]\n",
    "        \n",
    "        # also remove from Vsat those who have no uniqueness to offer\n",
    "        for grp in grps:\n",
    "            if np.sum(Memvec[A,grp]) >= quo[grp]:\n",
    "                sat[grp] = 0\n",
    "                Memsat[:,grp] = 0\n",
    "                if verbose:\n",
    "                    print(\"\\n Quota for group {} satisfied by set {} \\n\".format(\n",
    "                            grp, A[Memvec[A,grp].flatten().astype(bool)]\n",
    "                        ))\n",
    "                    print(\"Deleting {}\".format(\n",
    "                            Vsat[np.sum(Memsat[Vsat,:], axis=1)==0]\n",
    "                        ))\n",
    "                Vsat = Vsat[np.sum(Memsat[Vsat,:], axis=1)>0]\n",
    "        \n",
    "        ii += 1\n",
    "        \n",
    "    if verbose:\n",
    "        print(\"Quotas filled.\")\n",
    "        print(\"quotas : \", quo)\n",
    "        print(\"Representatives : \", [np.sum(Memvec[A,jj]) for jj in range(p)])\n",
    "    \n",
    "    \"\"\" Regular greedy stage \"\"\"\n",
    "    \n",
    "    while ii < k:\n",
    "        \n",
    "        maxgain = -100\n",
    "        greedyv = np.random.choice(V)\n",
    "        \n",
    "        for vidx in range(len(V)):\n",
    "            gain = submodgains(X, modA, ff, V[vidx], mixw)\n",
    "            if gain > maxgain:\n",
    "                maxgain = gain\n",
    "                greedyv = V[vidx]\n",
    "        \n",
    "        # add element to A, remove from V, update gains\n",
    "        A = np.append(A, greedyv)\n",
    "        modA += X[greedyv,:]\n",
    "        V = V[V!=greedyv]\n",
    "        ff += maxgain\n",
    "        objs[ii+1] = ff\n",
    "        \n",
    "        if verbose:\n",
    "            print(\"selected element\", greedyv)\n",
    "            print(\"lies in group\", np.argwhere(Memvec[greedyv]))\n",
    "            #print(\"new A\", A)\n",
    "        \n",
    "        ii += 1\n",
    "    \n",
    "    return A, objs\n"
   ]
  },
  {
   "cell_type": "code",
   "execution_count": null,
   "metadata": {},
   "outputs": [],
   "source": []
  },
  {
   "cell_type": "code",
   "execution_count": null,
   "metadata": {},
   "outputs": [],
   "source": []
  },
  {
   "cell_type": "code",
   "execution_count": null,
   "metadata": {},
   "outputs": [],
   "source": []
  },
  {
   "cell_type": "code",
   "execution_count": null,
   "metadata": {},
   "outputs": [],
   "source": []
  },
  {
   "cell_type": "code",
   "execution_count": 35,
   "metadata": {},
   "outputs": [],
   "source": [
    "n_samples = 100\n",
    "m_features = 2\n",
    "k_budget = 10\n",
    "\n",
    "np.random.seed(0)\n",
    "X = np.random.random((n_samples, m_features))\n",
    "\n",
    "np.random.seed(1)\n",
    "mixw = np.random.random(m_features); mixw = mixw/np.max(mixw)"
   ]
  },
  {
   "cell_type": "code",
   "execution_count": 36,
   "metadata": {},
   "outputs": [],
   "source": [
    "p_groups = 5\n",
    "memcolors = np.array([\"#11{:02X}dd\".format(pp) for pp in np.arange(0, 256, 256//p_groups)])"
   ]
  },
  {
   "cell_type": "code",
   "execution_count": 37,
   "metadata": {},
   "outputs": [
    {
     "name": "stdout",
     "output_type": "stream",
     "text": [
      "[20  4 34 19 24]\n"
     ]
    }
   ],
   "source": [
    "#%% Random group assignment\n",
    "\n",
    "np.random.seed(2)\n",
    "group_probabs = np.random.uniform(0.05, 0.45, p_groups)\n",
    "Memvec = np.zeros((n_samples, p_groups)).astype(int)\n",
    "for jj in range(p_groups):\n",
    "    Memvec[:,jj] = np.random.binomial(1, group_probabs[jj], n_samples)\n",
    "\n",
    "print(np.sum(Memvec, axis=0))\n",
    "\n",
    "#%%Clustering-based group assignment\n",
    "\n",
    "# kmeans = KMeans(n_clusters=p_groups, random_state=0).fit(X)\n",
    "# Memvec = np.eye(p_groups)[kmeans.labels_].astype(int)\n",
    "\n",
    "#%% Viz\n",
    "\n",
    "# vizpca_DMQ(X, Memvec, memcolors, [], \"orange\", \"Group assignment\")"
   ]
  },
  {
   "cell_type": "code",
   "execution_count": 38,
   "metadata": {},
   "outputs": [],
   "source": [
    "#%% Uniform quota\n",
    "\n",
    "# quo = np.ones(p_groups)*2\n",
    "\n",
    "#%% Proportionate quota\n",
    "\n",
    "quo = np.sum(Memvec, axis=0)*k_budget//n_samples"
   ]
  },
  {
   "cell_type": "code",
   "execution_count": null,
   "metadata": {
    "scrolled": false
   },
   "outputs": [],
   "source": [
    "S_s, objectives_s = greedygains_submod(None, X, mixw, k_budget)\n",
    "S_sq, objectives_sq = greedyquota_submod(None, X, mixw, Memvec, quo, k_budget)\n",
    "S_r = np.random.choice(n_samples, k_budget)\n",
    "objective_sr = submodgains(X, np.sum(X[S_r,:], axis=0), 0, None, mixw)\n",
    "\n",
    "print(\"Objective without quota\", objectives_s[-1], \"\\n\", S_s)\n",
    "print(\"Objective with quota\", objectives_sq[-1], \"\\n\", S_sq)\n",
    "print(\"Objective of random selection\", objective_sr, \"\\n\", S_r)\n",
    "\n",
    "plt.figure(figsize=(15,5))\n",
    "plt.subplot(1,3,1)\n",
    "vizbalance_MQ(np.arange(n_samples), Memvec, \"darkcyan\", quo, \"white\", S_s, \"darkorange\", \"SPP\")\n",
    "plt.subplot(1,3,2)\n",
    "vizbalance_MQ(np.arange(n_samples), Memvec, \"darkcyan\", quo, \"white\", S_sq, \"yellowgreen\", \"SPP-DMQ\")\n",
    "plt.subplot(1,3,3)\n",
    "vizbalance_MQ(np.arange(n_samples), Memvec, \"darkcyan\", quo, \"white\", S_r, \"indianred\", \"Random\")"
   ]
  },
  {
   "cell_type": "markdown",
   "metadata": {},
   "source": [
    "---"
   ]
  },
  {
   "cell_type": "markdown",
   "metadata": {},
   "source": [
    "<p style=\"background-color:#ccff66\">\n",
    "Constrained Submodular Max with Feature Quota\n",
    "</p>"
   ]
  },
  {
   "cell_type": "markdown",
   "metadata": {},
   "source": [
    "- - - "
   ]
  },
  {
   "cell_type": "code",
   "execution_count": null,
   "metadata": {},
   "outputs": [],
   "source": []
  },
  {
   "cell_type": "markdown",
   "metadata": {},
   "source": [
    "## Greedy v/s WeightedGreedy"
   ]
  }
 ],
 "metadata": {
  "kernelspec": {
   "display_name": "Python 3",
   "language": "python",
   "name": "python3"
  },
  "language_info": {
   "codemirror_mode": {
    "name": "ipython",
    "version": 3
   },
   "file_extension": ".py",
   "mimetype": "text/x-python",
   "name": "python",
   "nbconvert_exporter": "python",
   "pygments_lexer": "ipython3",
   "version": "3.7.6"
  },
  "varInspector": {
   "cols": {
    "lenName": 16,
    "lenType": 16,
    "lenVar": 40
   },
   "kernels_config": {
    "python": {
     "delete_cmd_postfix": "",
     "delete_cmd_prefix": "del ",
     "library": "var_list.py",
     "varRefreshCmd": "print(var_dic_list())"
    },
    "r": {
     "delete_cmd_postfix": ") ",
     "delete_cmd_prefix": "rm(",
     "library": "var_list.r",
     "varRefreshCmd": "cat(var_dic_list()) "
    }
   },
   "types_to_exclude": [
    "module",
    "function",
    "builtin_function_or_method",
    "instance",
    "_Feature"
   ],
   "window_display": false
  }
 },
 "nbformat": 4,
 "nbformat_minor": 2
}
