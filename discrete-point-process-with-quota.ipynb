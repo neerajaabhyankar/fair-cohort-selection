{
 "cells": [
  {
   "cell_type": "markdown",
   "metadata": {},
   "source": [
    "### Imports"
   ]
  },
  {
   "cell_type": "code",
   "execution_count": 1,
   "metadata": {},
   "outputs": [],
   "source": [
    "import os\n",
    "import math\n",
    "\n",
    "import numpy as np\n",
    "from sklearn.manifold import TSNE\n",
    "import matplotlib.pyplot as plt\n",
    "import seaborn as sns\n",
    "sns.set()"
   ]
  },
  {
   "cell_type": "markdown",
   "metadata": {},
   "source": [
    "---"
   ]
  },
  {
   "cell_type": "markdown",
   "metadata": {},
   "source": [
    "### Marginal gain oracle of the utility"
   ]
  },
  {
   "cell_type": "code",
   "execution_count": 88,
   "metadata": {},
   "outputs": [],
   "source": [
    "def dppgains(K, AA, aa, detKA):\n",
    "    \"\"\" Returns det(K_{A+a}) - det(K_A)\n",
    "        BEING EXTREMELY CRUDE HERE,\n",
    "        A more efficient way might be possible\n",
    "    \"\"\"\n",
    "    \n",
    "    Aa = np.append(AA,aa)\n",
    "    KAa = np.atleast_2d(K[Aa])[:,Aa]\n",
    "    \n",
    "    return np.linalg.det(KAa) - detKA"
   ]
  },
  {
   "cell_type": "code",
   "execution_count": 89,
   "metadata": {},
   "outputs": [],
   "source": [
    "def submodgains(X, modA, fA, aa, mixw):\n",
    "    \"\"\" Returns f(A+a) - f(A)\n",
    "        Where f(A) = \\sum_{j=1}^m (w_j * \\phi(\\sum_{i \\in A} X_{ij}))\n",
    "    \"\"\"\n",
    "    \n",
    "    modAa = modA + X[aa,:]\n",
    "    \n",
    "    # options: modA**0.5, np.log(1+modA), (1-np.exp(-modA)), modA/(1+modA)\n",
    "    fAa = np.dot(mixw, modAa**0.2)\n",
    "    \n",
    "    return fAa - fA"
   ]
  },
  {
   "cell_type": "markdown",
   "metadata": {},
   "source": [
    "### Plain old simple Greedy"
   ]
  },
  {
   "cell_type": "code",
   "execution_count": 90,
   "metadata": {},
   "outputs": [],
   "source": [
    "def greedygains_logsubmod(V, X, k):\n",
    "    \"\"\" For a given ground set, a feature matrix whose determinant defines the objective\n",
    "        (THIS IS FOR A DPP),\n",
    "        Returns the greedy selection and step-wise objective values\n",
    "        Over the addition of k items\n",
    "    \"\"\"\n",
    "    \n",
    "    K = X @ X.transpose()\n",
    "    n = K.shape[0]\n",
    "    \n",
    "    if V == None:\n",
    "        V = np.arange(n)\n",
    "    \n",
    "    objs = np.empty(k+1)\n",
    "    \n",
    "    A = np.empty(0, int)\n",
    "    ff = 1 # since this is a determinantal process and det(\\phi) = 1\n",
    "    objs[0] = ff\n",
    "    \n",
    "    for ii in range(k):\n",
    "        \n",
    "        maxgain = -100\n",
    "        greedyv = np.random.choice(V)\n",
    "        \n",
    "        for vidx in range(len(V)):\n",
    "            gain = dppgains(K, A, V[vidx], ff)\n",
    "            if gain > maxgain:\n",
    "                maxgain = gain\n",
    "                greedyv = V[vidx]\n",
    "        \n",
    "        # add element to A, remove from V, update gains\n",
    "        A = np.append(A, greedyv)\n",
    "        V = V[V!=greedyv]\n",
    "        ff += maxgain\n",
    "        objs[ii+1] = ff\n",
    "    \n",
    "    return A, objs"
   ]
  },
  {
   "cell_type": "code",
   "execution_count": 91,
   "metadata": {},
   "outputs": [],
   "source": [
    "def greedygains_submod(V, X, mixw, k):\n",
    "    \"\"\" For a given ground set, a feature matrix and mixture weights which define the objective\n",
    "        (submodular),\n",
    "        Returns the greedy selection and step-wise objective values\n",
    "        Over the addition of k items\n",
    "    \"\"\"\n",
    "    \n",
    "    K = X @ X.transpose()\n",
    "    [n,m] = X.shape\n",
    "    \n",
    "    if V == None:\n",
    "        V = np.arange(n)\n",
    "    \n",
    "    objs = np.empty(k+1)\n",
    "    \n",
    "    A = np.empty(0, int)\n",
    "    modA = np.sum(X[A,:], axis=0)\n",
    "    ff = 0 # assume normalized for now\n",
    "    objs[0] = ff\n",
    "    \n",
    "    for ii in range(k):\n",
    "        \n",
    "        maxgain = -100\n",
    "        greedyv = np.random.choice(V)\n",
    "        \n",
    "        for vidx in range(len(V)):\n",
    "            gain = submodgains(X, modA, ff, V[vidx], mixw)\n",
    "            if gain > maxgain:\n",
    "                maxgain = gain\n",
    "                greedyv = V[vidx]\n",
    "        \n",
    "        # add element to A, remove from V, update gains\n",
    "        A = np.append(A, greedyv)\n",
    "        modA += X[greedyv,:]\n",
    "        V = V[V!=greedyv]\n",
    "        ff += maxgain\n",
    "        objs[ii+1] = ff\n",
    "    \n",
    "    return A, objs"
   ]
  },
  {
   "cell_type": "markdown",
   "metadata": {},
   "source": [
    "---"
   ]
  },
  {
   "cell_type": "markdown",
   "metadata": {},
   "source": [
    "### Plot gain curves"
   ]
  },
  {
   "cell_type": "code",
   "execution_count": 98,
   "metadata": {},
   "outputs": [],
   "source": [
    "def objplot(objs, ground, setcolor, setcolorground=None):\n",
    "    krange = np.arange(len(objs))\n",
    "    \n",
    "    plt.plot(krange, objs, \"o\", c=setcolor, label=\"f(S)\")\n",
    "    if setcolorground is not None:\n",
    "        plt.plot(krange, [ground,]*len(objs), \"--\", c=setcolorground, label=\"ground set eval\")\n",
    "    plt.xlabel(\"set size\")\n",
    "    plt.legend(loc=2)\n",
    "    "
   ]
  },
  {
   "cell_type": "code",
   "execution_count": 93,
   "metadata": {},
   "outputs": [],
   "source": [
    "def logobjplot(objs, ground):\n",
    "    krange = np.arange(len(objs))\n",
    "    \n",
    "    plt.plot(krange, np.log(objs), \"o\", c=\"purple\", label=\"log(f(S))\")\n",
    "    plt.plot(krange, [np.log(ground),]*len(objs), \"--\", c=\"midnightblue\", label=\"ground set eval\")\n",
    "    plt.xlabel(\"set size\")\n",
    "    plt.legend(loc=1)\n",
    "    "
   ]
  },
  {
   "cell_type": "markdown",
   "metadata": {},
   "source": [
    "---"
   ]
  },
  {
   "cell_type": "markdown",
   "metadata": {},
   "source": [
    "### Execute for logsubmod"
   ]
  },
  {
   "cell_type": "code",
   "execution_count": 94,
   "metadata": {},
   "outputs": [],
   "source": [
    "n = 50\n",
    "m = 200\n",
    "k = 10\n",
    "\n",
    "np.random.seed(0)\n",
    "X = np.random.random((n, m))\n",
    "\n",
    "K = X @ X.transpose()\n",
    "ground = np.linalg.det(K)"
   ]
  },
  {
   "cell_type": "code",
   "execution_count": 95,
   "metadata": {},
   "outputs": [],
   "source": [
    "S, objectives = greedygains_logsubmod(None, X, k)"
   ]
  },
  {
   "cell_type": "code",
   "execution_count": 99,
   "metadata": {},
   "outputs": [
    {
     "data": {
      "image/png": "[encoded data removed]",
      "text/plain": [
       "<Figure size 720x360 with 2 Axes>"
      ]
     },
     "metadata": {
      "needs_background": "light"
     },
     "output_type": "display_data"
    }
   ],
   "source": [
    "plt.figure(figsize=(10,5))\n",
    "\n",
    "plt.subplot(1,2,1)\n",
    "objplot(objectives, ground, \"mediumvioletred\")\n",
    "plt.subplot(1,2,2)\n",
    "logobjplot(objectives, ground)"
   ]
  },
  {
   "cell_type": "code",
   "execution_count": 97,
   "metadata": {},
   "outputs": [
    {
     "name": "stdout",
     "output_type": "stream",
     "text": [
      "1.000\n",
      "74.940\n",
      "2486.709\n",
      "63555.810\n",
      "1487750.070\n",
      "31893574.032\n",
      "677766067.108\n",
      "14108951137.618\n",
      "276220495859.501\n",
      "5396136349373.081\n",
      "101255403669399.172\n"
     ]
    }
   ],
   "source": [
    "for oo in objectives: print(\"{:.3f}\".format(oo))"
   ]
  },
  {
   "cell_type": "markdown",
   "metadata": {},
   "source": [
    "---"
   ]
  },
  {
   "cell_type": "markdown",
   "metadata": {},
   "source": [
    "### Execute for submod"
   ]
  },
  {
   "cell_type": "code",
   "execution_count": 104,
   "metadata": {},
   "outputs": [],
   "source": [
    "n = 50\n",
    "m = 200\n",
    "k = 10\n",
    "\n",
    "np.random.seed(0)\n",
    "X = np.random.random((n, m))\n",
    "mixw = np.random.random(m); mixw = mixw/np.max(mixw)\n",
    "\n",
    "ground = np.dot(mixw, np.sum(X, axis=0)**0.2)"
   ]
  },
  {
   "cell_type": "code",
   "execution_count": 105,
   "metadata": {},
   "outputs": [],
   "source": [
    "S, objectives = greedygains_submod(None, X, mixw, k)"
   ]
  },
  {
   "cell_type": "code",
   "execution_count": 106,
   "metadata": {},
   "outputs": [
    {
     "data": {
      "image/png": "[encoded data removed]",
      "text/plain": [
       "<Figure size 360x360 with 1 Axes>"
      ]
     },
     "metadata": {
      "needs_background": "light"
     },
     "output_type": "display_data"
    }
   ],
   "source": [
    "plt.figure(figsize=(5,5))\n",
    "objplot(objectives, ground, \"seagreen\", \"darkolivegreen\")"
   ]
  },
  {
   "cell_type": "code",
   "execution_count": 108,
   "metadata": {},
   "outputs": [
    {
     "name": "stdout",
     "output_type": "stream",
     "text": [
      "0.000\n",
      "84.346\n",
      "98.494\n",
      "107.093\n",
      "113.569\n",
      "118.826\n",
      "123.244\n",
      "127.106\n",
      "130.542\n",
      "133.648\n",
      "136.481\n"
     ]
    }
   ],
   "source": [
    "for oo in objectives: print(\"{:.3f}\".format(oo))"
   ]
  },
  {
   "cell_type": "markdown",
   "metadata": {},
   "source": [
    "---"
   ]
  },
  {
   "cell_type": "markdown",
   "metadata": {},
   "source": [
    "### Visualize TSNE of selection"
   ]
  },
  {
   "cell_type": "code",
   "execution_count": 110,
   "metadata": {},
   "outputs": [],
   "source": [
    "def viztsne(X, S, setcolor, setlabel, perp):\n",
    "    \"\"\" Given an nxm feature matrix X\n",
    "        A selection of indices S of size k < n\n",
    "        Plot the selection's 2d TSNE\n",
    "    \"\"\"\n",
    "    \n",
    "    [n,m] = X.shape\n",
    "    Xemb = TSNE(n_components=2, random_state=256).fit_transform(X)\n",
    "    \n",
    "    plt.scatter(Xemb[:,0], Xemb[:,1], c=\"lightskyblue\")\n",
    "    plt.scatter(Xemb[S,0], Xemb[S,1], c=setcolor, label=setlabel)\n",
    "    plt.legend()\n",
    "    "
   ]
  },
  {
   "cell_type": "code",
   "execution_count": null,
   "metadata": {},
   "outputs": [],
   "source": []
  },
  {
   "cell_type": "markdown",
   "metadata": {},
   "source": [
    "---"
   ]
  },
  {
   "cell_type": "markdown",
   "metadata": {},
   "source": [
    "### DPP v/s Submodular"
   ]
  },
  {
   "cell_type": "code",
   "execution_count": 112,
   "metadata": {},
   "outputs": [],
   "source": [
    "n = 50\n",
    "m = 200\n",
    "k = 10\n",
    "\n",
    "np.random.seed(0)\n",
    "X = np.random.random((n, m))\n",
    "\n",
    "np.random.seed(1)\n",
    "mixw = np.random.random(m); mixw = mixw/np.max(mixw)"
   ]
  },
  {
   "cell_type": "code",
   "execution_count": null,
   "metadata": {},
   "outputs": [],
   "source": [
    "S_d, objectives_d = greedygains_logsubmod(None, X, k)"
   ]
  },
  {
   "cell_type": "code",
   "execution_count": null,
   "metadata": {},
   "outputs": [],
   "source": [
    "S_s, objectives_s = greedygains_submod(None, X, mixw, k)"
   ]
  },
  {
   "cell_type": "code",
   "execution_count": null,
   "metadata": {},
   "outputs": [],
   "source": [
    "plt.figure(figsize=(12,5))\n",
    "\n",
    "plt.subplot(1,2,1)\n",
    "viztsne(X, S_d, \"purple\", \"DPP\", 30)\n",
    "plt.subplot(1,2,2)\n",
    "viztsne(X, S_s, \"seagreen\", \"SPP\", 30)"
   ]
  },
  {
   "cell_type": "markdown",
   "metadata": {},
   "source": [
    "---"
   ]
  },
  {
   "cell_type": "markdown",
   "metadata": {},
   "source": [
    "### Greedy v/s WeightedGreedy"
   ]
  },
  {
   "cell_type": "markdown",
   "metadata": {},
   "source": [
    "Compare:<br>\n",
    "Feasibility, output quality, computational complexity."
   ]
  },
  {
   "cell_type": "code",
   "execution_count": null,
   "metadata": {},
   "outputs": [],
   "source": []
  },
  {
   "cell_type": "code",
   "execution_count": null,
   "metadata": {},
   "outputs": [],
   "source": []
  }
 ],
 "metadata": {
  "kernelspec": {
   "display_name": "Python 3",
   "language": "python",
   "name": "python3"
  },
  "language_info": {
   "codemirror_mode": {
    "name": "ipython",
    "version": 3
   },
   "file_extension": ".py",
   "mimetype": "text/x-python",
   "name": "python",
   "nbconvert_exporter": "python",
   "pygments_lexer": "ipython3",
   "version": "3.6.6"
  },
  "varInspector": {
   "cols": {
    "lenName": 16,
    "lenType": 16,
    "lenVar": 40
   },
   "kernels_config": {
    "python": {
     "delete_cmd_postfix": "",
     "delete_cmd_prefix": "del ",
     "library": "var_list.py",
     "varRefreshCmd": "print(var_dic_list())"
    },
    "r": {
     "delete_cmd_postfix": ") ",
     "delete_cmd_prefix": "rm(",
     "library": "var_list.r",
     "varRefreshCmd": "cat(var_dic_list()) "
    }
   },
   "types_to_exclude": [
    "module",
    "function",
    "builtin_function_or_method",
    "instance",
    "_Feature"
   ],
   "window_display": false
  }
 },
 "nbformat": 4,
 "nbformat_minor": 2
}
