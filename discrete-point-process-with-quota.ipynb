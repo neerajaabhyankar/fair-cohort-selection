{
 "cells": [
  {
   "cell_type": "markdown",
   "metadata": {},
   "source": [
    "## Imports"
   ]
  },
  {
   "cell_type": "code",
   "execution_count": 1,
   "metadata": {},
   "outputs": [],
   "source": [
    "import os\n",
    "import math\n",
    "\n",
    "import numpy as np\n",
    "from sklearn.manifold import TSNE\n",
    "from sklearn.cluster import KMeans\n",
    "import matplotlib.pyplot as plt\n",
    "from matplotlib.lines import Line2D\n",
    "import seaborn as sns\n",
    "sns.set()"
   ]
  },
  {
   "cell_type": "code",
   "execution_count": null,
   "metadata": {},
   "outputs": [],
   "source": [
    "# import mixtureofconcave as subm\n",
    "# import determinantal as logsubm\n",
    "# import plottingtools"
   ]
  },
  {
   "cell_type": "markdown",
   "metadata": {},
   "source": [
    "## Plottingtools"
   ]
  },
  {
   "cell_type": "code",
   "execution_count": 8,
   "metadata": {},
   "outputs": [],
   "source": [
    "#%% Plot gain curves\n",
    "\n",
    "def objplot(objs, ground, setcolor, setcolorground=None):\n",
    "    krange = np.arange(len(objs))\n",
    "    \n",
    "    plt.plot(krange, objs, \"o\", c=setcolor, label=\"f(S)\")\n",
    "    if setcolorground is not None:\n",
    "        plt.plot(krange, [ground,]*len(objs), \"--\", c=setcolorground, label=\"ground set eval\")\n",
    "    plt.xlabel(\"set size\")\n",
    "    plt.legend(loc=2)\n",
    "\n",
    "def logobjplot(objs, ground, setcolor, setcolorground=None):\n",
    "    krange = np.arange(len(objs))\n",
    "    \n",
    "    plt.plot(krange, np.log(objs), \"o\", c=setcolor, label=\"log(f(S))\")\n",
    "    if setcolorground is not None:\n",
    "        plt.plot(krange, [np.log(ground),]*len(objs), \"--\", c=setcolorground, label=\"ground set eval\")\n",
    "    plt.xlabel(\"set size\")\n",
    "    plt.legend(loc=2)\n"
   ]
  },
  {
   "cell_type": "code",
   "execution_count": 111,
   "metadata": {},
   "outputs": [],
   "source": [
    "#%% Plot TSNE of subset selection\n",
    "\n",
    "def viztsne(X, S, setcolor, setlabel, perp):\n",
    "    \"\"\" Given an nxm feature matrix X\n",
    "        A selection of indices S of size k < n\n",
    "        Plot the selection's 2d TSNE\n",
    "    \"\"\"\n",
    "    \n",
    "    [n,m] = X.shape\n",
    "    \n",
    "    Xemb = TSNE(n_components=2, random_state=256).fit_transform(X)\n",
    "    \n",
    "    plt.scatter(Xemb[:,0], Xemb[:,1], c=\"lightskyblue\")\n",
    "    plt.scatter(Xemb[S,0], Xemb[S,1], facecolors=\"none\", edgecolors=setcolor, linewidth=2, label=setlabel)\n",
    "    plt.legend()\n",
    "\n",
    "#%% Plot TSNE of subset selection -- with Discrete Memberships\n",
    "\n",
    "def viztsne_DMQ(X, Memvec, memcolors, S, setcolor, setlabel, perp):\n",
    "    \"\"\" Given an nxm feature matrix X\n",
    "        A selection of indices S of size k < n\n",
    "        An n x p Membership matrix for p groups\n",
    "        Plot the selection's 2d TSNE\n",
    "    \"\"\"\n",
    "    \n",
    "    [n,m] = X.shape\n",
    "    p = Memvec.shape[1]\n",
    "    \n",
    "    Xemb = TSNE(n_components=2, random_state=256).fit_transform(X)\n",
    "    \n",
    "    for jj in range(p):\n",
    "        memgrp = np.argwhere(Memvec[:,jj])\n",
    "        plt.scatter(Xemb[memgrp,0], Xemb[memgrp,1], c=memcolors[jj])\n",
    "    plt.scatter(Xemb[S,0], Xemb[S,1], facecolors=\"none\", edgecolors=setcolor, linewidth=2, label=setlabel)\n",
    "    plt.legend()\n",
    "\n",
    "#%% Plot TSNE of subset selection -- with Intersecting Memberships\n",
    "\n",
    "def viztsne_IMQ(X, Memvec, memcolors, S, setcolor, setlabel, perp):\n",
    "    \"\"\" Given an nxm feature matrix X\n",
    "        A selection of indices S of size k < n\n",
    "        An n x p Membership matrix for p groups\n",
    "        Plot the selection's 2d TSNE\n",
    "    \"\"\"\n",
    "    \n",
    "    [n,m] = X.shape\n",
    "    p = Memvec.shape[1]\n",
    "    \n",
    "    Xemb = TSNE(n_components=2, random_state=256).fit_transform(X)\n",
    "    \n",
    "    plt.figure(figsize=(p*5, 5))\n",
    "    for jj in range(p):\n",
    "        plt.subplot(1,p,jj+1)\n",
    "        plt.scatter(Xemb[:,0], Xemb[:,1], c=memcolors[0])\n",
    "        \n",
    "        memgrp = np.argwhere(Memvec[:,jj])\n",
    "        plt.scatter(Xemb[memgrp,0], Xemb[memgrp,1], c=memcolors[1], label=\"group{}\".format(jj+1))\n",
    "        \n",
    "        plt.scatter(Xemb[S,0], Xemb[S,1], facecolors=\"none\", edgecolors=setcolor, linewidth=2, label=setlabel)\n",
    "        plt.legend()\n"
   ]
  },
  {
   "cell_type": "code",
   "execution_count": 10,
   "metadata": {},
   "outputs": [],
   "source": [
    "#%% Plot PCA reduction of subset selection\n",
    "\n",
    "def vizpca(X, S, setcolor, setlabel):\n",
    "    \"\"\" Given an nxm feature matrix X\n",
    "        A selection of indices S of size k < n\n",
    "        An n x p Membership matrix for p groups\n",
    "        Plot the selection's 2d PCA\n",
    "    \"\"\"\n",
    "    \n",
    "    [n,m] = X.shape\n",
    "    \n",
    "    Xemb = PCA(n_components=m).fit(X).transform(X)[:,:2]\n",
    "    \n",
    "    plt.scatter(Xemb[:,0], Xemb[:,1], c=\"lightskyblue\")\n",
    "    plt.scatter(Xemb[S,0], Xemb[S,1], facecolors=\"none\", edgecolors=setcolor, linewidth=2, label=setlabel)\n",
    "    plt.legend()\n",
    "\n",
    "#%% Plot PCA reduction of subset selection -- with Discrete Memberships\n",
    "\n",
    "def vizpca_DMQ(X, Memvec, memcolors, S, setcolor, setlabel):\n",
    "    \"\"\" Given an nxm feature matrix X\n",
    "        A selection of indices S of size k < n\n",
    "        An n x p Membership matrix for p groups\n",
    "        Plot the selection's 2d PCA\n",
    "    \"\"\"\n",
    "    \n",
    "    [n,m] = X.shape\n",
    "    p = Memvec.shape[1]\n",
    "    \n",
    "    Xemb = PCA(n_components=m).fit(X).transform(X)[:,:2]\n",
    "    \n",
    "    for jj in range(p):\n",
    "        memgrp = np.argwhere(Memvec[:,jj])\n",
    "        plt.scatter(Xemb[memgrp,0], Xemb[memgrp,1], c=memcolors[jj])\n",
    "    plt.scatter(Xemb[S,0], Xemb[S,1], facecolors=\"none\", edgecolors=setcolor, linewidth=2, label=setlabel)\n",
    "    plt.legend()\n"
   ]
  },
  {
   "cell_type": "code",
   "execution_count": null,
   "metadata": {},
   "outputs": [],
   "source": [
    "#%% Plot TSNE of subset selection -- with Feature Quotas\n",
    "\n",
    "#\n"
   ]
  },
  {
   "cell_type": "code",
   "execution_count": 11,
   "metadata": {},
   "outputs": [],
   "source": [
    "#%% Plot Group Membership histograms of selections -- Membership Quota\n",
    "\n",
    "def vizbalance_MQ(V=None, Memvec, memcolors, S, setcolor, setlabel=\"selection\"):\n",
    "    \"\"\" Given a ground set (n)\n",
    "        With Membership Assignments (n x p)\n",
    "        A selection of indices S of size k < n\n",
    "        Plot the selection's 2d PCA\n",
    "    \"\"\"\n",
    "    \n",
    "    [n,m] = Memvec.shape\n",
    "    p = Memvec.shape[1]\n",
    "    \n",
    "    Xemb = PCA(n_components=m).fit(X).transform(X)[:,:2]\n",
    "    \n",
    "    for jj in range(p):\n",
    "        memgrp = np.argwhere(Memvec[:,jj])\n",
    "        plt.scatter(Xemb[memgrp,0], Xemb[memgrp,1], c=memcolors[jj])\n",
    "    plt.scatter(Xemb[S,0], Xemb[S,1], facecolors=\"none\", edgecolors=setcolor, linewidth=2, label=setlabel)\n",
    "    plt.legend()\n"
   ]
  },
  {
   "cell_type": "code",
   "execution_count": 12,
   "metadata": {},
   "outputs": [],
   "source": []
  },
  {
   "cell_type": "code",
   "execution_count": 13,
   "metadata": {},
   "outputs": [],
   "source": []
  },
  {
   "cell_type": "markdown",
   "metadata": {},
   "source": [
    "---"
   ]
  },
  {
   "cell_type": "markdown",
   "metadata": {},
   "source": [
    "## Log-submodular"
   ]
  },
  {
   "cell_type": "markdown",
   "metadata": {
    "heading_collapsed": true
   },
   "source": [
    "### DPP"
   ]
  },
  {
   "cell_type": "code",
   "execution_count": null,
   "metadata": {
    "hidden": true
   },
   "outputs": [],
   "source": [
    "#%% Marginal gain oracle of the utility\n",
    "\n",
    "def dppgains(K, AA, aa, detKA):\n",
    "    \"\"\" Returns det(K_{A+a}) - det(K_A)\n",
    "        BEING EXTREMELY CRUDE HERE,\n",
    "        A more efficient way might be possible\n",
    "    \"\"\"\n",
    "    \n",
    "    Aa = np.append(AA,aa)\n",
    "    KAa = np.atleast_2d(K[Aa])[:,Aa]\n",
    "    \n",
    "    return np.linalg.det(KAa) - detKA\n"
   ]
  },
  {
   "cell_type": "code",
   "execution_count": null,
   "metadata": {
    "hidden": true
   },
   "outputs": [],
   "source": [
    "#%% Plain old simple Greedy\n",
    "\n",
    "def greedygains_logsubmod(V, X, k):\n",
    "    \"\"\" For a given ground set, a feature matrix whose determinant defines the objective\n",
    "        (THIS IS FOR A DPP),\n",
    "        Returns the greedy selection and step-wise objective values\n",
    "        Over the addition of k items\n",
    "    \"\"\"\n",
    "    \n",
    "    K = X @ X.transpose()\n",
    "    n = K.shape[0]\n",
    "    \n",
    "    if V == None:\n",
    "        V = np.arange(n)\n",
    "    \n",
    "    objs = np.empty(k+1)\n",
    "    \n",
    "    A = np.empty(0, int)\n",
    "    ff = 1 # since this is a determinantal process and det(\\phi) = 1\n",
    "    objs[0] = ff\n",
    "    \n",
    "    for ii in range(k):\n",
    "        \n",
    "        maxgain = -100\n",
    "        greedyv = np.random.choice(V)\n",
    "        \n",
    "        for vidx in range(len(V)):\n",
    "            gain = dppgains(K, A, V[vidx], ff)\n",
    "            if gain > maxgain:\n",
    "                maxgain = gain\n",
    "                greedyv = V[vidx]\n",
    "        \n",
    "        # add element to A, remove from V, update gains\n",
    "        A = np.append(A, greedyv)\n",
    "        V = V[V!=greedyv]\n",
    "        ff += maxgain\n",
    "        objs[ii+1] = ff\n",
    "    \n",
    "    return A, objs\n"
   ]
  },
  {
   "cell_type": "markdown",
   "metadata": {
    "heading_collapsed": true
   },
   "source": [
    "### Run"
   ]
  },
  {
   "cell_type": "code",
   "execution_count": null,
   "metadata": {
    "hidden": true
   },
   "outputs": [],
   "source": [
    "n = 50\n",
    "m = 200\n",
    "k = 10\n",
    "\n",
    "np.random.seed(0)\n",
    "X = np.random.random((n, m))\n",
    "\n",
    "K = X @ X.transpose()\n",
    "ground = np.linalg.det(K)"
   ]
  },
  {
   "cell_type": "code",
   "execution_count": null,
   "metadata": {
    "hidden": true
   },
   "outputs": [],
   "source": [
    "S, objectives = greedygains_logsubmod(None, X, k)"
   ]
  },
  {
   "cell_type": "code",
   "execution_count": null,
   "metadata": {
    "hidden": true
   },
   "outputs": [],
   "source": [
    "plt.figure(figsize=(10,5))\n",
    "\n",
    "plt.subplot(1,2,1)\n",
    "objplot(objectives, ground, \"mediumvioletred\")\n",
    "plt.subplot(1,2,2)\n",
    "logobjplot(objectives, ground, \"purple\", \"midnightblue\")"
   ]
  },
  {
   "cell_type": "code",
   "execution_count": null,
   "metadata": {
    "hidden": true
   },
   "outputs": [],
   "source": [
    "for oo in objectives: print(\"{:.3f}\".format(oo))"
   ]
  },
  {
   "cell_type": "markdown",
   "metadata": {
    "hidden": true
   },
   "source": [
    "---"
   ]
  },
  {
   "cell_type": "markdown",
   "metadata": {},
   "source": [
    "## Submodular"
   ]
  },
  {
   "cell_type": "markdown",
   "metadata": {},
   "source": [
    "### A weighted mixture of m(A)^{0.2}"
   ]
  },
  {
   "cell_type": "code",
   "execution_count": 2,
   "metadata": {},
   "outputs": [],
   "source": [
    "#%% Marginal gain oracle of the utility\n",
    "\n",
    "def submodgains(X, modA, fA, aa, mixw):\n",
    "    \"\"\" Returns f(A+a) - f(A)\n",
    "        Where f(A) = \\sum_{j=1}^m (w_j * \\phi(\\sum_{i \\in A} X_{ij}))\n",
    "    \"\"\"\n",
    "    \n",
    "    modAa = modA + X[aa,:] if aa is not None else modA\n",
    "    \n",
    "    # options: modA**0.5, np.log(1+modA), (1-np.exp(-modA)), modA/(1+modA)\n",
    "    fAa = np.dot(mixw, modAa**0.2)\n",
    "    \n",
    "    return fAa - fA\n"
   ]
  },
  {
   "cell_type": "code",
   "execution_count": 3,
   "metadata": {},
   "outputs": [],
   "source": [
    "#%% Plain old simple Greedy\n",
    "\n",
    "def greedygains_submod(V, X, mixw, k):\n",
    "    \"\"\" For a given ground set, a feature matrix and mixture weights which define the objective\n",
    "        (submodular),\n",
    "        Returns the greedy selection and step-wise objective values\n",
    "        Over the addition of k items\n",
    "    \"\"\"\n",
    "    \n",
    "    [n,m] = X.shape\n",
    "    \n",
    "    if V == None:\n",
    "        V = np.arange(n)\n",
    "    \n",
    "    objs = np.empty(k+1)\n",
    "    \n",
    "    A = np.empty(0, int)\n",
    "    modA = np.sum(X[A,:], axis=0)\n",
    "    ff = 0 # assume normalized for now\n",
    "    objs[0] = ff\n",
    "    \n",
    "    for ii in range(k):\n",
    "        \n",
    "        maxgain = -100\n",
    "        greedyv = np.random.choice(V)\n",
    "        \n",
    "        for vidx in range(len(V)):\n",
    "            gain = submodgains(X, modA, ff, V[vidx], mixw)\n",
    "            if gain > maxgain:\n",
    "                maxgain = gain\n",
    "                greedyv = V[vidx]\n",
    "        \n",
    "        # add element to A, remove from V, update gains\n",
    "        A = np.append(A, greedyv)\n",
    "        modA += X[greedyv,:]\n",
    "        V = V[V!=greedyv]\n",
    "        ff += maxgain\n",
    "        objs[ii+1] = ff\n",
    "    \n",
    "    return A, objs\n"
   ]
  },
  {
   "cell_type": "code",
   "execution_count": 4,
   "metadata": {},
   "outputs": [],
   "source": [
    "#%% Greedy for DMQ\n",
    "\n",
    "def greedyquota_submod(V, X, mixw, Memvec, quo, k):\n",
    "    \"\"\" For the disjoint membership quota.\n",
    "        Memvec is an n x p one-hot matrix (exactly one 1 per row).\n",
    "        quo is a p x 1 vector.\n",
    "        Output a subset that satisfies the quotas.\n",
    "    \"\"\"\n",
    "    \n",
    "    [n,m] = X.shape\n",
    "    \n",
    "    if V == None:\n",
    "        V = np.arange(n)\n",
    "    \n",
    "    objs = np.empty(k+1)\n",
    "    \n",
    "    A = np.empty(0, int)\n",
    "    modA = np.sum(X[A,:], axis=0)\n",
    "    ff = 0 # assume normalized for now\n",
    "    objs[0] = ff\n",
    "    \n",
    "    \"\"\" Quota-filling stage \"\"\"\n",
    "    \n",
    "    ii = 0\n",
    "    Vsat = np.copy(V) # only for use in the quota-filling stage\n",
    "    while ii < np.sum(quo):\n",
    "        \n",
    "        maxgain = -100\n",
    "        greedyv = np.random.choice(Vsat)\n",
    "        \n",
    "        for vidx in range(len(Vsat)):\n",
    "            gain = submodgains(X, modA, ff, Vsat[vidx], mixw)\n",
    "            if gain > maxgain:\n",
    "                maxgain = gain\n",
    "                greedyv = Vsat[vidx]\n",
    "        \n",
    "        # add element to A, update gains\n",
    "        A = np.append(A, greedyv)\n",
    "        modA += X[greedyv,:]\n",
    "        ff += maxgain\n",
    "        objs[ii+1] = ff\n",
    "        \n",
    "        # remove from V, remove all from Vsat if quota filled\n",
    "        V = V[V!=greedyv]\n",
    "        grp = np.argwhere(Memvec[greedyv])\n",
    "        if np.sum(Memvec[A,grp]) >= quo[grp]:\n",
    "            Vsat = np.delete(V, np.argwhere(Memvec[:,grp]))\n",
    "        \n",
    "        ii += 1\n",
    "    \n",
    "    \n",
    "    \"\"\" Regular greedy stage \"\"\"\n",
    "    \n",
    "    while ii < k:\n",
    "        \n",
    "        maxgain = -100\n",
    "        greedyv = np.random.choice(V)\n",
    "        \n",
    "        for vidx in range(len(V)):\n",
    "            gain = submodgains(X, modA, ff, V[vidx], mixw)\n",
    "            if gain > maxgain:\n",
    "                maxgain = gain\n",
    "                greedyv = V[vidx]\n",
    "        \n",
    "        # add element to A, remove from V, update gains\n",
    "        A = np.append(A, greedyv)\n",
    "        modA += X[greedyv,:]\n",
    "        V = V[V!=greedyv]\n",
    "        ff += maxgain\n",
    "        objs[ii+1] = ff\n",
    "        \n",
    "        ii += 1\n",
    "    \n",
    "    return A, objs\n"
   ]
  },
  {
   "cell_type": "markdown",
   "metadata": {
    "heading_collapsed": true
   },
   "source": [
    "### Run"
   ]
  },
  {
   "cell_type": "code",
   "execution_count": null,
   "metadata": {
    "hidden": true
   },
   "outputs": [],
   "source": [
    "n = 50\n",
    "m = 200\n",
    "k = 10\n",
    "\n",
    "np.random.seed(0)\n",
    "X = np.random.random((n, m))\n",
    "mixw = np.random.random(m); mixw = mixw/np.max(mixw)\n",
    "\n",
    "ground = np.dot(mixw, np.sum(X, axis=0)**0.2)"
   ]
  },
  {
   "cell_type": "code",
   "execution_count": null,
   "metadata": {
    "hidden": true
   },
   "outputs": [],
   "source": [
    "S, objectives = greedygains_submod(None, X, mixw, k)"
   ]
  },
  {
   "cell_type": "code",
   "execution_count": null,
   "metadata": {
    "hidden": true
   },
   "outputs": [],
   "source": [
    "plt.figure(figsize=(5,5))\n",
    "objplot(objectives, ground, \"seagreen\", \"darkolivegreen\")"
   ]
  },
  {
   "cell_type": "code",
   "execution_count": null,
   "metadata": {
    "hidden": true
   },
   "outputs": [],
   "source": [
    "for oo in objectives: print(\"{:.3f}\".format(oo))"
   ]
  },
  {
   "cell_type": "code",
   "execution_count": null,
   "metadata": {
    "hidden": true
   },
   "outputs": [],
   "source": []
  },
  {
   "cell_type": "markdown",
   "metadata": {
    "hidden": true
   },
   "source": [
    "---"
   ]
  },
  {
   "cell_type": "markdown",
   "metadata": {
    "heading_collapsed": true
   },
   "source": [
    "## DPP v/s Submodular"
   ]
  },
  {
   "cell_type": "code",
   "execution_count": null,
   "metadata": {
    "hidden": true
   },
   "outputs": [],
   "source": [
    "n = 500\n",
    "m = 72\n",
    "k = 25\n",
    "\n",
    "np.random.seed(0)\n",
    "X = np.random.random((n, m))\n",
    "\n",
    "np.random.seed(1)\n",
    "mixw = np.random.random(m); mixw = mixw/np.max(mixw)"
   ]
  },
  {
   "cell_type": "code",
   "execution_count": null,
   "metadata": {
    "hidden": true
   },
   "outputs": [],
   "source": [
    "S_d, objectives_d = greedygains_logsubmod(None, X, k)"
   ]
  },
  {
   "cell_type": "code",
   "execution_count": null,
   "metadata": {
    "hidden": true
   },
   "outputs": [],
   "source": [
    "S_s, objectives_s = greedygains_submod(None, X, mixw, k)"
   ]
  },
  {
   "cell_type": "code",
   "execution_count": null,
   "metadata": {
    "hidden": true
   },
   "outputs": [],
   "source": [
    "plt.figure(figsize=(12,5))\n",
    "\n",
    "plt.subplot(1,2,1)\n",
    "viztsne(X, S_d, \"purple\", \"DPP\", 30)\n",
    "plt.subplot(1,2,2)\n",
    "viztsne(X, S_s, \"seagreen\", \"SPP\", 30)"
   ]
  },
  {
   "cell_type": "markdown",
   "metadata": {
    "hidden": true
   },
   "source": [
    "---"
   ]
  },
  {
   "cell_type": "markdown",
   "metadata": {},
   "source": [
    "## Greedy v/s WeightedGreedy"
   ]
  },
  {
   "cell_type": "markdown",
   "metadata": {},
   "source": [
    "Compare:<br>\n",
    "Feasibility, output quality, computational complexity."
   ]
  },
  {
   "cell_type": "markdown",
   "metadata": {},
   "source": [
    "---"
   ]
  },
  {
   "cell_type": "markdown",
   "metadata": {},
   "source": [
    "<p style=\"background-color:#ff9933\">\n",
    "Constrained Submodular Max with Discrete Membership Quota\n",
    "</p>"
   ]
  },
  {
   "cell_type": "markdown",
   "metadata": {},
   "source": [
    "colors -- #ccff66 #ff99cc #ff9933"
   ]
  },
  {
   "cell_type": "markdown",
   "metadata": {},
   "source": [
    "Things to look out for:<br>\n",
    "1. More number of groups <--> more constraint on maximizing w.r.t. one group\n",
    "2. Having the groups correlating with features <--> making some group sinherently _better_ <--> making the quotas output worser solutions maybe.\n",
    "3. Try with the _learnt_ ILMSF weights.. that way you have a \"true\" submodular mixture utility. You could also use true labels!!\n",
    "4. Alternatively, \"assign\" groups via clustering."
   ]
  },
  {
   "cell_type": "code",
   "execution_count": null,
   "metadata": {},
   "outputs": [],
   "source": [
    "n_samples = 200\n",
    "m_features = 2\n",
    "k_budget = 80\n",
    "\n",
    "np.random.seed(0)\n",
    "X = np.random.random((n_samples, m_features))\n",
    "\n",
    "np.random.seed(1)\n",
    "mixw = np.random.random(m_features); mixw = mixw/np.max(mixw)"
   ]
  },
  {
   "cell_type": "code",
   "execution_count": null,
   "metadata": {},
   "outputs": [],
   "source": [
    "p_groups = 10\n",
    "memcolors = np.array([\"#11{:02X}dd\".format(pp) for pp in np.arange(0, 256, 256//p_groups)])\n",
    "\n",
    "quo = np.ones(p_groups)*2"
   ]
  },
  {
   "cell_type": "markdown",
   "metadata": {},
   "source": [
    "Random group assignment"
   ]
  },
  {
   "cell_type": "code",
   "execution_count": null,
   "metadata": {},
   "outputs": [],
   "source": [
    "np.random.seed(2)\n",
    "Memvec = np.eye(p_groups)[np.random.choice(p_groups, n_samples)]\n",
    "\n",
    "print([len(np.argwhere(Memvec[:,jj])) for jj in range(p_groups)])"
   ]
  },
  {
   "cell_type": "markdown",
   "metadata": {},
   "source": [
    "Clustering-based group assignment"
   ]
  },
  {
   "cell_type": "code",
   "execution_count": null,
   "metadata": {},
   "outputs": [],
   "source": []
  },
  {
   "cell_type": "code",
   "execution_count": null,
   "metadata": {},
   "outputs": [],
   "source": [
    "kmeans = KMeans(n_clusters=p_groups, random_state=0).fit(X)\n",
    "Memvec = np.eye(p_groups)[kmeans.labels_]\n",
    "\n",
    "vizpca_DMQ(X, Memvec, memcolors, [], \"orange\", \"Group assignment\", 30)"
   ]
  },
  {
   "cell_type": "code",
   "execution_count": null,
   "metadata": {},
   "outputs": [],
   "source": []
  },
  {
   "cell_type": "code",
   "execution_count": null,
   "metadata": {},
   "outputs": [],
   "source": []
  },
  {
   "cell_type": "code",
   "execution_count": null,
   "metadata": {},
   "outputs": [],
   "source": []
  },
  {
   "cell_type": "code",
   "execution_count": null,
   "metadata": {},
   "outputs": [],
   "source": []
  },
  {
   "cell_type": "code",
   "execution_count": 14,
   "metadata": {},
   "outputs": [
    {
     "data": {
      "image/png": "[encoded data removed]",
      "text/plain": [
       "<Figure size 432x288 with 1 Axes>"
      ]
     },
     "metadata": {},
     "output_type": "display_data"
    }
   ],
   "source": [
    "n_samples = 40\n",
    "m_features = 2\n",
    "k_budget = 15\n",
    "\n",
    "np.random.seed(0)\n",
    "X = np.random.random((n_samples, m_features))\n",
    "\n",
    "np.random.seed(1)\n",
    "mixw = np.random.random(m_features); mixw = mixw/np.max(mixw)\n",
    "\n",
    "p_groups = 5\n",
    "memcolors = np.array([\"#11{:02X}dd\".format(pp) for pp in np.arange(0, 256, 256//p_groups)])\n",
    "quo = np.ones(p_groups)*2\n",
    "\n",
    "np.random.seed(2)\n",
    "Memvec = np.eye(p_groups)[np.random.choice(p_groups, n_samples)]\n",
    "viztsne_DMQ(X, Memvec, memcolors, [], \"orange\", \"Group assignment\", 30)"
   ]
  },
  {
   "cell_type": "code",
   "execution_count": 15,
   "metadata": {},
   "outputs": [
    {
     "data": {
      "image/png": "[encoded data removed]",
      "text/plain": [
       "<Figure size 432x288 with 1 Axes>"
      ]
     },
     "metadata": {},
     "output_type": "display_data"
    }
   ],
   "source": [
    "Xemb = X.copy()\n",
    "for jj in range(p_groups):\n",
    "    memgrp = np.argwhere(Memvec[:,jj])\n",
    "    plt.scatter(Xemb[memgrp,0], Xemb[memgrp,1], c=memcolors[jj])\n",
    "#plt.scatter(Xemb[S,0], Xemb[S,1], facecolors=\"none\", edgecolors=setcolor, linewidth=2, label=setlabel)"
   ]
  },
  {
   "cell_type": "code",
   "execution_count": null,
   "metadata": {},
   "outputs": [],
   "source": []
  },
  {
   "cell_type": "code",
   "execution_count": 107,
   "metadata": {},
   "outputs": [],
   "source": [
    "def greedyquota_submod(V, X, mixw, Memvec, quo, k ,verbose=False):\n",
    "    \"\"\" For the disjoint membership quota.\n",
    "        Memvec is an n x p one-hot matrix (exactly one 1 per row).\n",
    "        quo is a p x 1 vector.\n",
    "        Output a subset that satisfies the quotas.\n",
    "    \"\"\"\n",
    "    \n",
    "    [n,m] = X.shape\n",
    "    \n",
    "    if V == None:\n",
    "        V = np.arange(n)\n",
    "    \n",
    "    objs = np.empty(k+1)\n",
    "    \n",
    "    A = np.empty(0, int)\n",
    "    modA = np.sum(X[A,:], axis=0)\n",
    "    ff = 0 # assume normalized for now\n",
    "    objs[0] = ff\n",
    "    \n",
    "    \"\"\" Quota-filling stage \"\"\"\n",
    "    \n",
    "    ii = 0\n",
    "    Vsat = np.copy(V) # only for use in the quota-filling stage\n",
    "    while ii < np.sum(quo):\n",
    "        \n",
    "        maxgain = -100\n",
    "        greedyv = np.random.choice(Vsat)\n",
    "        \n",
    "        for vidx in range(len(Vsat)):\n",
    "            gain = submodgains(X, modA, ff, Vsat[vidx], mixw)\n",
    "            if gain > maxgain:\n",
    "                maxgain = gain\n",
    "                greedyv = Vsat[vidx]\n",
    "        \n",
    "        # add element to A, update gains\n",
    "        A = np.append(A, greedyv)\n",
    "        modA += X[greedyv,:]\n",
    "        ff += maxgain\n",
    "        objs[ii+1] = ff\n",
    "        \n",
    "        # remove from V, remove all from Vsat if quota filled\n",
    "        V = V[V!=greedyv]\n",
    "        grp = np.argwhere(Memvec[greedyv])\n",
    "\n",
    "        if verbose:\n",
    "            print(\"selected element\", greedyv)\n",
    "            print(\"lies in group\", grp)\n",
    "            print(\"new A\", A)\n",
    "\n",
    "        if np.sum(Memvec[A,grp]) >= quo[grp]:\n",
    "            if verbose:\n",
    "                print(\"Quota for group {} satisfied by set {}\".format(grp, A[Memvec[A,grp].flatten().astype(bool)]))\n",
    "                print(\"Deleting {}\".format(Vsat[Memvec[Vsat,grp].flatten().astype(bool)]))\n",
    "            Vsat = np.delete(Vsat, np.argwhere(Memvec[Vsat,grp].flatten()))\n",
    "        else:\n",
    "            if verbose:\n",
    "                print(\"Only deleting\", Vsat[Vsat==greedyv])\n",
    "            Vsat = Vsat[Vsat!=greedyv]\n",
    "\n",
    "        if verbose:\n",
    "            print(\"new Vsat\", Vsat)\n",
    "        \n",
    "        ii += 1\n",
    "    \n",
    "    \n",
    "    \"\"\" Regular greedy stage \"\"\"\n",
    "    \n",
    "    while ii < k:\n",
    "        \n",
    "        maxgain = -100\n",
    "        greedyv = np.random.choice(V)\n",
    "        \n",
    "        for vidx in range(len(V)):\n",
    "            gain = submodgains(X, modA, ff, V[vidx], mixw)\n",
    "            if gain > maxgain:\n",
    "                maxgain = gain\n",
    "                greedyv = V[vidx]\n",
    "        \n",
    "        # add element to A, remove from V, update gains\n",
    "        A = np.append(A, greedyv)\n",
    "        modA += X[greedyv,:]\n",
    "        V = V[V!=greedyv]\n",
    "        ff += maxgain\n",
    "        objs[ii+1] = ff\n",
    "        \n",
    "        if verbose:\n",
    "            print(\"selected element\", greedyv)\n",
    "            print(\"lies in group\", np.argwhere(Memvec[greedyv]))\n",
    "            print(\"new A\", A)\n",
    "        \n",
    "        ii += 1\n",
    "    \n",
    "    return A, objs"
   ]
  },
  {
   "cell_type": "code",
   "execution_count": null,
   "metadata": {},
   "outputs": [],
   "source": []
  },
  {
   "cell_type": "code",
   "execution_count": 108,
   "metadata": {},
   "outputs": [
    {
     "name": "stdout",
     "output_type": "stream",
     "text": [
      "selected element 10\n",
      "lies in group [[4]]\n",
      "new A [10]\n",
      "Only deleting [10]\n",
      "new Vsat [ 0  1  2  3  4  5  6  7  8  9 11 12 13 14 15 16 17 18 19 20 21 22 23 24\n",
      " 25 26 27 28 29 30 31 32 33 34 35 36 37 38 39]\n",
      "selected element 9\n",
      "lies in group [[2]]\n",
      "new A [10  9]\n",
      "Only deleting [9]\n",
      "new Vsat [ 0  1  2  3  4  5  6  7  8 11 12 13 14 15 16 17 18 19 20 21 22 23 24 25\n",
      " 26 27 28 29 30 31 32 33 34 35 36 37 38 39]\n",
      "selected element 6\n",
      "lies in group [[2]]\n",
      "new A [10  9  6]\n",
      "Quota for group [[2]] satisfied by set [9 6]\n",
      "Deleting [ 3  6 15 18 20 27 31 33 36 37]\n",
      "new Vsat [ 0  1  2  4  5  7  8 11 12 13 14 16 17 19 21 22 23 24 25 26 28 29 30 32\n",
      " 34 35 38 39]\n",
      "selected element 19\n",
      "lies in group [[1]]\n",
      "new A [10  9  6 19]\n",
      "Only deleting [19]\n",
      "new Vsat [ 0  1  2  4  5  7  8 11 12 13 14 16 17 21 22 23 24 25 26 28 29 30 32 34\n",
      " 35 38 39]\n",
      "selected element 22\n",
      "lies in group [[3]]\n",
      "new A [10  9  6 19 22]\n",
      "Only deleting [22]\n",
      "new Vsat [ 0  1  2  4  5  7  8 11 12 13 14 16 17 21 23 24 25 26 28 29 30 32 34 35\n",
      " 38 39]\n",
      "selected element 11\n",
      "lies in group [[4]]\n",
      "new A [10  9  6 19 22 11]\n",
      "Quota for group [[4]] satisfied by set [10 11]\n",
      "Deleting [11 12 14 21 24 29 30 32]\n",
      "new Vsat [ 0  1  2  4  5  7  8 13 16 17 23 25 26 28 34 35 38 39]\n",
      "selected element 35\n",
      "lies in group [[0]]\n",
      "new A [10  9  6 19 22 11 35]\n",
      "Only deleting [35]\n",
      "new Vsat [ 0  1  2  4  5  7  8 13 16 17 23 25 26 28 34 38 39]\n",
      "selected element 0\n",
      "lies in group [[0]]\n",
      "new A [10  9  6 19 22 11 35  0]\n",
      "Quota for group [[0]] satisfied by set [35  0]\n",
      "Deleting [ 0  1  5 23 28 39]\n",
      "new Vsat [ 2  4  7  8 13 16 17 25 26 34 38]\n",
      "selected element 13\n",
      "lies in group [[3]]\n",
      "new A [10  9  6 19 22 11 35  0 13]\n",
      "Quota for group [[3]] satisfied by set [22 13]\n",
      "Deleting [ 2  4  8 13 16 17 25]\n",
      "new Vsat [ 7 26 34 38]\n",
      "selected element 26\n",
      "lies in group [[1]]\n",
      "new A [10  9  6 19 22 11 35  0 13 26]\n",
      "Quota for group [[1]] satisfied by set [19 26]\n",
      "Deleting [ 7 26 34 38]\n",
      "new Vsat []\n",
      "selected element 36\n",
      "lies in group [[2]]\n",
      "new A [10  9  6 19 22 11 35  0 13 26 36]\n",
      "selected element 3\n",
      "lies in group [[2]]\n",
      "new A [10  9  6 19 22 11 35  0 13 26 36  3]\n",
      "selected element 5\n",
      "lies in group [[0]]\n",
      "new A [10  9  6 19 22 11 35  0 13 26 36  3  5]\n",
      "selected element 18\n",
      "lies in group [[2]]\n",
      "new A [10  9  6 19 22 11 35  0 13 26 36  3  5 18]\n",
      "selected element 4\n",
      "lies in group [[3]]\n",
      "new A [10  9  6 19 22 11 35  0 13 26 36  3  5 18  4]\n"
     ]
    },
    {
     "data": {
      "text/plain": [
       "(array([10,  9,  6, 19, 22, 11, 35,  0, 13, 26, 36,  3,  5, 18,  4]),\n",
       " array([0.        , 1.53259038, 1.75589748, 1.89543965, 2.0015707 ,\n",
       "        2.07743255, 2.14286593, 2.20076382, 2.25300434, 2.29990138,\n",
       "        2.32969935, 2.37696241, 2.42011726, 2.45483674, 2.48722179,\n",
       "        2.51679088]))"
      ]
     },
     "execution_count": 108,
     "metadata": {},
     "output_type": "execute_result"
    }
   ],
   "source": [
    "greedyquota_submod(None, X, mixw, Memvec, quo, k_budget, True)"
   ]
  },
  {
   "cell_type": "code",
   "execution_count": null,
   "metadata": {},
   "outputs": [],
   "source": []
  },
  {
   "cell_type": "code",
   "execution_count": null,
   "metadata": {},
   "outputs": [],
   "source": []
  },
  {
   "cell_type": "code",
   "execution_count": null,
   "metadata": {},
   "outputs": [],
   "source": []
  },
  {
   "cell_type": "code",
   "execution_count": null,
   "metadata": {},
   "outputs": [],
   "source": []
  },
  {
   "cell_type": "code",
   "execution_count": null,
   "metadata": {},
   "outputs": [],
   "source": []
  },
  {
   "cell_type": "code",
   "execution_count": 110,
   "metadata": {},
   "outputs": [
    {
     "name": "stdout",
     "output_type": "stream",
     "text": [
      "Objective without quota 2.524768802746858 \n",
      " [10  9  6 19 36  3 22 11 35  0 13  5 18  4 15]\n",
      "Objective with quota 2.5167908759785735 \n",
      " [10  9  6 19 22 11 35  0 13 26 36  3  5 18  4]\n",
      "Objective of random selection 2.4190960662749688 \n",
      " [31 17 25  9  0  8 10  8 37 35 35 14 15  6 33]\n"
     ]
    }
   ],
   "source": [
    "S_s, objectives_s = greedygains_submod(None, X, mixw, k_budget)\n",
    "S_sq, objectives_sq = greedyquota_submod(None, X, mixw, Memvec, quo, k_budget)\n",
    "S_r = np.random.choice(n_samples, k_budget)\n",
    "objective_sr = submodgains(X, np.sum(X[S_r,:], axis=0), 0, None, mixw)\n",
    "\n",
    "print(\"Objective without quota\", objectives_s[-1], \"\\n\", S_s)\n",
    "print(\"Objective with quota\", objectives_sq[-1], \"\\n\", S_sq)\n",
    "print(\"Objective of random selection\", objective_sr, \"\\n\", S_r)"
   ]
  },
  {
   "cell_type": "code",
   "execution_count": null,
   "metadata": {},
   "outputs": [],
   "source": [
    "plt.figure(figsize=(12,5))\n",
    "\n",
    "plt.subplot(1,2,1)\n",
    "# plottingtools.viztsne(X, S_s, \"darkolivegreen\", \"SPP\", 30)\n",
    "vizpca(X, S_s, \"darkolivegreen\", \"SPP\", 30)\n",
    "plt.subplot(1,2,2)\n",
    "# plottingtools.viztsne_DMQ(X, Memvec, memcolors, S_sq, \"orange\", \"SPP-DMQ\", 30)\n",
    "vizpca_DMQ(X, Memvec, memcolors, S_sq, \"orange\", \"SPP-DMQ\", 30)"
   ]
  },
  {
   "cell_type": "code",
   "execution_count": null,
   "metadata": {},
   "outputs": [],
   "source": [
    "Memvec[S_sq]"
   ]
  },
  {
   "cell_type": "code",
   "execution_count": null,
   "metadata": {},
   "outputs": [],
   "source": [
    "viztsne_IMQ(X, Memvec, [\"lightskyblue\", \"darkcyan\"], 3, S_sq, \"orange\", \"SPP-DMQ\", 30)"
   ]
  },
  {
   "cell_type": "markdown",
   "metadata": {},
   "source": [
    "---"
   ]
  },
  {
   "cell_type": "code",
   "execution_count": null,
   "metadata": {},
   "outputs": [],
   "source": [
    "print(objectives_s)\n",
    "print(objectives_sq)"
   ]
  },
  {
   "cell_type": "code",
   "execution_count": null,
   "metadata": {},
   "outputs": [],
   "source": []
  },
  {
   "cell_type": "code",
   "execution_count": null,
   "metadata": {},
   "outputs": [],
   "source": [
    "def viztsne_IMQ(X, Memvec, memcolors, figrows, S, setcolor, setlabel, perp):\n",
    "    \"\"\" Given an nxm feature matrix X\n",
    "        A selection of indices S of size k < n\n",
    "        An n x p Membership matrix for p groups\n",
    "        Plot the selection's 2d TSNE\n",
    "    \"\"\"\n",
    "    \n",
    "    [n,m] = X.shape\n",
    "    p = Memvec.shape[1]\n",
    "    \n",
    "    Xemb = TSNE(n_components=2, random_state=256).fit_transform(X)\n",
    "    \n",
    "    plt.figure(figsize=((p//figrows+1)*5, figrows*5))\n",
    "    for jj in range(p):\n",
    "        plt.subplot(figrows,p//figrows+1,jj+1)\n",
    "        plt.scatter(Xemb[:,0], Xemb[:,1], c=memcolors[0])\n",
    "        \n",
    "        memgrp = np.argwhere(Memvec[:,jj])\n",
    "        plt.scatter(Xemb[memgrp,0], Xemb[memgrp,1], c=memcolors[1], label=\"group{}\".format(jj+1))\n",
    "        \n",
    "        plt.scatter(Xemb[S,0], Xemb[S,1], facecolors=\"none\", edgecolors=setcolor, linewidth=2, label=setlabel)\n",
    "        plt.legend()"
   ]
  },
  {
   "cell_type": "code",
   "execution_count": null,
   "metadata": {},
   "outputs": [],
   "source": []
  }
 ],
 "metadata": {
  "kernelspec": {
   "display_name": "Python 3",
   "language": "python",
   "name": "python3"
  },
  "language_info": {
   "codemirror_mode": {
    "name": "ipython",
    "version": 3
   },
   "file_extension": ".py",
   "mimetype": "text/x-python",
   "name": "python",
   "nbconvert_exporter": "python",
   "pygments_lexer": "ipython3",
   "version": "3.7.6"
  },
  "varInspector": {
   "cols": {
    "lenName": 16,
    "lenType": 16,
    "lenVar": 40
   },
   "kernels_config": {
    "python": {
     "delete_cmd_postfix": "",
     "delete_cmd_prefix": "del ",
     "library": "var_list.py",
     "varRefreshCmd": "print(var_dic_list())"
    },
    "r": {
     "delete_cmd_postfix": ") ",
     "delete_cmd_prefix": "rm(",
     "library": "var_list.r",
     "varRefreshCmd": "cat(var_dic_list()) "
    }
   },
   "types_to_exclude": [
    "module",
    "function",
    "builtin_function_or_method",
    "instance",
    "_Feature"
   ],
   "window_display": false
  }
 },
 "nbformat": 4,
 "nbformat_minor": 2
}
