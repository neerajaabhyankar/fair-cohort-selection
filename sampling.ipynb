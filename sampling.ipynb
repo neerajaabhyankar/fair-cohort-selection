{
 "cells": [
  {
   "cell_type": "markdown",
   "metadata": {},
   "source": [
    "### Imports"
   ]
  },
  {
   "cell_type": "code",
   "execution_count": null,
   "metadata": {},
   "outputs": [],
   "source": [
    "import os\n",
    "import math\n",
    "\n",
    "import numpy as np\n",
    "import scipy.special as spec\n",
    "import itertools as itt\n",
    "\n",
    "import matplotlib.pyplot as plt\n",
    "from matplotlib.lines import Line2D\n",
    "import seaborn as sns\n",
    "sns.set()"
   ]
  },
  {
   "cell_type": "code",
   "execution_count": null,
   "metadata": {},
   "outputs": [],
   "source": [
    "# import mixtureofconcave as subm\n",
    "# import determinantal as logsubm\n",
    "# import plottingtools"
   ]
  },
  {
   "cell_type": "markdown",
   "metadata": {},
   "source": [
    "### KL divergence"
   ]
  },
  {
   "cell_type": "code",
   "execution_count": null,
   "metadata": {},
   "outputs": [],
   "source": [
    "def kld_part_uniform(n, k, groupcounts, groupbudgets):\n",
    "    \"\"\" Computes D_{KL}(\\rho^{\\textrm{part}}||\\rho^{\\textrm{card}})\n",
    "        = log( |{S : |S| = k}| / |{S : |S ∩ Vi| ≥ ki ∀ i ∈ [p]; |S| = k}| )\n",
    "        ... but this is independent of groupcounts!\n",
    "    \"\"\"\n",
    "    \n",
    "    assert np.sum(groupcounts) == n, \"group assignment not adding up\"\n",
    "    assert np.sum(groupbudgets) <= k, \"group budgets exceeding total\"\n",
    "    assert (groupbudgets <= groupcounts).all(), \"not enough members\"\n",
    "    \n",
    "    p = len(groupbudgets)\n",
    "    \n",
    "    # lol no! this is not correct!?\n",
    "    Zpart = 1\n",
    "    for jj in range(p):\n",
    "        Zpart *= spec.binom(groupcounts[jj], groupbudgets[jj])\n",
    "    \n",
    "    raise NotImplementedError\n",
    "    return np.log( spec.binom(n,k) / Zpart)"
   ]
  },
  {
   "cell_type": "code",
   "execution_count": null,
   "metadata": {},
   "outputs": [],
   "source": [
    "def kld_quota_uniform(n, k, groupcounts, groupbudgets):\n",
    "    \"\"\" Computes D_{KL}(\\rho^{\\textrm{quota}}||\\rho^{\\textrm{card}})\n",
    "    \"\"\"\n",
    "    \n",
    "    assert np.sum(groupcounts) == n, \"group assignment not adding up\"\n",
    "    assert np.sum(groupbudgets) <= k, \"group budgets exceeding total\"\n",
    "    assert (groupbudgets <= groupcounts).all(), \"not enough members\"\n",
    "    \n",
    "    p = len(groupbudgets)\n",
    "    ktilda = k - np.sum(groupbudgets)\n",
    "    \n",
    "    Zquota = 0\n",
    "    for spl in itt.combinations(np.arange(ktilda+p-1),p-1):\n",
    "        kspl = groupbudgets.copy()\n",
    "        kspl[0] += spl[0]\n",
    "        for jj in range(1, len(spl)):\n",
    "            kspl[jj] += spl[jj] - spl[jj-1] - 1\n",
    "        kspl[-1] += ktilda+p-1 - spl[-1] - 1\n",
    "        \n",
    "        assert np.sum(kspl) == k, \"split assignment not adding up\"\n",
    "        \n",
    "        Zspl = 1\n",
    "        for jj in range(p):\n",
    "            Zspl *= spec.binom(groupcounts[jj], kspl[jj])\n",
    "        \n",
    "        Zquota += Zspl\n",
    "    \n",
    "    raise NotImplementedError\n",
    "    return np.log( spec.binom(n,k) / Zquota)"
   ]
  },
  {
   "cell_type": "markdown",
   "metadata": {},
   "source": [
    "### Plot as a function of n"
   ]
  },
  {
   "cell_type": "code",
   "execution_count": null,
   "metadata": {},
   "outputs": [],
   "source": [
    "k = 15  # total selection capacity\n",
    "groupbudgets = np.array([2,3,1,2,4])  # k - sum(groupbudgets) = \"free\" places = 3\n",
    "p = len(groupbudgets)  # number of groups"
   ]
  },
  {
   "cell_type": "code",
   "execution_count": null,
   "metadata": {},
   "outputs": [],
   "source": [
    "# choices for |V|\n",
    "nn = np.array([20,50,100,150,200,250,300,350,400,450,500])"
   ]
  },
  {
   "cell_type": "code",
   "execution_count": null,
   "metadata": {},
   "outputs": [],
   "source": [
    "kldp = np.zeros_like(nn).astype(float)\n",
    "np.random.seed(0)\n",
    "for nidx in range(len(nn)):\n",
    "    # for a given |V| = nn[nidx],\n",
    "    groupcounts = np.array([0,]*p)  # all groups empty\n",
    "    for ii in range(nn[nidx]):\n",
    "        # assign each element to a random group\n",
    "        # note: we only care about the final counts,\n",
    "        # so we do't keep track of fungible elements\n",
    "        groupcounts[np.random.choice(p)] += 1\n",
    "    \n",
    "    # Compute D_{KL}(\\rho^{\\textrm{part}}||\\rho^{\\textrm{card}})\n",
    "    # ... but that's a distribution over all possible groupcounts!\n",
    "    # not an expression evaluated a a specific groupcount!\n",
    "    kldp[nidx] = kld_part_uniform(nn[nidx], k, groupcounts, groupbudgets)"
   ]
  },
  {
   "cell_type": "code",
   "execution_count": null,
   "metadata": {},
   "outputs": [],
   "source": [
    "kldq = np.zeros_like(nn).astype(float)\n",
    "np.random.seed(0)\n",
    "for nidx in range(len(nn)):\n",
    "    groupcounts = np.array([0,]*p)\n",
    "    for ii in range(nn[nidx]):\n",
    "        groupcounts[np.random.choice(p)] += 1\n",
    "        \n",
    "    kldq[nidx] = kld_quota_uniform(nn[nidx], k, groupcounts, groupbudgets)"
   ]
  },
  {
   "cell_type": "code",
   "execution_count": null,
   "metadata": {},
   "outputs": [],
   "source": [
    "kldp, kldq"
   ]
  },
  {
   "cell_type": "code",
   "execution_count": null,
   "metadata": {},
   "outputs": [],
   "source": [
    "plt.plot(nn, kldp, marker=\"o\", label=\"partition constraint\")\n",
    "plt.plot(nn, kldq, marker=\"o\", label=\"quota constraint\")\n",
    "plt.xlabel(\"|V|\")\n",
    "plt.title(\"KL divergence of uniform distributions over\")\n",
    "plt.xlim([-10,510])\n",
    "plt.legend()"
   ]
  },
  {
   "cell_type": "code",
   "execution_count": null,
   "metadata": {},
   "outputs": [],
   "source": []
  },
  {
   "cell_type": "markdown",
   "metadata": {},
   "source": [
    "### KL divergence -- DPP"
   ]
  },
  {
   "cell_type": "code",
   "execution_count": null,
   "metadata": {},
   "outputs": [],
   "source": [
    "def kld_part_uniform(n, k, groupcounts, groupbudgets):\n",
    "    \"\"\" Computes D_{KL}(\\rho^{\\textrm{part}}||\\rho^{\\textrm{card}})\n",
    "    \"\"\"\n",
    "    \n",
    "    assert np.sum(groupcounts) == n, \"group assignment not adding up\"\n",
    "    assert np.sum(groupbudgets) <= k, \"group budgets exceeding total\"\n",
    "    assert (groupbudgets <= groupcounts).all(), \"not enough members\"\n",
    "    \n",
    "    p = len(groupbudgets)\n",
    "    \n",
    "    Zpart = 1\n",
    "    for jj in range(p):\n",
    "        Zpart *= spec.binom(groupcounts[jj], groupbudgets[jj])\n",
    "    \n",
    "    return np.log( spec.binom(n,k) / Zpart)"
   ]
  },
  {
   "cell_type": "code",
   "execution_count": null,
   "metadata": {},
   "outputs": [],
   "source": [
    "def kld_quota_uniform(n, k, groupcounts, groupbudgets):\n",
    "    \"\"\" Computes D_{KL}(\\rho^{\\textrm{quota}}||\\rho^{\\textrm{card}})\n",
    "    \"\"\"\n",
    "    \n",
    "    assert np.sum(groupcounts) == n, \"group assignment not adding up\"\n",
    "    assert np.sum(groupbudgets) <= k, \"group budgets exceeding total\"\n",
    "    assert (groupbudgets <= groupcounts).all(), \"not enough members\"\n",
    "    \n",
    "    p = len(groupbudgets)\n",
    "    ktilda = k - np.sum(groupbudgets)\n",
    "    \n",
    "    Zquota = 0\n",
    "    for spl in itt.combinations(np.arange(ktilda+p-1),p-1):\n",
    "        kspl = groupbudgets.copy()\n",
    "        kspl[0] += spl[0]\n",
    "        for jj in range(1, len(spl)):\n",
    "            kspl[jj] += spl[jj] - spl[jj-1] - 1\n",
    "        kspl[-1] += ktilda+p-1 - spl[-1] - 1\n",
    "        \n",
    "        assert np.sum(kspl) == k, \"split assignment not adding up\"\n",
    "        \n",
    "        Zspl = 1\n",
    "        for jj in range(p):\n",
    "            Zspl *= spec.binom(groupcounts[jj], kspl[jj])\n",
    "        \n",
    "        Zquota += Zspl\n",
    "    \n",
    "    return np.log( spec.binom(n,k) / Zquota)"
   ]
  },
  {
   "cell_type": "code",
   "execution_count": null,
   "metadata": {},
   "outputs": [],
   "source": []
  },
  {
   "cell_type": "code",
   "execution_count": null,
   "metadata": {},
   "outputs": [],
   "source": []
  },
  {
   "cell_type": "markdown",
   "metadata": {},
   "source": [
    "The offline problem...<br>\n",
    "\n",
    "Datasets : just use self-curated ones (obtain features, scoring done by rouge or by a learnt submodular function)\n",
    "\n",
    "Define groups ourselves -- visually diverse spaces as groups, or some features (color, gender of humans) correlating with groups, or entirely random groups)<br>\n",
    "and test the performance of greedy variants"
   ]
  },
  {
   "cell_type": "markdown",
   "metadata": {},
   "source": [
    "The online problem... in particular, drawing fair samples from a distribution<br>\n",
    "\n",
    "I am close to showing that the ratio of the counts of allowed"
   ]
  },
  {
   "cell_type": "code",
   "execution_count": null,
   "metadata": {},
   "outputs": [],
   "source": []
  },
  {
   "cell_type": "code",
   "execution_count": null,
   "metadata": {},
   "outputs": [],
   "source": []
  }
 ],
 "metadata": {
  "kernelspec": {
   "display_name": "Python 3 (ipykernel)",
   "language": "python",
   "name": "python3"
  },
  "language_info": {
   "codemirror_mode": {
    "name": "ipython",
    "version": 3
   },
   "file_extension": ".py",
   "mimetype": "text/x-python",
   "name": "python",
   "nbconvert_exporter": "python",
   "pygments_lexer": "ipython3",
   "version": "3.8.9"
  },
  "varInspector": {
   "cols": {
    "lenName": 16,
    "lenType": 16,
    "lenVar": 40
   },
   "kernels_config": {
    "python": {
     "delete_cmd_postfix": "",
     "delete_cmd_prefix": "del ",
     "library": "var_list.py",
     "varRefreshCmd": "print(var_dic_list())"
    },
    "r": {
     "delete_cmd_postfix": ") ",
     "delete_cmd_prefix": "rm(",
     "library": "var_list.r",
     "varRefreshCmd": "cat(var_dic_list()) "
    }
   },
   "types_to_exclude": [
    "module",
    "function",
    "builtin_function_or_method",
    "instance",
    "_Feature"
   ],
   "window_display": false
  }
 },
 "nbformat": 4,
 "nbformat_minor": 4
}
