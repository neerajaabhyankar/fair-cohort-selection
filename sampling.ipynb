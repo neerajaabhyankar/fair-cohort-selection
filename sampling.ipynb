{
 "cells": [
  {
   "cell_type": "markdown",
   "metadata": {},
   "source": [
    "### Imports"
   ]
  },
  {
   "cell_type": "code",
   "execution_count": 1,
   "metadata": {},
   "outputs": [],
   "source": [
    "import os\n",
    "import math\n",
    "\n",
    "import numpy as np\n",
    "import scipy.special as spec\n",
    "import itertools as itt\n",
    "\n",
    "import matplotlib.pyplot as plt\n",
    "from matplotlib.lines import Line2D\n",
    "import seaborn as sns\n",
    "sns.set()"
   ]
  },
  {
   "cell_type": "code",
   "execution_count": null,
   "metadata": {},
   "outputs": [],
   "source": [
    "# import mixtureofconcave as subm\n",
    "# import determinantal as logsubm\n",
    "# import plottingtools"
   ]
  },
  {
   "cell_type": "markdown",
   "metadata": {},
   "source": [
    "### KL divergence -- uniform"
   ]
  },
  {
   "cell_type": "code",
   "execution_count": 2,
   "metadata": {},
   "outputs": [],
   "source": [
    "def kld_part_uniform(n, k, groupcounts, groupbudgets):\n",
    "    \"\"\" Computes D_{KL}(\\rho^{\\textrm{part}}||\\rho^{\\textrm{card}})\n",
    "    \"\"\"\n",
    "    \n",
    "    assert np.sum(groupcounts) == n, \"group assignment not adding up\"\n",
    "    assert np.sum(groupbudgets) <= k, \"group budgets exceeding total\"\n",
    "    assert (groupbudgets <= groupcounts).all(), \"not enough members\"\n",
    "    \n",
    "    p = len(groupbudgets)\n",
    "    \n",
    "    Zpart = 1\n",
    "    for jj in range(p):\n",
    "        Zpart *= spec.binom(groupcounts[jj], groupbudgets[jj])\n",
    "    \n",
    "    return np.log( spec.binom(n,k) / Zpart)"
   ]
  },
  {
   "cell_type": "code",
   "execution_count": 3,
   "metadata": {},
   "outputs": [],
   "source": [
    "def kld_quota_uniform(n, k, groupcounts, groupbudgets):\n",
    "    \"\"\" Computes D_{KL}(\\rho^{\\textrm{quota}}||\\rho^{\\textrm{card}})\n",
    "    \"\"\"\n",
    "    \n",
    "    assert np.sum(groupcounts) == n, \"group assignment not adding up\"\n",
    "    assert np.sum(groupbudgets) <= k, \"group budgets exceeding total\"\n",
    "    assert (groupbudgets <= groupcounts).all(), \"not enough members\"\n",
    "    \n",
    "    p = len(groupbudgets)\n",
    "    ktilda = k - np.sum(groupbudgets)\n",
    "    \n",
    "    Zquota = 0\n",
    "    for spl in itt.combinations(np.arange(ktilda+p-1),p-1):\n",
    "        kspl = groupbudgets.copy()\n",
    "        kspl[0] += spl[0]\n",
    "        for jj in range(1, len(spl)):\n",
    "            kspl[jj] += spl[jj] - spl[jj-1] - 1\n",
    "        kspl[-1] += ktilda+p-1 - spl[-1] - 1\n",
    "        \n",
    "        assert np.sum(kspl) == k, \"split assignment not adding up\"\n",
    "        \n",
    "        Zspl = 1\n",
    "        for jj in range(p):\n",
    "            Zspl *= spec.binom(groupcounts[jj], kspl[jj])\n",
    "        \n",
    "        Zquota += Zspl\n",
    "    \n",
    "    return np.log( spec.binom(n,k) / Zquota)"
   ]
  },
  {
   "cell_type": "markdown",
   "metadata": {},
   "source": [
    "### Plot as a function of n"
   ]
  },
  {
   "cell_type": "code",
   "execution_count": 4,
   "metadata": {},
   "outputs": [],
   "source": [
    "k = 15\n",
    "\n",
    "p = 5\n",
    "groupbudgets = np.array([2,3,1,2,4])"
   ]
  },
  {
   "cell_type": "code",
   "execution_count": 16,
   "metadata": {},
   "outputs": [],
   "source": [
    "#nn = np.array([30,50,70,90,110,130,150,170,190,210,230,250,500,1000])\n",
    "nn = np.array([20,50,100,150,200,250,300,350,400,450,500])"
   ]
  },
  {
   "cell_type": "code",
   "execution_count": 17,
   "metadata": {},
   "outputs": [],
   "source": [
    "kldp = np.zeros_like(nn).astype(float)\n",
    "np.random.seed(0)\n",
    "for nidx in range(len(nn)):\n",
    "    groupcounts = np.array([0,]*p)\n",
    "    for ii in range(nn[nidx]):\n",
    "        groupcounts[np.random.choice(p)] += 1\n",
    "        \n",
    "    kldp[nidx] = kld_part_uniform(nn[nidx], k, groupcounts, groupbudgets)"
   ]
  },
  {
   "cell_type": "code",
   "execution_count": 18,
   "metadata": {},
   "outputs": [],
   "source": [
    "kldq = np.zeros_like(nn).astype(float)\n",
    "np.random.seed(0)\n",
    "for nidx in range(len(nn)):\n",
    "    groupcounts = np.array([0,]*p)\n",
    "    for ii in range(nn[nidx]):\n",
    "        groupcounts[np.random.choice(p)] += 1\n",
    "        \n",
    "    kldq[nidx] = kld_quota_uniform(nn[nidx], k, groupcounts, groupbudgets)"
   ]
  },
  {
   "cell_type": "code",
   "execution_count": 19,
   "metadata": {},
   "outputs": [
    {
     "data": {
      "text/plain": [
       "(array([ 2.5587765 ,  8.84506639, 12.60990086, 12.64388908, 13.37337448,\n",
       "        14.06850246, 14.72442786, 15.28981402, 15.91202407, 15.98383309,\n",
       "        16.58978216]),\n",
       " array([1.61616846, 2.85282754, 3.93655458, 2.78699478, 2.58384488,\n",
       "        2.56284545, 2.66913676, 2.71794501, 2.91327512, 2.65497565,\n",
       "        2.90133573]))"
      ]
     },
     "execution_count": 19,
     "metadata": {},
     "output_type": "execute_result"
    }
   ],
   "source": [
    "kldp, kldq"
   ]
  },
  {
   "cell_type": "code",
   "execution_count": 20,
   "metadata": {},
   "outputs": [
    {
     "data": {
      "text/plain": [
       "<matplotlib.legend.Legend at 0x7f0766365610>"
      ]
     },
     "execution_count": 20,
     "metadata": {},
     "output_type": "execute_result"
    },
    {
     "data": {
      "image/png": "[encoded data removed]",
      "text/plain": [
       "<Figure size 432x288 with 1 Axes>"
      ]
     },
     "metadata": {},
     "output_type": "display_data"
    }
   ],
   "source": [
    "plt.plot(nn, kldp, marker=\"o\", label=\"partition constraint\")\n",
    "plt.plot(nn, kldq, marker=\"o\", label=\"quota constraint\")\n",
    "plt.xlabel(\"|V|\")\n",
    "plt.title(\"KL divergence of uniform distributions over\")\n",
    "plt.xlim([-10,510])\n",
    "plt.legend()"
   ]
  },
  {
   "cell_type": "code",
   "execution_count": null,
   "metadata": {},
   "outputs": [],
   "source": []
  },
  {
   "cell_type": "markdown",
   "metadata": {},
   "source": [
    "### KL divergence -- DPP"
   ]
  },
  {
   "cell_type": "code",
   "execution_count": null,
   "metadata": {},
   "outputs": [],
   "source": [
    "def kld_part_uniform(n, k, groupcounts, groupbudgets):\n",
    "    \"\"\" Computes D_{KL}(\\rho^{\\textrm{part}}||\\rho^{\\textrm{card}})\n",
    "    \"\"\"\n",
    "    \n",
    "    assert np.sum(groupcounts) == n, \"group assignment not adding up\"\n",
    "    assert np.sum(groupbudgets) <= k, \"group budgets exceeding total\"\n",
    "    assert (groupbudgets <= groupcounts).all(), \"not enough members\"\n",
    "    \n",
    "    p = len(groupbudgets)\n",
    "    \n",
    "    Zpart = 1\n",
    "    for jj in range(p):\n",
    "        Zpart *= spec.binom(groupcounts[jj], groupbudgets[jj])\n",
    "    \n",
    "    return np.log( spec.binom(n,k) / Zpart)"
   ]
  },
  {
   "cell_type": "code",
   "execution_count": null,
   "metadata": {},
   "outputs": [],
   "source": [
    "def kld_quota_uniform(n, k, groupcounts, groupbudgets):\n",
    "    \"\"\" Computes D_{KL}(\\rho^{\\textrm{quota}}||\\rho^{\\textrm{card}})\n",
    "    \"\"\"\n",
    "    \n",
    "    assert np.sum(groupcounts) == n, \"group assignment not adding up\"\n",
    "    assert np.sum(groupbudgets) <= k, \"group budgets exceeding total\"\n",
    "    assert (groupbudgets <= groupcounts).all(), \"not enough members\"\n",
    "    \n",
    "    p = len(groupbudgets)\n",
    "    ktilda = k - np.sum(groupbudgets)\n",
    "    \n",
    "    Zquota = 0\n",
    "    for spl in itt.combinations(np.arange(ktilda+p-1),p-1):\n",
    "        kspl = groupbudgets.copy()\n",
    "        kspl[0] += spl[0]\n",
    "        for jj in range(1, len(spl)):\n",
    "            kspl[jj] += spl[jj] - spl[jj-1] - 1\n",
    "        kspl[-1] += ktilda+p-1 - spl[-1] - 1\n",
    "        \n",
    "        assert np.sum(kspl) == k, \"split assignment not adding up\"\n",
    "        \n",
    "        Zspl = 1\n",
    "        for jj in range(p):\n",
    "            Zspl *= spec.binom(groupcounts[jj], kspl[jj])\n",
    "        \n",
    "        Zquota += Zspl\n",
    "    \n",
    "    return np.log( spec.binom(n,k) / Zquota)"
   ]
  },
  {
   "cell_type": "code",
   "execution_count": null,
   "metadata": {},
   "outputs": [],
   "source": []
  },
  {
   "cell_type": "code",
   "execution_count": null,
   "metadata": {},
   "outputs": [],
   "source": []
  },
  {
   "cell_type": "markdown",
   "metadata": {},
   "source": [
    "The offline problem...<br>\n",
    "\n",
    "Datasets : just use self-curated ones (obtain features, scoring done by rouge or by a learnt submodular function)\n",
    "\n",
    "Define groups ourselves -- visually diverse spaces as groups, or some features (color, gender of humans) correlating with groups, or entirely random groups)<br>\n",
    "and test the performance of greedy variants"
   ]
  },
  {
   "cell_type": "markdown",
   "metadata": {},
   "source": [
    "The online problem... in particular, drawing fair samples from a distribution<br>\n",
    "\n",
    "I am close to showing that the ratio of the counts of allowed"
   ]
  },
  {
   "cell_type": "code",
   "execution_count": null,
   "metadata": {},
   "outputs": [],
   "source": []
  }
 ],
 "metadata": {
  "kernelspec": {
   "display_name": "Python 3",
   "language": "python",
   "name": "python3"
  },
  "language_info": {
   "codemirror_mode": {
    "name": "ipython",
    "version": 3
   },
   "file_extension": ".py",
   "mimetype": "text/x-python",
   "name": "python",
   "nbconvert_exporter": "python",
   "pygments_lexer": "ipython3",
   "version": "3.7.6"
  },
  "varInspector": {
   "cols": {
    "lenName": 16,
    "lenType": 16,
    "lenVar": 40
   },
   "kernels_config": {
    "python": {
     "delete_cmd_postfix": "",
     "delete_cmd_prefix": "del ",
     "library": "var_list.py",
     "varRefreshCmd": "print(var_dic_list())"
    },
    "r": {
     "delete_cmd_postfix": ") ",
     "delete_cmd_prefix": "rm(",
     "library": "var_list.r",
     "varRefreshCmd": "cat(var_dic_list()) "
    }
   },
   "types_to_exclude": [
    "module",
    "function",
    "builtin_function_or_method",
    "instance",
    "_Feature"
   ],
   "window_display": false
  }
 },
 "nbformat": 4,
 "nbformat_minor": 4
}
